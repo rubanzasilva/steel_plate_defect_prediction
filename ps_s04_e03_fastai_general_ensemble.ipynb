{
  "metadata": {
    "colab": {
      "provenance": [],
      "gpuType": "T4",
      "include_colab_link": true
    },
    "kernelspec": {
      "name": "python3",
      "display_name": "Python 3",
      "language": "python"
    },
    "language_info": {
      "name": "python",
      "version": "3.10.13",
      "mimetype": "text/x-python",
      "codemirror_mode": {
        "name": "ipython",
        "version": 3
      },
      "pygments_lexer": "ipython3",
      "nbconvert_exporter": "python",
      "file_extension": ".py"
    },
    "accelerator": "GPU",
    "kaggle": {
      "accelerator": "gpu",
      "dataSources": [
        {
          "sourceId": 68699,
          "databundleVersionId": 7659021,
          "sourceType": "competition"
        }
      ],
      "dockerImageVersionId": 30664,
      "isInternetEnabled": true,
      "language": "python",
      "sourceType": "notebook",
      "isGpuEnabled": true
    }
  },
  "nbformat_minor": 0,
  "nbformat": 4,
  "cells": [
    {
      "cell_type": "markdown",
      "metadata": {
        "id": "view-in-github",
        "colab_type": "text"
      },
      "source": [
        "<a href=\"https://colab.research.google.com/github/rubanzasilva/steel_plate_defect_prediction/blob/test/ps_s04_e03_fastai_general_ensemble.ipynb\" target=\"_parent\"><img src=\"https://colab.research.google.com/assets/colab-badge.svg\" alt=\"Open In Colab\"/></a>"
      ]
    },
    {
      "source": [
        "\n",
        "# IMPORTANT: RUN THIS CELL IN ORDER TO IMPORT YOUR KAGGLE DATA SOURCES\n",
        "# TO THE CORRECT LOCATION (/kaggle/input) IN YOUR NOTEBOOK,\n",
        "# THEN FEEL FREE TO DELETE THIS CELL.\n",
        "# NOTE: THIS NOTEBOOK ENVIRONMENT DIFFERS FROM KAGGLE'S PYTHON\n",
        "# ENVIRONMENT SO THERE MAY BE MISSING LIBRARIES USED BY YOUR\n",
        "# NOTEBOOK.\n",
        "\n",
        "import os\n",
        "import sys\n",
        "from tempfile import NamedTemporaryFile\n",
        "from urllib.request import urlopen\n",
        "from urllib.parse import unquote, urlparse\n",
        "from urllib.error import HTTPError\n",
        "from zipfile import ZipFile\n",
        "import tarfile\n",
        "import shutil\n",
        "\n",
        "CHUNK_SIZE = 40960\n",
        "DATA_SOURCE_MAPPING = 'playground-series-s4e3:https%3A%2F%2Fstorage.googleapis.com%2Fkaggle-competitions-data%2Fkaggle-v2%2F68699%2F7659021%2Fbundle%2Farchive.zip%3FX-Goog-Algorithm%3DGOOG4-RSA-SHA256%26X-Goog-Credential%3Dgcp-kaggle-com%2540kaggle-161607.iam.gserviceaccount.com%252F20240329%252Fauto%252Fstorage%252Fgoog4_request%26X-Goog-Date%3D20240329T061145Z%26X-Goog-Expires%3D259200%26X-Goog-SignedHeaders%3Dhost%26X-Goog-Signature%3D1a27bcbf606e989aac1613e27baeb9173c78c211fd3895faa99f776a6b3c8cf623fa0dee4d8d6ddcd775068f5487ea04b6617aa79d9244e6574548f10c0475ceb7bc443ddabad4dbe75095a076f3f6cae4c2c270c9f3ef4a8aa96c292508c0fbda34264c9bcb27e8d3583c52f1b06743518bc45c15fb330d067b840a9919b121fe7d33d58e1d8deb54c1d52c46ad0809fc307e7867fc4683416f92499a9332508d8cbb4f44a6c995ff9d7a2063c953d0a2ff4a663bc6d71e83e13a63379e387855e3d45943ccc7afd74db3bcb3456dbd4b338dae304d2614b4d24db32df229a005b4c74848cbebb056f93e0caac109c915454d14a337893be33fb8251f4c29a8'\n",
        "\n",
        "KAGGLE_INPUT_PATH='/kaggle/input'\n",
        "KAGGLE_WORKING_PATH='/kaggle/working'\n",
        "KAGGLE_SYMLINK='kaggle'\n",
        "\n",
        "!umount /kaggle/input/ 2> /dev/null\n",
        "shutil.rmtree('/kaggle/input', ignore_errors=True)\n",
        "os.makedirs(KAGGLE_INPUT_PATH, 0o777, exist_ok=True)\n",
        "os.makedirs(KAGGLE_WORKING_PATH, 0o777, exist_ok=True)\n",
        "\n",
        "try:\n",
        "  os.symlink(KAGGLE_INPUT_PATH, os.path.join(\"..\", 'input'), target_is_directory=True)\n",
        "except FileExistsError:\n",
        "  pass\n",
        "try:\n",
        "  os.symlink(KAGGLE_WORKING_PATH, os.path.join(\"..\", 'working'), target_is_directory=True)\n",
        "except FileExistsError:\n",
        "  pass\n",
        "\n",
        "for data_source_mapping in DATA_SOURCE_MAPPING.split(','):\n",
        "    directory, download_url_encoded = data_source_mapping.split(':')\n",
        "    download_url = unquote(download_url_encoded)\n",
        "    filename = urlparse(download_url).path\n",
        "    destination_path = os.path.join(KAGGLE_INPUT_PATH, directory)\n",
        "    try:\n",
        "        with urlopen(download_url) as fileres, NamedTemporaryFile() as tfile:\n",
        "            total_length = fileres.headers['content-length']\n",
        "            print(f'Downloading {directory}, {total_length} bytes compressed')\n",
        "            dl = 0\n",
        "            data = fileres.read(CHUNK_SIZE)\n",
        "            while len(data) > 0:\n",
        "                dl += len(data)\n",
        "                tfile.write(data)\n",
        "                done = int(50 * dl / int(total_length))\n",
        "                sys.stdout.write(f\"\\r[{'=' * done}{' ' * (50-done)}] {dl} bytes downloaded\")\n",
        "                sys.stdout.flush()\n",
        "                data = fileres.read(CHUNK_SIZE)\n",
        "            if filename.endswith('.zip'):\n",
        "              with ZipFile(tfile) as zfile:\n",
        "                zfile.extractall(destination_path)\n",
        "            else:\n",
        "              with tarfile.open(tfile.name) as tarfile:\n",
        "                tarfile.extractall(destination_path)\n",
        "            print(f'\\nDownloaded and uncompressed: {directory}')\n",
        "    except HTTPError as e:\n",
        "        print(f'Failed to load (likely expired) {download_url} to path {destination_path}')\n",
        "        continue\n",
        "    except OSError as e:\n",
        "        print(f'Failed to load {download_url} to path {destination_path}')\n",
        "        continue\n",
        "\n",
        "print('Data source import complete.')\n"
      ],
      "metadata": {
        "id": "PMLEZPKX1f5M"
      },
      "cell_type": "code",
      "outputs": [],
      "execution_count": null
    },
    {
      "cell_type": "markdown",
      "source": [
        "### Imports\n",
        "\n",
        "If you dont have the fastai library installed, uncomment the lines with pip install fastbook to install all the dependencies we shall need."
      ],
      "metadata": {
        "id": "koi7ynWr1f5P"
      }
    },
    {
      "cell_type": "code",
      "source": [
        "#hide\n",
        "#This imports and sets up everything you will need for this notebook\n",
        "! [ -e /content ] && pip install -Uqq fastbook\n",
        "import fastbook\n",
        "fastbook.setup_book()"
      ],
      "metadata": {
        "colab": {
          "base_uri": "https://localhost:8080/"
        },
        "id": "s62Y27GP13C4",
        "outputId": "6a623675-9901-409e-d369-3a12a8a6d2e2"
      },
      "execution_count": 1,
      "outputs": [
        {
          "output_type": "stream",
          "name": "stdout",
          "text": [
            "\u001b[2K     \u001b[90m━━━━━━━━━━━━━━━━━━━━━━━━━━━━━━━━━━━━━━━━\u001b[0m \u001b[32m719.8/719.8 kB\u001b[0m \u001b[31m6.5 MB/s\u001b[0m eta \u001b[36m0:00:00\u001b[0m\n",
            "\u001b[2K     \u001b[90m━━━━━━━━━━━━━━━━━━━━━━━━━━━━━━━━━━━━━━━━\u001b[0m \u001b[32m510.5/510.5 kB\u001b[0m \u001b[31m7.0 MB/s\u001b[0m eta \u001b[36m0:00:00\u001b[0m\n",
            "\u001b[2K     \u001b[90m━━━━━━━━━━━━━━━━━━━━━━━━━━━━━━━━━━━━━━━━\u001b[0m \u001b[32m116.3/116.3 kB\u001b[0m \u001b[31m7.5 MB/s\u001b[0m eta \u001b[36m0:00:00\u001b[0m\n",
            "\u001b[2K     \u001b[90m━━━━━━━━━━━━━━━━━━━━━━━━━━━━━━━━━━━━━━━━\u001b[0m \u001b[32m194.1/194.1 kB\u001b[0m \u001b[31m8.2 MB/s\u001b[0m eta \u001b[36m0:00:00\u001b[0m\n",
            "\u001b[2K     \u001b[90m━━━━━━━━━━━━━━━━━━━━━━━━━━━━━━━━━━━━━━━━\u001b[0m \u001b[32m134.8/134.8 kB\u001b[0m \u001b[31m10.0 MB/s\u001b[0m eta \u001b[36m0:00:00\u001b[0m\n",
            "\u001b[2K     \u001b[90m━━━━━━━━━━━━━━━━━━━━━━━━━━━━━━━━━━━━━━━━\u001b[0m \u001b[32m1.6/1.6 MB\u001b[0m \u001b[31m14.2 MB/s\u001b[0m eta \u001b[36m0:00:00\u001b[0m\n",
            "\u001b[2K     \u001b[90m━━━━━━━━━━━━━━━━━━━━━━━━━━━━━━━━━━━━━━━━\u001b[0m \u001b[32m23.7/23.7 MB\u001b[0m \u001b[31m38.9 MB/s\u001b[0m eta \u001b[36m0:00:00\u001b[0m\n",
            "\u001b[2K     \u001b[90m━━━━━━━━━━━━━━━━━━━━━━━━━━━━━━━━━━━━━━━━\u001b[0m \u001b[32m823.6/823.6 kB\u001b[0m \u001b[31m48.4 MB/s\u001b[0m eta \u001b[36m0:00:00\u001b[0m\n",
            "\u001b[2K     \u001b[90m━━━━━━━━━━━━━━━━━━━━━━━━━━━━━━━━━━━━━━━━\u001b[0m \u001b[32m14.1/14.1 MB\u001b[0m \u001b[31m26.1 MB/s\u001b[0m eta \u001b[36m0:00:00\u001b[0m\n",
            "\u001b[2K     \u001b[90m━━━━━━━━━━━━━━━━━━━━━━━━━━━━━━━━━━━━━━━━\u001b[0m \u001b[32m731.7/731.7 MB\u001b[0m \u001b[31m1.5 MB/s\u001b[0m eta \u001b[36m0:00:00\u001b[0m\n",
            "\u001b[2K     \u001b[90m━━━━━━━━━━━━━━━━━━━━━━━━━━━━━━━━━━━━━━━━\u001b[0m \u001b[32m410.6/410.6 MB\u001b[0m \u001b[31m1.3 MB/s\u001b[0m eta \u001b[36m0:00:00\u001b[0m\n",
            "\u001b[2K     \u001b[90m━━━━━━━━━━━━━━━━━━━━━━━━━━━━━━━━━━━━━━━━\u001b[0m \u001b[32m121.6/121.6 MB\u001b[0m \u001b[31m7.9 MB/s\u001b[0m eta \u001b[36m0:00:00\u001b[0m\n",
            "\u001b[2K     \u001b[90m━━━━━━━━━━━━━━━━━━━━━━━━━━━━━━━━━━━━━━━━\u001b[0m \u001b[32m56.5/56.5 MB\u001b[0m \u001b[31m15.2 MB/s\u001b[0m eta \u001b[36m0:00:00\u001b[0m\n",
            "\u001b[2K     \u001b[90m━━━━━━━━━━━━━━━━━━━━━━━━━━━━━━━━━━━━━━━━\u001b[0m \u001b[32m124.2/124.2 MB\u001b[0m \u001b[31m5.2 MB/s\u001b[0m eta \u001b[36m0:00:00\u001b[0m\n",
            "\u001b[2K     \u001b[90m━━━━━━━━━━━━━━━━━━━━━━━━━━━━━━━━━━━━━━━━\u001b[0m \u001b[32m196.0/196.0 MB\u001b[0m \u001b[31m2.6 MB/s\u001b[0m eta \u001b[36m0:00:00\u001b[0m\n",
            "\u001b[2K     \u001b[90m━━━━━━━━━━━━━━━━━━━━━━━━━━━━━━━━━━━━━━━━\u001b[0m \u001b[32m166.0/166.0 MB\u001b[0m \u001b[31m5.5 MB/s\u001b[0m eta \u001b[36m0:00:00\u001b[0m\n",
            "\u001b[2K     \u001b[90m━━━━━━━━━━━━━━━━━━━━━━━━━━━━━━━━━━━━━━━━\u001b[0m \u001b[32m99.1/99.1 kB\u001b[0m \u001b[31m11.9 MB/s\u001b[0m eta \u001b[36m0:00:00\u001b[0m\n",
            "\u001b[2K     \u001b[90m━━━━━━━━━━━━━━━━━━━━━━━━━━━━━━━━━━━━━━━━\u001b[0m \u001b[32m21.1/21.1 MB\u001b[0m \u001b[31m74.4 MB/s\u001b[0m eta \u001b[36m0:00:00\u001b[0m\n",
            "\u001b[?25hMounted at /content/gdrive\n"
          ]
        }
      ]
    },
    {
      "cell_type": "code",
      "source": [
        "#hide\n",
        "#! [ -e /content ]\n",
        "\n",
        "#hide\n",
        "#This imports and sets up everything you will need for this notebook\n",
        "#\n",
        "#!pip install -Uqq fastbook\n",
        "#import fastbook\n",
        "#fastbook.setup_book()\n",
        "\n",
        "#from fastbook import *\n",
        "from fastai.tabular.all import *\n",
        "import pandas as pd\n",
        "import matplotlib.pyplot as plt\n",
        "import seaborn as sns\n",
        "import numpy as np\n",
        "from numpy import random\n",
        "\n",
        "from fastai.imports import *\n",
        "np.set_printoptions(linewidth=130)\n",
        "\n",
        "# for working with paths in Python, I recommend using `pathlib.Path`\n",
        "from pathlib import Path\n",
        "import os\n",
        "import seaborn as sns\n",
        "\n",
        "from sklearn.model_selection import train_test_split\n",
        "from sklearn.metrics import roc_auc_score\n",
        "from sklearn.ensemble import RandomForestClassifier\n",
        "\n",
        "import xgboost as xgb\n",
        "from xgboost import plot_importance\n",
        "\n",
        "from ipywidgets import interact\n",
        "\n",
        "\n",
        "matplotlib.rc('image', cmap='Greys')"
      ],
      "metadata": {
        "id": "RCMDyNwgY7G7",
        "execution": {
          "iopub.status.busy": "2024-03-29T05:51:59.750504Z",
          "iopub.execute_input": "2024-03-29T05:51:59.750854Z",
          "iopub.status.idle": "2024-03-29T05:52:07.054368Z",
          "shell.execute_reply.started": "2024-03-29T05:51:59.750827Z",
          "shell.execute_reply": "2024-03-29T05:52:07.053579Z"
        },
        "trusted": true
      },
      "execution_count": 3,
      "outputs": []
    },
    {
      "cell_type": "markdown",
      "source": [
        "Creds"
      ],
      "metadata": {
        "id": "6UYz6Hn917jE"
      }
    },
    {
      "cell_type": "code",
      "source": [
        "\n",
        "creds = '{\"username\":\"rubanzasilva\",\"key\":\"7590231111c5bbe2ad242827b0ef016c\"}'\n",
        "\n",
        "cred_path = Path('~/.kaggle/kaggle.json').expanduser()\n",
        "if not cred_path.exists():\n",
        "    cred_path.parent.mkdir(exist_ok=True)\n",
        "    cred_path.write_text(creds)\n",
        "    cred_path.chmod(0o600)\n"
      ],
      "metadata": {
        "id": "6Qxe69A1182I"
      },
      "execution_count": 4,
      "outputs": []
    },
    {
      "cell_type": "code",
      "source": [
        "import os\n",
        "iskaggle = os.environ.get('KAGGLE_KERNEL_RUN_TYPE', '')\n",
        "\n",
        "if iskaggle: path = Path('../input/playground-series-s4e3')\n",
        "else:\n",
        "    import zipfile,kaggle\n",
        "    path = Path('playground-series-s4e3')\n",
        "    kaggle.api.competition_download_cli(str(path))\n",
        "    zipfile.ZipFile(f'{path}.zip').extractall(path)\n",
        "\n",
        "#train_df = pd.read_csv(path/'train.csv')\n",
        "#test_df = pd.read_csv(path/'test.csv')"
      ],
      "metadata": {
        "colab": {
          "base_uri": "https://localhost:8080/"
        },
        "id": "Ih-xO7rP18yf",
        "outputId": "cb2ad8c7-bec2-4087-e612-b957db31c39d"
      },
      "execution_count": 5,
      "outputs": [
        {
          "output_type": "stream",
          "name": "stdout",
          "text": [
            "Downloading playground-series-s4e3.zip to /content\n"
          ]
        },
        {
          "output_type": "stream",
          "name": "stderr",
          "text": [
            "100%|██████████| 1.74M/1.74M [00:00<00:00, 2.38MB/s]"
          ]
        },
        {
          "output_type": "stream",
          "name": "stdout",
          "text": [
            "\n"
          ]
        },
        {
          "output_type": "stream",
          "name": "stderr",
          "text": [
            "\n"
          ]
        }
      ]
    },
    {
      "cell_type": "code",
      "source": [],
      "metadata": {
        "id": "URCjD8hh18v0"
      },
      "execution_count": null,
      "outputs": []
    },
    {
      "cell_type": "code",
      "source": [],
      "metadata": {
        "id": "9qLXeSXp18s_"
      },
      "execution_count": null,
      "outputs": []
    },
    {
      "cell_type": "markdown",
      "source": [
        "Set random seed for reproducibility."
      ],
      "metadata": {
        "id": "Agl1BKpacH6v"
      }
    },
    {
      "cell_type": "code",
      "source": [
        "#random.seed(42)\n",
        "set_seed(42)"
      ],
      "metadata": {
        "id": "jd7Hze9-cGtp",
        "execution": {
          "iopub.status.busy": "2024-03-29T05:52:41.200984Z",
          "iopub.execute_input": "2024-03-29T05:52:41.201912Z",
          "iopub.status.idle": "2024-03-29T05:52:41.209894Z",
          "shell.execute_reply.started": "2024-03-29T05:52:41.20188Z",
          "shell.execute_reply": "2024-03-29T05:52:41.209102Z"
        },
        "trusted": true
      },
      "execution_count": 6,
      "outputs": []
    },
    {
      "cell_type": "code",
      "source": [
        "!ls"
      ],
      "metadata": {
        "execution": {
          "iopub.status.busy": "2024-03-29T05:52:41.644366Z",
          "iopub.execute_input": "2024-03-29T05:52:41.64508Z",
          "iopub.status.idle": "2024-03-29T05:52:42.600089Z",
          "shell.execute_reply.started": "2024-03-29T05:52:41.645048Z",
          "shell.execute_reply": "2024-03-29T05:52:42.598775Z"
        },
        "trusted": true,
        "id": "1WJh04F21f5S"
      },
      "execution_count": null,
      "outputs": []
    },
    {
      "cell_type": "markdown",
      "source": [
        "Import Dataset"
      ],
      "metadata": {
        "id": "girJB6yu1f5S"
      }
    },
    {
      "cell_type": "code",
      "source": [
        "# This Python 3 environment comes with many helpful analytics libraries installed\n",
        "# It is defined by the kaggle/python Docker image: https://github.com/kaggle/docker-python\n",
        "# For example, here's several helpful packages to load\n",
        "\n",
        "\n",
        "# Input data files are available in the read-only \"../input/\" directory\n",
        "# For example, running this (by clicking run or pressing Shift+Enter) will list all files under the input directory\n",
        "\n",
        "for dirname, _, filenames in os.walk('/kaggle/input'):\n",
        "    for filename in filenames:\n",
        "        print(os.path.join(dirname, filename))\n",
        "\n",
        "# You can write up to 20GB to the current directory (/kaggle/working/) that gets preserved as output when you create a version using \"Save & Run All\"\n",
        "# You can also write temporary files to /kaggle/temp/, but they won't be saved outside of the current session"
      ],
      "metadata": {
        "id": "ecCaoXLjbLdZ",
        "outputId": "81e17a8a-b2d5-4dcf-f128-530ddeaf738a",
        "execution": {
          "iopub.status.busy": "2024-03-29T05:53:18.121965Z",
          "iopub.execute_input": "2024-03-29T05:53:18.122633Z",
          "iopub.status.idle": "2024-03-29T05:53:18.131551Z",
          "shell.execute_reply.started": "2024-03-29T05:53:18.122596Z",
          "shell.execute_reply": "2024-03-29T05:53:18.130405Z"
        },
        "trusted": true
      },
      "execution_count": null,
      "outputs": [
        {
          "name": "stdout",
          "text": "/kaggle/input/playground-series-s4e3/sample_submission.csv\n/kaggle/input/playground-series-s4e3/train.csv\n/kaggle/input/playground-series-s4e3/test.csv\n",
          "output_type": "stream"
        }
      ]
    },
    {
      "cell_type": "code",
      "source": [
        "!ls /kaggle/input/playground-series-s4e3"
      ],
      "metadata": {
        "execution": {
          "iopub.status.busy": "2024-03-29T05:53:18.412136Z",
          "iopub.execute_input": "2024-03-29T05:53:18.412822Z",
          "iopub.status.idle": "2024-03-29T05:53:19.358311Z",
          "shell.execute_reply.started": "2024-03-29T05:53:18.412784Z",
          "shell.execute_reply": "2024-03-29T05:53:19.357114Z"
        },
        "trusted": true,
        "id": "rlQzs6n31f5U",
        "outputId": "e22693ec-89a2-48a7-b2a0-9cd0cd1b650b"
      },
      "execution_count": null,
      "outputs": [
        {
          "name": "stdout",
          "text": "sample_submission.csv  test.csv  train.csv\n",
          "output_type": "stream"
        }
      ]
    },
    {
      "cell_type": "code",
      "source": [
        "path = Path('/kaggle/input/playground-series-s4e3')\n",
        "path"
      ],
      "metadata": {
        "id": "i4VhYuv3cztD",
        "outputId": "aec8185a-163e-434a-9705-dad68e45215a",
        "execution": {
          "iopub.status.busy": "2024-03-29T05:53:19.360312Z",
          "iopub.execute_input": "2024-03-29T05:53:19.36064Z",
          "iopub.status.idle": "2024-03-29T05:53:19.368436Z",
          "shell.execute_reply.started": "2024-03-29T05:53:19.360606Z",
          "shell.execute_reply": "2024-03-29T05:53:19.367554Z"
        },
        "trusted": true
      },
      "execution_count": null,
      "outputs": [
        {
          "execution_count": 6,
          "output_type": "execute_result",
          "data": {
            "text/plain": "Path('/kaggle/input/playground-series-s4e3')"
          },
          "metadata": {}
        }
      ]
    },
    {
      "cell_type": "markdown",
      "source": [
        "Read in Datasets"
      ],
      "metadata": {
        "id": "K1hn53PnA3h4"
      }
    },
    {
      "cell_type": "code",
      "source": [
        "train_df = pd.read_csv(path/'train.csv')\n",
        "test_df = pd.read_csv(path/'test.csv')\n",
        "sub_df = pd.read_csv(path/'sample_submission.csv')"
      ],
      "metadata": {
        "id": "vsMF74KpczqS",
        "execution": {
          "iopub.status.busy": "2024-03-29T05:53:19.932781Z",
          "iopub.execute_input": "2024-03-29T05:53:19.933137Z",
          "iopub.status.idle": "2024-03-29T05:53:20.149461Z",
          "shell.execute_reply.started": "2024-03-29T05:53:19.93311Z",
          "shell.execute_reply": "2024-03-29T05:53:20.14869Z"
        },
        "trusted": true
      },
      "execution_count": 7,
      "outputs": []
    },
    {
      "cell_type": "code",
      "source": [
        "train_df.shape,test_df.shape"
      ],
      "metadata": {
        "execution": {
          "iopub.status.busy": "2024-03-29T05:53:20.292721Z",
          "iopub.execute_input": "2024-03-29T05:53:20.293398Z",
          "iopub.status.idle": "2024-03-29T05:53:20.299041Z",
          "shell.execute_reply.started": "2024-03-29T05:53:20.293369Z",
          "shell.execute_reply": "2024-03-29T05:53:20.29814Z"
        },
        "trusted": true,
        "id": "TbcF6o5O1f5V",
        "outputId": "00983d46-c993-44fe-9bc0-0f543317fe8c",
        "colab": {
          "base_uri": "https://localhost:8080/"
        }
      },
      "execution_count": 8,
      "outputs": [
        {
          "output_type": "execute_result",
          "data": {
            "text/plain": [
              "((19219, 35), (12814, 28))"
            ]
          },
          "metadata": {},
          "execution_count": 8
        }
      ]
    },
    {
      "cell_type": "markdown",
      "source": [
        "Missing Value Check"
      ],
      "metadata": {
        "id": "tT1ZIhWT1f5V"
      }
    },
    {
      "cell_type": "code",
      "source": [
        "train_df.isna().sum()"
      ],
      "metadata": {
        "execution": {
          "iopub.status.busy": "2024-03-29T05:38:13.763755Z",
          "iopub.execute_input": "2024-03-29T05:38:13.764061Z",
          "iopub.status.idle": "2024-03-29T05:38:13.780242Z",
          "shell.execute_reply.started": "2024-03-29T05:38:13.764034Z",
          "shell.execute_reply": "2024-03-29T05:38:13.779463Z"
        },
        "trusted": true,
        "id": "H6vdkFwO1f5V",
        "outputId": "d6cfde9c-3786-4529-b0fb-819abe42faa0"
      },
      "execution_count": null,
      "outputs": [
        {
          "execution_count": 19,
          "output_type": "execute_result",
          "data": {
            "text/plain": "id                       0\nX_Minimum                0\nX_Maximum                0\nY_Minimum                0\nY_Maximum                0\nPixels_Areas             0\nX_Perimeter              0\nY_Perimeter              0\nSum_of_Luminosity        0\nMinimum_of_Luminosity    0\nMaximum_of_Luminosity    0\nLength_of_Conveyer       0\nTypeOfSteel_A300         0\nTypeOfSteel_A400         0\nSteel_Plate_Thickness    0\nEdges_Index              0\nEmpty_Index              0\nSquare_Index             0\nOutside_X_Index          0\nEdges_X_Index            0\nEdges_Y_Index            0\nOutside_Global_Index     0\nLogOfAreas               0\nLog_X_Index              0\nLog_Y_Index              0\nOrientation_Index        0\nLuminosity_Index         0\nSigmoidOfAreas           0\nPastry                   0\nZ_Scratch                0\nK_Scatch                 0\nStains                   0\nDirtiness                0\nBumps                    0\nOther_Faults             0\ndtype: int64"
          },
          "metadata": {}
        }
      ]
    },
    {
      "cell_type": "markdown",
      "source": [
        "Long Tail Distributions\n",
        "\n",
        "When we look at our columns, we notice that our targets all have long tail distributions."
      ],
      "metadata": {
        "id": "2lrGu2bf1f5W"
      }
    },
    {
      "cell_type": "code",
      "source": [
        "train_df['Length_of_Conveyer'].hist();"
      ],
      "metadata": {
        "execution": {
          "iopub.status.busy": "2024-03-29T05:38:13.783111Z",
          "iopub.execute_input": "2024-03-29T05:38:13.783408Z",
          "iopub.status.idle": "2024-03-29T05:38:14.128982Z",
          "shell.execute_reply.started": "2024-03-29T05:38:13.783384Z",
          "shell.execute_reply": "2024-03-29T05:38:14.127786Z"
        },
        "trusted": true,
        "id": "viqkUiin1f5W",
        "outputId": "2a0d67cf-e541-4a4b-ecf5-d1596fdd9c47"
      },
      "execution_count": null,
      "outputs": [
        {
          "output_type": "display_data",
          "data": {
            "text/plain": "<Figure size 640x480 with 1 Axes>",
            "image/png": "[encoded data removed]"
          },
          "metadata": {}
        }
      ]
    },
    {
      "cell_type": "code",
      "source": [
        "train_df['TypeOfSteel_A400'].hist();\n"
      ],
      "metadata": {
        "execution": {
          "iopub.status.busy": "2024-03-29T05:38:14.130279Z",
          "iopub.execute_input": "2024-03-29T05:38:14.130591Z",
          "iopub.status.idle": "2024-03-29T05:38:14.427308Z",
          "shell.execute_reply.started": "2024-03-29T05:38:14.130564Z",
          "shell.execute_reply": "2024-03-29T05:38:14.426363Z"
        },
        "trusted": true,
        "id": "bYCpTxKr1f5W",
        "outputId": "422dcb4e-0e21-4800-8aee-07d196057b96"
      },
      "execution_count": null,
      "outputs": [
        {
          "output_type": "display_data",
          "data": {
            "text/plain": "<Figure size 640x480 with 1 Axes>",
            "image/png": "[encoded data removed]"
          },
          "metadata": {}
        }
      ]
    },
    {
      "cell_type": "markdown",
      "source": [
        "Take Log of Long tail distributions\n",
        "Targets\n",
        "Length of conveyor\n",
        "TypeOfSteel_A400\n"
      ],
      "metadata": {
        "execution": {
          "iopub.status.busy": "2024-03-29T05:38:14.428599Z",
          "iopub.execute_input": "2024-03-29T05:38:14.428907Z",
          "iopub.status.idle": "2024-03-29T05:38:14.435561Z",
          "shell.execute_reply.started": "2024-03-29T05:38:14.428879Z",
          "shell.execute_reply": "2024-03-29T05:38:14.433851Z"
        },
        "id": "RwKZEiRg1f5W"
      }
    },
    {
      "cell_type": "code",
      "source": [
        "train_df.hist(figsize=(20, 15));"
      ],
      "metadata": {
        "execution": {
          "iopub.status.busy": "2024-03-29T05:38:14.436585Z",
          "iopub.status.idle": "2024-03-29T05:38:14.436972Z",
          "shell.execute_reply.started": "2024-03-29T05:38:14.436781Z",
          "shell.execute_reply": "2024-03-29T05:38:14.436797Z"
        },
        "trusted": true,
        "id": "x-F8yYQU1f5W"
      },
      "execution_count": null,
      "outputs": []
    },
    {
      "cell_type": "code",
      "source": [
        "test_df.shape,train_df.shape"
      ],
      "metadata": {
        "execution": {
          "iopub.status.busy": "2024-03-29T05:38:14.438813Z",
          "iopub.status.idle": "2024-03-29T05:38:14.439234Z",
          "shell.execute_reply.started": "2024-03-29T05:38:14.439011Z",
          "shell.execute_reply": "2024-03-29T05:38:14.439027Z"
        },
        "trusted": true,
        "id": "QXorjQbU1f5W"
      },
      "execution_count": null,
      "outputs": []
    },
    {
      "cell_type": "markdown",
      "source": [
        "Lets create a list called y_names of our dependent variables / targets"
      ],
      "metadata": {
        "id": "PVdeXHSy1f5W"
      }
    },
    {
      "cell_type": "code",
      "source": [
        "y_names = ['Pastry', 'Z_Scratch', 'K_Scatch', 'Stains', 'Dirtiness', 'Bumps', 'Other_Faults']\n",
        "cont_names, cat_names = cont_cat_split(train_df,dep_var=['Pastry', 'Z_Scratch', 'K_Scatch', 'Stains', 'Dirtiness', 'Bumps', 'Other_Faults'])\n",
        "splits = RandomSplitter(valid_pct=0.2)(range_of(train_df))"
      ],
      "metadata": {
        "id": "gmHUkX9ddGUJ",
        "execution": {
          "iopub.status.busy": "2024-03-29T05:53:28.674686Z",
          "iopub.execute_input": "2024-03-29T05:53:28.675491Z",
          "iopub.status.idle": "2024-03-29T05:53:28.72693Z",
          "shell.execute_reply.started": "2024-03-29T05:53:28.675448Z",
          "shell.execute_reply": "2024-03-29T05:53:28.725997Z"
        },
        "trusted": true
      },
      "execution_count": 9,
      "outputs": []
    },
    {
      "cell_type": "markdown",
      "source": [
        "### TabularPandas Object\n",
        "\n",
        "We create an instance of a TabularPandas Object,to which is a fastai dataframe wrapper that stores all the information about our dataset such as which columns are continous, categorical, and our dependent variables.\n",
        "\n",
        "This instance also stores and applies the set transformations to our data."
      ],
      "metadata": {
        "id": "v30XKZlE1f5X"
      }
    },
    {
      "cell_type": "code",
      "source": [
        "to = TabularPandas(train_df, procs=[Categorify, FillMissing,Normalize],\n",
        "                   cat_names = cat_names,\n",
        "                   cont_names = cont_names,\n",
        "                   y_names= y_names,\n",
        "                  # y_block = CategoryBlock,\n",
        "                   splits=splits)"
      ],
      "metadata": {
        "id": "UgDbuCuBdGRM",
        "execution": {
          "iopub.status.busy": "2024-03-29T05:53:29.193032Z",
          "iopub.execute_input": "2024-03-29T05:53:29.193728Z",
          "iopub.status.idle": "2024-03-29T05:53:29.274066Z",
          "shell.execute_reply.started": "2024-03-29T05:53:29.193694Z",
          "shell.execute_reply": "2024-03-29T05:53:29.273071Z"
        },
        "trusted": true
      },
      "execution_count": 10,
      "outputs": []
    },
    {
      "cell_type": "code",
      "source": [
        "to.xs.iloc[:2]"
      ],
      "metadata": {
        "id": "ZiCcYfSydGOy",
        "outputId": "21b523ac-61d5-4c88-f151-a98d49208288",
        "execution": {
          "iopub.status.busy": "2024-03-29T05:53:29.453273Z",
          "iopub.execute_input": "2024-03-29T05:53:29.453617Z",
          "iopub.status.idle": "2024-03-29T05:53:29.485938Z",
          "shell.execute_reply.started": "2024-03-29T05:53:29.453591Z",
          "shell.execute_reply": "2024-03-29T05:53:29.484885Z"
        },
        "trusted": true,
        "colab": {
          "base_uri": "https://localhost:8080/",
          "height": 132
        }
      },
      "execution_count": 11,
      "outputs": [
        {
          "output_type": "execute_result",
          "data": {
            "text/plain": [
              "       TypeOfSteel_A300  TypeOfSteel_A400        id  X_Minimum  X_Maximum  \\\n",
              "11340                 2                 1  0.313684  -1.340465  -1.486213   \n",
              "2094                  1                 2 -1.356317   1.151727   1.173838   \n",
              "\n",
              "       Y_Minimum  Y_Maximum  Pixels_Areas  X_Perimeter  Y_Perimeter  \\\n",
              "11340  -0.721962  -0.722446     -0.424463    -0.376291    -0.406758   \n",
              "2094    2.113786   2.123421     -0.270663    -0.348350    -0.276931   \n",
              "\n",
              "       Sum_of_Luminosity  Minimum_of_Luminosity  Maximum_of_Luminosity  \\\n",
              "11340          -0.411910              -0.416356              -1.456529   \n",
              "2094           -0.293106              -0.277474              -0.331543   \n",
              "\n",
              "       Length_of_Conveyer  Steel_Plate_Thickness  Edges_Index  Empty_Index  \\\n",
              "11340           -0.721707              -0.119297    -1.107422     1.037124   \n",
              "2094             1.568212               2.274761     1.801602    -1.280208   \n",
              "\n",
              "       Square_Index  Outside_X_Index  Edges_X_Index  Edges_Y_Index  \\\n",
              "11340     -0.389767        -0.399167       0.144737       0.062912   \n",
              "2094       0.623669        -0.373550      -0.409438       0.761681   \n",
              "\n",
              "       Outside_Global_Index  LogOfAreas  Log_X_Index  Log_Y_Index  \\\n",
              "11340              0.842607   -0.567453    -0.230852    -0.068816   \n",
              "2094               0.842607    0.536130     0.064983     0.412268   \n",
              "\n",
              "       Orientation_Index  Luminosity_Index  SigmoidOfAreas  \n",
              "11340           0.865095         -1.070323       -0.595141  \n",
              "2094            0.324788         -0.468295        1.215455  "
            ],
            "text/html": [
              "\n",
              "  <div id=\"df-8acfbc34-2e53-4c8b-9a26-e8458e60fa0a\" class=\"colab-df-container\">\n",
              "    <div>\n",
              "<style scoped>\n",
              "    .dataframe tbody tr th:only-of-type {\n",
              "        vertical-align: middle;\n",
              "    }\n",
              "\n",
              "    .dataframe tbody tr th {\n",
              "        vertical-align: top;\n",
              "    }\n",
              "\n",
              "    .dataframe thead th {\n",
              "        text-align: right;\n",
              "    }\n",
              "</style>\n",
              "<table border=\"1\" class=\"dataframe\">\n",
              "  <thead>\n",
              "    <tr style=\"text-align: right;\">\n",
              "      <th></th>\n",
              "      <th>TypeOfSteel_A300</th>\n",
              "      <th>TypeOfSteel_A400</th>\n",
              "      <th>id</th>\n",
              "      <th>X_Minimum</th>\n",
              "      <th>X_Maximum</th>\n",
              "      <th>Y_Minimum</th>\n",
              "      <th>Y_Maximum</th>\n",
              "      <th>Pixels_Areas</th>\n",
              "      <th>X_Perimeter</th>\n",
              "      <th>Y_Perimeter</th>\n",
              "      <th>Sum_of_Luminosity</th>\n",
              "      <th>Minimum_of_Luminosity</th>\n",
              "      <th>Maximum_of_Luminosity</th>\n",
              "      <th>Length_of_Conveyer</th>\n",
              "      <th>Steel_Plate_Thickness</th>\n",
              "      <th>Edges_Index</th>\n",
              "      <th>Empty_Index</th>\n",
              "      <th>Square_Index</th>\n",
              "      <th>Outside_X_Index</th>\n",
              "      <th>Edges_X_Index</th>\n",
              "      <th>Edges_Y_Index</th>\n",
              "      <th>Outside_Global_Index</th>\n",
              "      <th>LogOfAreas</th>\n",
              "      <th>Log_X_Index</th>\n",
              "      <th>Log_Y_Index</th>\n",
              "      <th>Orientation_Index</th>\n",
              "      <th>Luminosity_Index</th>\n",
              "      <th>SigmoidOfAreas</th>\n",
              "    </tr>\n",
              "  </thead>\n",
              "  <tbody>\n",
              "    <tr>\n",
              "      <th>11340</th>\n",
              "      <td>2</td>\n",
              "      <td>1</td>\n",
              "      <td>0.313684</td>\n",
              "      <td>-1.340465</td>\n",
              "      <td>-1.486213</td>\n",
              "      <td>-0.721962</td>\n",
              "      <td>-0.722446</td>\n",
              "      <td>-0.424463</td>\n",
              "      <td>-0.376291</td>\n",
              "      <td>-0.406758</td>\n",
              "      <td>-0.411910</td>\n",
              "      <td>-0.416356</td>\n",
              "      <td>-1.456529</td>\n",
              "      <td>-0.721707</td>\n",
              "      <td>-0.119297</td>\n",
              "      <td>-1.107422</td>\n",
              "      <td>1.037124</td>\n",
              "      <td>-0.389767</td>\n",
              "      <td>-0.399167</td>\n",
              "      <td>0.144737</td>\n",
              "      <td>0.062912</td>\n",
              "      <td>0.842607</td>\n",
              "      <td>-0.567453</td>\n",
              "      <td>-0.230852</td>\n",
              "      <td>-0.068816</td>\n",
              "      <td>0.865095</td>\n",
              "      <td>-1.070323</td>\n",
              "      <td>-0.595141</td>\n",
              "    </tr>\n",
              "    <tr>\n",
              "      <th>2094</th>\n",
              "      <td>1</td>\n",
              "      <td>2</td>\n",
              "      <td>-1.356317</td>\n",
              "      <td>1.151727</td>\n",
              "      <td>1.173838</td>\n",
              "      <td>2.113786</td>\n",
              "      <td>2.123421</td>\n",
              "      <td>-0.270663</td>\n",
              "      <td>-0.348350</td>\n",
              "      <td>-0.276931</td>\n",
              "      <td>-0.293106</td>\n",
              "      <td>-0.277474</td>\n",
              "      <td>-0.331543</td>\n",
              "      <td>1.568212</td>\n",
              "      <td>2.274761</td>\n",
              "      <td>1.801602</td>\n",
              "      <td>-1.280208</td>\n",
              "      <td>0.623669</td>\n",
              "      <td>-0.373550</td>\n",
              "      <td>-0.409438</td>\n",
              "      <td>0.761681</td>\n",
              "      <td>0.842607</td>\n",
              "      <td>0.536130</td>\n",
              "      <td>0.064983</td>\n",
              "      <td>0.412268</td>\n",
              "      <td>0.324788</td>\n",
              "      <td>-0.468295</td>\n",
              "      <td>1.215455</td>\n",
              "    </tr>\n",
              "  </tbody>\n",
              "</table>\n",
              "</div>\n",
              "    <div class=\"colab-df-buttons\">\n",
              "\n",
              "  <div class=\"colab-df-container\">\n",
              "    <button class=\"colab-df-convert\" onclick=\"convertToInteractive('df-8acfbc34-2e53-4c8b-9a26-e8458e60fa0a')\"\n",
              "            title=\"Convert this dataframe to an interactive table.\"\n",
              "            style=\"display:none;\">\n",
              "\n",
              "  <svg xmlns=\"http://www.w3.org/2000/svg\" height=\"24px\" viewBox=\"0 -960 960 960\">\n",
              "    <path d=\"M120-120v-720h720v720H120Zm60-500h600v-160H180v160Zm220 220h160v-160H400v160Zm0 220h160v-160H400v160ZM180-400h160v-160H180v160Zm440 0h160v-160H620v160ZM180-180h160v-160H180v160Zm440 0h160v-160H620v160Z\"/>\n",
              "  </svg>\n",
              "    </button>\n",
              "\n",
              "  <style>\n",
              "    .colab-df-container {\n",
              "      display:flex;\n",
              "      gap: 12px;\n",
              "    }\n",
              "\n",
              "    .colab-df-convert {\n",
              "      background-color: #E8F0FE;\n",
              "      border: none;\n",
              "      border-radius: 50%;\n",
              "      cursor: pointer;\n",
              "      display: none;\n",
              "      fill: #1967D2;\n",
              "      height: 32px;\n",
              "      padding: 0 0 0 0;\n",
              "      width: 32px;\n",
              "    }\n",
              "\n",
              "    .colab-df-convert:hover {\n",
              "      background-color: #E2EBFA;\n",
              "      box-shadow: 0px 1px 2px rgba(60, 64, 67, 0.3), 0px 1px 3px 1px rgba(60, 64, 67, 0.15);\n",
              "      fill: #174EA6;\n",
              "    }\n",
              "\n",
              "    .colab-df-buttons div {\n",
              "      margin-bottom: 4px;\n",
              "    }\n",
              "\n",
              "    [theme=dark] .colab-df-convert {\n",
              "      background-color: #3B4455;\n",
              "      fill: #D2E3FC;\n",
              "    }\n",
              "\n",
              "    [theme=dark] .colab-df-convert:hover {\n",
              "      background-color: #434B5C;\n",
              "      box-shadow: 0px 1px 3px 1px rgba(0, 0, 0, 0.15);\n",
              "      filter: drop-shadow(0px 1px 2px rgba(0, 0, 0, 0.3));\n",
              "      fill: #FFFFFF;\n",
              "    }\n",
              "  </style>\n",
              "\n",
              "    <script>\n",
              "      const buttonEl =\n",
              "        document.querySelector('#df-8acfbc34-2e53-4c8b-9a26-e8458e60fa0a button.colab-df-convert');\n",
              "      buttonEl.style.display =\n",
              "        google.colab.kernel.accessAllowed ? 'block' : 'none';\n",
              "\n",
              "      async function convertToInteractive(key) {\n",
              "        const element = document.querySelector('#df-8acfbc34-2e53-4c8b-9a26-e8458e60fa0a');\n",
              "        const dataTable =\n",
              "          await google.colab.kernel.invokeFunction('convertToInteractive',\n",
              "                                                    [key], {});\n",
              "        if (!dataTable) return;\n",
              "\n",
              "        const docLinkHtml = 'Like what you see? Visit the ' +\n",
              "          '<a target=\"_blank\" href=https://colab.research.google.com/notebooks/data_table.ipynb>data table notebook</a>'\n",
              "          + ' to learn more about interactive tables.';\n",
              "        element.innerHTML = '';\n",
              "        dataTable['output_type'] = 'display_data';\n",
              "        await google.colab.output.renderOutput(dataTable, element);\n",
              "        const docLink = document.createElement('div');\n",
              "        docLink.innerHTML = docLinkHtml;\n",
              "        element.appendChild(docLink);\n",
              "      }\n",
              "    </script>\n",
              "  </div>\n",
              "\n",
              "\n",
              "<div id=\"df-569ed84c-9c72-4e02-8eb2-49453ffbc043\">\n",
              "  <button class=\"colab-df-quickchart\" onclick=\"quickchart('df-569ed84c-9c72-4e02-8eb2-49453ffbc043')\"\n",
              "            title=\"Suggest charts\"\n",
              "            style=\"display:none;\">\n",
              "\n",
              "<svg xmlns=\"http://www.w3.org/2000/svg\" height=\"24px\"viewBox=\"0 0 24 24\"\n",
              "     width=\"24px\">\n",
              "    <g>\n",
              "        <path d=\"M19 3H5c-1.1 0-2 .9-2 2v14c0 1.1.9 2 2 2h14c1.1 0 2-.9 2-2V5c0-1.1-.9-2-2-2zM9 17H7v-7h2v7zm4 0h-2V7h2v10zm4 0h-2v-4h2v4z\"/>\n",
              "    </g>\n",
              "</svg>\n",
              "  </button>\n",
              "\n",
              "<style>\n",
              "  .colab-df-quickchart {\n",
              "      --bg-color: #E8F0FE;\n",
              "      --fill-color: #1967D2;\n",
              "      --hover-bg-color: #E2EBFA;\n",
              "      --hover-fill-color: #174EA6;\n",
              "      --disabled-fill-color: #AAA;\n",
              "      --disabled-bg-color: #DDD;\n",
              "  }\n",
              "\n",
              "  [theme=dark] .colab-df-quickchart {\n",
              "      --bg-color: #3B4455;\n",
              "      --fill-color: #D2E3FC;\n",
              "      --hover-bg-color: #434B5C;\n",
              "      --hover-fill-color: #FFFFFF;\n",
              "      --disabled-bg-color: #3B4455;\n",
              "      --disabled-fill-color: #666;\n",
              "  }\n",
              "\n",
              "  .colab-df-quickchart {\n",
              "    background-color: var(--bg-color);\n",
              "    border: none;\n",
              "    border-radius: 50%;\n",
              "    cursor: pointer;\n",
              "    display: none;\n",
              "    fill: var(--fill-color);\n",
              "    height: 32px;\n",
              "    padding: 0;\n",
              "    width: 32px;\n",
              "  }\n",
              "\n",
              "  .colab-df-quickchart:hover {\n",
              "    background-color: var(--hover-bg-color);\n",
              "    box-shadow: 0 1px 2px rgba(60, 64, 67, 0.3), 0 1px 3px 1px rgba(60, 64, 67, 0.15);\n",
              "    fill: var(--button-hover-fill-color);\n",
              "  }\n",
              "\n",
              "  .colab-df-quickchart-complete:disabled,\n",
              "  .colab-df-quickchart-complete:disabled:hover {\n",
              "    background-color: var(--disabled-bg-color);\n",
              "    fill: var(--disabled-fill-color);\n",
              "    box-shadow: none;\n",
              "  }\n",
              "\n",
              "  .colab-df-spinner {\n",
              "    border: 2px solid var(--fill-color);\n",
              "    border-color: transparent;\n",
              "    border-bottom-color: var(--fill-color);\n",
              "    animation:\n",
              "      spin 1s steps(1) infinite;\n",
              "  }\n",
              "\n",
              "  @keyframes spin {\n",
              "    0% {\n",
              "      border-color: transparent;\n",
              "      border-bottom-color: var(--fill-color);\n",
              "      border-left-color: var(--fill-color);\n",
              "    }\n",
              "    20% {\n",
              "      border-color: transparent;\n",
              "      border-left-color: var(--fill-color);\n",
              "      border-top-color: var(--fill-color);\n",
              "    }\n",
              "    30% {\n",
              "      border-color: transparent;\n",
              "      border-left-color: var(--fill-color);\n",
              "      border-top-color: var(--fill-color);\n",
              "      border-right-color: var(--fill-color);\n",
              "    }\n",
              "    40% {\n",
              "      border-color: transparent;\n",
              "      border-right-color: var(--fill-color);\n",
              "      border-top-color: var(--fill-color);\n",
              "    }\n",
              "    60% {\n",
              "      border-color: transparent;\n",
              "      border-right-color: var(--fill-color);\n",
              "    }\n",
              "    80% {\n",
              "      border-color: transparent;\n",
              "      border-right-color: var(--fill-color);\n",
              "      border-bottom-color: var(--fill-color);\n",
              "    }\n",
              "    90% {\n",
              "      border-color: transparent;\n",
              "      border-bottom-color: var(--fill-color);\n",
              "    }\n",
              "  }\n",
              "</style>\n",
              "\n",
              "  <script>\n",
              "    async function quickchart(key) {\n",
              "      const quickchartButtonEl =\n",
              "        document.querySelector('#' + key + ' button');\n",
              "      quickchartButtonEl.disabled = true;  // To prevent multiple clicks.\n",
              "      quickchartButtonEl.classList.add('colab-df-spinner');\n",
              "      try {\n",
              "        const charts = await google.colab.kernel.invokeFunction(\n",
              "            'suggestCharts', [key], {});\n",
              "      } catch (error) {\n",
              "        console.error('Error during call to suggestCharts:', error);\n",
              "      }\n",
              "      quickchartButtonEl.classList.remove('colab-df-spinner');\n",
              "      quickchartButtonEl.classList.add('colab-df-quickchart-complete');\n",
              "    }\n",
              "    (() => {\n",
              "      let quickchartButtonEl =\n",
              "        document.querySelector('#df-569ed84c-9c72-4e02-8eb2-49453ffbc043 button');\n",
              "      quickchartButtonEl.style.display =\n",
              "        google.colab.kernel.accessAllowed ? 'block' : 'none';\n",
              "    })();\n",
              "  </script>\n",
              "</div>\n",
              "\n",
              "    </div>\n",
              "  </div>\n"
            ],
            "application/vnd.google.colaboratory.intrinsic+json": {
              "type": "dataframe"
            }
          },
          "metadata": {},
          "execution_count": 11
        }
      ]
    },
    {
      "cell_type": "markdown",
      "source": [
        "### DataLoaders\n",
        "We now go ahead and create a dataloaders object which loads the data in a given batch size. Before loading the data the transforms are applied."
      ],
      "metadata": {
        "id": "im2YYpNg1f5X"
      }
    },
    {
      "cell_type": "code",
      "source": [
        "dls = to.dataloaders(bs=64)"
      ],
      "metadata": {
        "id": "URgqOShbdGL6",
        "execution": {
          "iopub.status.busy": "2024-03-29T05:38:14.446002Z",
          "iopub.status.idle": "2024-03-29T05:38:14.446375Z",
          "shell.execute_reply.started": "2024-03-29T05:38:14.446179Z",
          "shell.execute_reply": "2024-03-29T05:38:14.446194Z"
        },
        "trusted": true
      },
      "execution_count": 12,
      "outputs": []
    },
    {
      "cell_type": "code",
      "source": [
        "dls.show_batch()"
      ],
      "metadata": {
        "id": "qKSy2-hMdGJM",
        "execution": {
          "iopub.status.busy": "2024-03-29T05:38:14.447903Z",
          "iopub.status.idle": "2024-03-29T05:38:14.448303Z",
          "shell.execute_reply.started": "2024-03-29T05:38:14.448087Z",
          "shell.execute_reply": "2024-03-29T05:38:14.448102Z"
        },
        "trusted": true,
        "colab": {
          "base_uri": "https://localhost:8080/",
          "height": 383
        },
        "outputId": "491fe713-a3f8-4dd9-f1b9-8607aa6cfb89"
      },
      "execution_count": 13,
      "outputs": [
        {
          "output_type": "display_data",
          "data": {
            "text/plain": [
              "<IPython.core.display.HTML object>"
            ],
            "text/html": [
              "<table border=\"1\" class=\"dataframe\">\n",
              "  <thead>\n",
              "    <tr style=\"text-align: right;\">\n",
              "      <th></th>\n",
              "      <th>TypeOfSteel_A300</th>\n",
              "      <th>TypeOfSteel_A400</th>\n",
              "      <th>id</th>\n",
              "      <th>X_Minimum</th>\n",
              "      <th>X_Maximum</th>\n",
              "      <th>Y_Minimum</th>\n",
              "      <th>Y_Maximum</th>\n",
              "      <th>Pixels_Areas</th>\n",
              "      <th>X_Perimeter</th>\n",
              "      <th>Y_Perimeter</th>\n",
              "      <th>Sum_of_Luminosity</th>\n",
              "      <th>Minimum_of_Luminosity</th>\n",
              "      <th>Maximum_of_Luminosity</th>\n",
              "      <th>Length_of_Conveyer</th>\n",
              "      <th>Steel_Plate_Thickness</th>\n",
              "      <th>Edges_Index</th>\n",
              "      <th>Empty_Index</th>\n",
              "      <th>Square_Index</th>\n",
              "      <th>Outside_X_Index</th>\n",
              "      <th>Edges_X_Index</th>\n",
              "      <th>Edges_Y_Index</th>\n",
              "      <th>Outside_Global_Index</th>\n",
              "      <th>LogOfAreas</th>\n",
              "      <th>Log_X_Index</th>\n",
              "      <th>Log_Y_Index</th>\n",
              "      <th>Orientation_Index</th>\n",
              "      <th>Luminosity_Index</th>\n",
              "      <th>SigmoidOfAreas</th>\n",
              "      <th>Pastry</th>\n",
              "      <th>Z_Scratch</th>\n",
              "      <th>K_Scatch</th>\n",
              "      <th>Stains</th>\n",
              "      <th>Dirtiness</th>\n",
              "      <th>Bumps</th>\n",
              "      <th>Other_Faults</th>\n",
              "    </tr>\n",
              "  </thead>\n",
              "  <tbody>\n",
              "    <tr>\n",
              "      <th>0</th>\n",
              "      <td>1</td>\n",
              "      <td>0</td>\n",
              "      <td>17982.000226</td>\n",
              "      <td>507.000007</td>\n",
              "      <td>512.999994</td>\n",
              "      <td>1.620649e+06</td>\n",
              "      <td>1.620667e+06</td>\n",
              "      <td>113.999989</td>\n",
              "      <td>17.000000</td>\n",
              "      <td>14.999999</td>\n",
              "      <td>13986.995683</td>\n",
              "      <td>105.000000</td>\n",
              "      <td>140.0</td>\n",
              "      <td>1687.999994</td>\n",
              "      <td>70.000000</td>\n",
              "      <td>0.0036</td>\n",
              "      <td>0.3667</td>\n",
              "      <td>0.6667</td>\n",
              "      <td>0.0077</td>\n",
              "      <td>0.7647</td>\n",
              "      <td>1.0000</td>\n",
              "      <td>1.000000e+00</td>\n",
              "      <td>2.0569</td>\n",
              "      <td>1.1139</td>\n",
              "      <td>1.1761</td>\n",
              "      <td>3.333000e-01</td>\n",
              "      <td>-0.0548</td>\n",
              "      <td>0.3097</td>\n",
              "      <td>1.0</td>\n",
              "      <td>0.0</td>\n",
              "      <td>0.0</td>\n",
              "      <td>0.0</td>\n",
              "      <td>0.0</td>\n",
              "      <td>0.0</td>\n",
              "      <td>0.0</td>\n",
              "    </tr>\n",
              "    <tr>\n",
              "      <th>1</th>\n",
              "      <td>1</td>\n",
              "      <td>0</td>\n",
              "      <td>6071.000139</td>\n",
              "      <td>1327.000014</td>\n",
              "      <td>1332.000010</td>\n",
              "      <td>1.060291e+06</td>\n",
              "      <td>1.060313e+06</td>\n",
              "      <td>55.000038</td>\n",
              "      <td>20.999999</td>\n",
              "      <td>13.999999</td>\n",
              "      <td>4108.000022</td>\n",
              "      <td>86.000000</td>\n",
              "      <td>111.0</td>\n",
              "      <td>1687.999994</td>\n",
              "      <td>70.000000</td>\n",
              "      <td>0.0192</td>\n",
              "      <td>0.2917</td>\n",
              "      <td>0.5714</td>\n",
              "      <td>0.0044</td>\n",
              "      <td>0.3636</td>\n",
              "      <td>1.0000</td>\n",
              "      <td>1.000000e+00</td>\n",
              "      <td>1.7404</td>\n",
              "      <td>0.7782</td>\n",
              "      <td>1.1461</td>\n",
              "      <td>4.286000e-01</td>\n",
              "      <td>-0.1880</td>\n",
              "      <td>0.2195</td>\n",
              "      <td>0.0</td>\n",
              "      <td>0.0</td>\n",
              "      <td>0.0</td>\n",
              "      <td>0.0</td>\n",
              "      <td>0.0</td>\n",
              "      <td>0.0</td>\n",
              "      <td>1.0</td>\n",
              "    </tr>\n",
              "    <tr>\n",
              "      <th>2</th>\n",
              "      <td>0</td>\n",
              "      <td>1</td>\n",
              "      <td>13944.999971</td>\n",
              "      <td>38.999985</td>\n",
              "      <td>216.000022</td>\n",
              "      <td>2.896951e+06</td>\n",
              "      <td>2.897015e+06</td>\n",
              "      <td>6421.999874</td>\n",
              "      <td>278.000005</td>\n",
              "      <td>134.000000</td>\n",
              "      <td>670952.022029</td>\n",
              "      <td>41.999998</td>\n",
              "      <td>125.0</td>\n",
              "      <td>1358.000002</td>\n",
              "      <td>40.000001</td>\n",
              "      <td>0.0574</td>\n",
              "      <td>0.4603</td>\n",
              "      <td>0.3864</td>\n",
              "      <td>0.1289</td>\n",
              "      <td>0.6295</td>\n",
              "      <td>0.4925</td>\n",
              "      <td>-1.942094e-08</td>\n",
              "      <td>3.8084</td>\n",
              "      <td>2.2430</td>\n",
              "      <td>1.8325</td>\n",
              "      <td>-6.136000e-01</td>\n",
              "      <td>-0.1851</td>\n",
              "      <td>1.0000</td>\n",
              "      <td>0.0</td>\n",
              "      <td>0.0</td>\n",
              "      <td>1.0</td>\n",
              "      <td>0.0</td>\n",
              "      <td>0.0</td>\n",
              "      <td>0.0</td>\n",
              "      <td>0.0</td>\n",
              "    </tr>\n",
              "    <tr>\n",
              "      <th>3</th>\n",
              "      <td>1</td>\n",
              "      <td>0</td>\n",
              "      <td>8832.000038</td>\n",
              "      <td>52.000006</td>\n",
              "      <td>91.999997</td>\n",
              "      <td>6.825898e+04</td>\n",
              "      <td>6.828804e+04</td>\n",
              "      <td>313.000012</td>\n",
              "      <td>52.000001</td>\n",
              "      <td>41.000000</td>\n",
              "      <td>39555.995577</td>\n",
              "      <td>92.000000</td>\n",
              "      <td>133.0</td>\n",
              "      <td>1354.000004</td>\n",
              "      <td>70.000000</td>\n",
              "      <td>0.1064</td>\n",
              "      <td>0.6098</td>\n",
              "      <td>0.8947</td>\n",
              "      <td>0.0242</td>\n",
              "      <td>0.5165</td>\n",
              "      <td>0.5366</td>\n",
              "      <td>-1.942094e-08</td>\n",
              "      <td>2.4969</td>\n",
              "      <td>1.6128</td>\n",
              "      <td>1.3424</td>\n",
              "      <td>-1.053000e-01</td>\n",
              "      <td>-0.1166</td>\n",
              "      <td>0.9681</td>\n",
              "      <td>0.0</td>\n",
              "      <td>0.0</td>\n",
              "      <td>0.0</td>\n",
              "      <td>0.0</td>\n",
              "      <td>0.0</td>\n",
              "      <td>0.0</td>\n",
              "      <td>1.0</td>\n",
              "    </tr>\n",
              "    <tr>\n",
              "      <th>4</th>\n",
              "      <td>1</td>\n",
              "      <td>0</td>\n",
              "      <td>9931.000006</td>\n",
              "      <td>1328.999997</td>\n",
              "      <td>1339.000025</td>\n",
              "      <td>3.485560e+05</td>\n",
              "      <td>3.485680e+05</td>\n",
              "      <td>139.999960</td>\n",
              "      <td>18.999999</td>\n",
              "      <td>28.999999</td>\n",
              "      <td>16070.002307</td>\n",
              "      <td>110.000000</td>\n",
              "      <td>133.0</td>\n",
              "      <td>1363.999996</td>\n",
              "      <td>199.999996</td>\n",
              "      <td>0.7699</td>\n",
              "      <td>0.5185</td>\n",
              "      <td>0.8571</td>\n",
              "      <td>0.0118</td>\n",
              "      <td>0.8947</td>\n",
              "      <td>0.5185</td>\n",
              "      <td>1.000000e+00</td>\n",
              "      <td>2.1461</td>\n",
              "      <td>1.2041</td>\n",
              "      <td>1.1461</td>\n",
              "      <td>1.429000e-01</td>\n",
              "      <td>-0.0786</td>\n",
              "      <td>0.3601</td>\n",
              "      <td>0.0</td>\n",
              "      <td>0.0</td>\n",
              "      <td>0.0</td>\n",
              "      <td>0.0</td>\n",
              "      <td>0.0</td>\n",
              "      <td>0.0</td>\n",
              "      <td>1.0</td>\n",
              "    </tr>\n",
              "    <tr>\n",
              "      <th>5</th>\n",
              "      <td>0</td>\n",
              "      <td>1</td>\n",
              "      <td>1165.000239</td>\n",
              "      <td>630.000003</td>\n",
              "      <td>649.000001</td>\n",
              "      <td>2.339660e+06</td>\n",
              "      <td>2.339663e+06</td>\n",
              "      <td>54.000005</td>\n",
              "      <td>9.000002</td>\n",
              "      <td>9.000001</td>\n",
              "      <td>6935.994947</td>\n",
              "      <td>111.000001</td>\n",
              "      <td>142.0</td>\n",
              "      <td>1387.000000</td>\n",
              "      <td>40.000001</td>\n",
              "      <td>0.6333</td>\n",
              "      <td>0.2778</td>\n",
              "      <td>0.8889</td>\n",
              "      <td>0.0058</td>\n",
              "      <td>0.8889</td>\n",
              "      <td>1.0000</td>\n",
              "      <td>1.000000e+00</td>\n",
              "      <td>1.7324</td>\n",
              "      <td>0.9031</td>\n",
              "      <td>0.9542</td>\n",
              "      <td>1.111000e-01</td>\n",
              "      <td>-0.0236</td>\n",
              "      <td>0.1773</td>\n",
              "      <td>0.0</td>\n",
              "      <td>0.0</td>\n",
              "      <td>0.0</td>\n",
              "      <td>0.0</td>\n",
              "      <td>0.0</td>\n",
              "      <td>1.0</td>\n",
              "      <td>0.0</td>\n",
              "    </tr>\n",
              "    <tr>\n",
              "      <th>6</th>\n",
              "      <td>0</td>\n",
              "      <td>1</td>\n",
              "      <td>8295.000025</td>\n",
              "      <td>1465.000030</td>\n",
              "      <td>1486.000029</td>\n",
              "      <td>2.601240e+05</td>\n",
              "      <td>2.601360e+05</td>\n",
              "      <td>54.000005</td>\n",
              "      <td>27.000002</td>\n",
              "      <td>12.000002</td>\n",
              "      <td>7483.998348</td>\n",
              "      <td>115.999999</td>\n",
              "      <td>140.0</td>\n",
              "      <td>1651.999996</td>\n",
              "      <td>40.000001</td>\n",
              "      <td>0.2668</td>\n",
              "      <td>0.5833</td>\n",
              "      <td>0.4000</td>\n",
              "      <td>0.0132</td>\n",
              "      <td>0.5556</td>\n",
              "      <td>0.5833</td>\n",
              "      <td>-1.942094e-08</td>\n",
              "      <td>1.7324</td>\n",
              "      <td>1.2553</td>\n",
              "      <td>0.8451</td>\n",
              "      <td>-6.000001e-01</td>\n",
              "      <td>-0.0041</td>\n",
              "      <td>0.2621</td>\n",
              "      <td>0.0</td>\n",
              "      <td>0.0</td>\n",
              "      <td>0.0</td>\n",
              "      <td>0.0</td>\n",
              "      <td>0.0</td>\n",
              "      <td>0.0</td>\n",
              "      <td>0.0</td>\n",
              "    </tr>\n",
              "    <tr>\n",
              "      <th>7</th>\n",
              "      <td>0</td>\n",
              "      <td>1</td>\n",
              "      <td>11864.000002</td>\n",
              "      <td>40.999969</td>\n",
              "      <td>211.999971</td>\n",
              "      <td>1.469856e+06</td>\n",
              "      <td>1.469884e+06</td>\n",
              "      <td>6881.999970</td>\n",
              "      <td>275.999995</td>\n",
              "      <td>131.000000</td>\n",
              "      <td>674367.004897</td>\n",
              "      <td>41.000001</td>\n",
              "      <td>124.0</td>\n",
              "      <td>1359.999997</td>\n",
              "      <td>40.000001</td>\n",
              "      <td>0.0604</td>\n",
              "      <td>0.4272</td>\n",
              "      <td>0.3829</td>\n",
              "      <td>0.1274</td>\n",
              "      <td>0.6604</td>\n",
              "      <td>0.4574</td>\n",
              "      <td>-1.942094e-08</td>\n",
              "      <td>3.8236</td>\n",
              "      <td>2.2380</td>\n",
              "      <td>1.8451</td>\n",
              "      <td>-6.171000e-01</td>\n",
              "      <td>-0.1851</td>\n",
              "      <td>1.0000</td>\n",
              "      <td>0.0</td>\n",
              "      <td>0.0</td>\n",
              "      <td>1.0</td>\n",
              "      <td>0.0</td>\n",
              "      <td>0.0</td>\n",
              "      <td>0.0</td>\n",
              "      <td>0.0</td>\n",
              "    </tr>\n",
              "    <tr>\n",
              "      <th>8</th>\n",
              "      <td>1</td>\n",
              "      <td>0</td>\n",
              "      <td>13140.000028</td>\n",
              "      <td>1064.999993</td>\n",
              "      <td>1078.000003</td>\n",
              "      <td>5.303273e+06</td>\n",
              "      <td>5.303295e+06</td>\n",
              "      <td>108.000013</td>\n",
              "      <td>18.999999</td>\n",
              "      <td>14.999999</td>\n",
              "      <td>12304.000938</td>\n",
              "      <td>97.000000</td>\n",
              "      <td>133.0</td>\n",
              "      <td>1363.999996</td>\n",
              "      <td>80.000000</td>\n",
              "      <td>0.7094</td>\n",
              "      <td>0.3536</td>\n",
              "      <td>1.0000</td>\n",
              "      <td>0.0089</td>\n",
              "      <td>0.6842</td>\n",
              "      <td>0.8667</td>\n",
              "      <td>5.000000e-01</td>\n",
              "      <td>2.0334</td>\n",
              "      <td>1.1139</td>\n",
              "      <td>1.1139</td>\n",
              "      <td>-2.434815e-09</td>\n",
              "      <td>-0.1094</td>\n",
              "      <td>0.2914</td>\n",
              "      <td>0.0</td>\n",
              "      <td>0.0</td>\n",
              "      <td>0.0</td>\n",
              "      <td>0.0</td>\n",
              "      <td>0.0</td>\n",
              "      <td>1.0</td>\n",
              "      <td>0.0</td>\n",
              "    </tr>\n",
              "    <tr>\n",
              "      <th>9</th>\n",
              "      <td>1</td>\n",
              "      <td>0</td>\n",
              "      <td>18436.999806</td>\n",
              "      <td>40.999969</td>\n",
              "      <td>216.000022</td>\n",
              "      <td>1.853169e+06</td>\n",
              "      <td>1.853339e+06</td>\n",
              "      <td>654.999986</td>\n",
              "      <td>76.000000</td>\n",
              "      <td>133.000000</td>\n",
              "      <td>677554.017510</td>\n",
              "      <td>38.000001</td>\n",
              "      <td>124.0</td>\n",
              "      <td>1355.999999</td>\n",
              "      <td>80.000000</td>\n",
              "      <td>0.0605</td>\n",
              "      <td>0.4331</td>\n",
              "      <td>0.3771</td>\n",
              "      <td>0.1291</td>\n",
              "      <td>0.5369</td>\n",
              "      <td>0.5149</td>\n",
              "      <td>-1.942094e-08</td>\n",
              "      <td>2.8142</td>\n",
              "      <td>2.2430</td>\n",
              "      <td>1.8129</td>\n",
              "      <td>-6.229000e-01</td>\n",
              "      <td>-0.1902</td>\n",
              "      <td>1.0000</td>\n",
              "      <td>0.0</td>\n",
              "      <td>0.0</td>\n",
              "      <td>0.0</td>\n",
              "      <td>0.0</td>\n",
              "      <td>0.0</td>\n",
              "      <td>1.0</td>\n",
              "      <td>0.0</td>\n",
              "    </tr>\n",
              "  </tbody>\n",
              "</table>"
            ]
          },
          "metadata": {}
        }
      ]
    },
    {
      "cell_type": "markdown",
      "source": [
        "### Tabular Model\n",
        "\n",
        "We can define our model by using the tabular_learner method which returns a learner that includes a tabularModel which creates a basic model for our tabular data while infering the right loss function."
      ],
      "metadata": {
        "id": "y_TGDD5y1f5X"
      }
    },
    {
      "cell_type": "code",
      "source": [
        "learn = tabular_learner(dls, metrics=RocAucMulti())"
      ],
      "metadata": {
        "id": "zgoR-q0fdGGk",
        "execution": {
          "iopub.status.busy": "2024-03-29T05:38:14.449726Z",
          "iopub.status.idle": "2024-03-29T05:38:14.45009Z",
          "shell.execute_reply.started": "2024-03-29T05:38:14.449906Z",
          "shell.execute_reply": "2024-03-29T05:38:14.449921Z"
        },
        "trusted": true
      },
      "execution_count": 14,
      "outputs": []
    },
    {
      "cell_type": "code",
      "source": [
        "learn.lr_find(suggest_funcs=(slide,valley))"
      ],
      "metadata": {
        "id": "IPyazzCaPcNi",
        "execution": {
          "iopub.status.busy": "2024-03-29T05:38:14.451634Z",
          "iopub.status.idle": "2024-03-29T05:38:14.451962Z",
          "shell.execute_reply.started": "2024-03-29T05:38:14.451795Z",
          "shell.execute_reply": "2024-03-29T05:38:14.451808Z"
        },
        "trusted": true,
        "colab": {
          "base_uri": "https://localhost:8080/",
          "height": 476
        },
        "outputId": "e02c65c7-fbe6-4055-e553-2eab06737df5"
      },
      "execution_count": 15,
      "outputs": [
        {
          "output_type": "display_data",
          "data": {
            "text/plain": [
              "<IPython.core.display.HTML object>"
            ],
            "text/html": [
              "\n",
              "<style>\n",
              "    /* Turns off some styling */\n",
              "    progress {\n",
              "        /* gets rid of default border in Firefox and Opera. */\n",
              "        border: none;\n",
              "        /* Needs to be in here for Safari polyfill so background images work as expected. */\n",
              "        background-size: auto;\n",
              "    }\n",
              "    progress:not([value]), progress:not([value])::-webkit-progress-bar {\n",
              "        background: repeating-linear-gradient(45deg, #7e7e7e, #7e7e7e 10px, #5c5c5c 10px, #5c5c5c 20px);\n",
              "    }\n",
              "    .progress-bar-interrupted, .progress-bar-interrupted::-webkit-progress-bar {\n",
              "        background: #F44336;\n",
              "    }\n",
              "</style>\n"
            ]
          },
          "metadata": {}
        },
        {
          "output_type": "display_data",
          "data": {
            "text/plain": [
              "<IPython.core.display.HTML object>"
            ],
            "text/html": []
          },
          "metadata": {}
        },
        {
          "output_type": "execute_result",
          "data": {
            "text/plain": [
              "SuggestedLRs(slide=0.019054606556892395, valley=0.0005754399462603033)"
            ]
          },
          "metadata": {},
          "execution_count": 15
        },
        {
          "output_type": "display_data",
          "data": {
            "text/plain": [
              "<Figure size 640x480 with 1 Axes>"
            ],
            "image/png": "[encoded data removed]"
          },
          "metadata": {}
        }
      ]
    },
    {
      "cell_type": "code",
      "source": [
        "#learn.fit_one_cycle(15, slice(0.0005, 0.019))\n",
        "learn.fit_one_cycle(12, 0.014)"
      ],
      "metadata": {
        "id": "BJV69bfWTGFR",
        "execution": {
          "iopub.status.busy": "2024-03-29T05:38:17.419274Z",
          "iopub.execute_input": "2024-03-29T05:38:17.420267Z",
          "iopub.status.idle": "2024-03-29T05:38:17.600791Z",
          "shell.execute_reply.started": "2024-03-29T05:38:17.420226Z",
          "shell.execute_reply": "2024-03-29T05:38:17.599555Z"
        },
        "trusted": true,
        "outputId": "fdfae6eb-1e7b-4dbf-d0ca-d3ea05c9d707",
        "colab": {
          "base_uri": "https://localhost:8080/",
          "height": 425
        }
      },
      "execution_count": 16,
      "outputs": [
        {
          "output_type": "display_data",
          "data": {
            "text/plain": [
              "<IPython.core.display.HTML object>"
            ],
            "text/html": [
              "\n",
              "<style>\n",
              "    /* Turns off some styling */\n",
              "    progress {\n",
              "        /* gets rid of default border in Firefox and Opera. */\n",
              "        border: none;\n",
              "        /* Needs to be in here for Safari polyfill so background images work as expected. */\n",
              "        background-size: auto;\n",
              "    }\n",
              "    progress:not([value]), progress:not([value])::-webkit-progress-bar {\n",
              "        background: repeating-linear-gradient(45deg, #7e7e7e, #7e7e7e 10px, #5c5c5c 10px, #5c5c5c 20px);\n",
              "    }\n",
              "    .progress-bar-interrupted, .progress-bar-interrupted::-webkit-progress-bar {\n",
              "        background: #F44336;\n",
              "    }\n",
              "</style>\n"
            ]
          },
          "metadata": {}
        },
        {
          "output_type": "display_data",
          "data": {
            "text/plain": [
              "<IPython.core.display.HTML object>"
            ],
            "text/html": [
              "<table border=\"1\" class=\"dataframe\">\n",
              "  <thead>\n",
              "    <tr style=\"text-align: left;\">\n",
              "      <th>epoch</th>\n",
              "      <th>train_loss</th>\n",
              "      <th>valid_loss</th>\n",
              "      <th>roc_auc_score</th>\n",
              "      <th>time</th>\n",
              "    </tr>\n",
              "  </thead>\n",
              "  <tbody>\n",
              "    <tr>\n",
              "      <td>0</td>\n",
              "      <td>0.086378</td>\n",
              "      <td>0.086055</td>\n",
              "      <td>0.833141</td>\n",
              "      <td>00:02</td>\n",
              "    </tr>\n",
              "    <tr>\n",
              "      <td>1</td>\n",
              "      <td>0.083285</td>\n",
              "      <td>0.082288</td>\n",
              "      <td>0.813697</td>\n",
              "      <td>00:02</td>\n",
              "    </tr>\n",
              "    <tr>\n",
              "      <td>2</td>\n",
              "      <td>0.079279</td>\n",
              "      <td>0.079321</td>\n",
              "      <td>0.860916</td>\n",
              "      <td>00:03</td>\n",
              "    </tr>\n",
              "    <tr>\n",
              "      <td>3</td>\n",
              "      <td>0.076571</td>\n",
              "      <td>0.076136</td>\n",
              "      <td>0.851029</td>\n",
              "      <td>00:02</td>\n",
              "    </tr>\n",
              "    <tr>\n",
              "      <td>4</td>\n",
              "      <td>0.075866</td>\n",
              "      <td>0.075056</td>\n",
              "      <td>0.857918</td>\n",
              "      <td>00:02</td>\n",
              "    </tr>\n",
              "    <tr>\n",
              "      <td>5</td>\n",
              "      <td>0.076046</td>\n",
              "      <td>0.074609</td>\n",
              "      <td>0.866634</td>\n",
              "      <td>00:02</td>\n",
              "    </tr>\n",
              "    <tr>\n",
              "      <td>6</td>\n",
              "      <td>0.075439</td>\n",
              "      <td>0.074383</td>\n",
              "      <td>0.863931</td>\n",
              "      <td>00:02</td>\n",
              "    </tr>\n",
              "    <tr>\n",
              "      <td>7</td>\n",
              "      <td>0.074229</td>\n",
              "      <td>0.073788</td>\n",
              "      <td>0.868398</td>\n",
              "      <td>00:02</td>\n",
              "    </tr>\n",
              "    <tr>\n",
              "      <td>8</td>\n",
              "      <td>0.072545</td>\n",
              "      <td>0.073849</td>\n",
              "      <td>0.869331</td>\n",
              "      <td>00:02</td>\n",
              "    </tr>\n",
              "    <tr>\n",
              "      <td>9</td>\n",
              "      <td>0.071880</td>\n",
              "      <td>0.073710</td>\n",
              "      <td>0.864399</td>\n",
              "      <td>00:02</td>\n",
              "    </tr>\n",
              "    <tr>\n",
              "      <td>10</td>\n",
              "      <td>0.071928</td>\n",
              "      <td>0.073460</td>\n",
              "      <td>0.869020</td>\n",
              "      <td>00:02</td>\n",
              "    </tr>\n",
              "    <tr>\n",
              "      <td>11</td>\n",
              "      <td>0.071393</td>\n",
              "      <td>0.073529</td>\n",
              "      <td>0.868233</td>\n",
              "      <td>00:05</td>\n",
              "    </tr>\n",
              "  </tbody>\n",
              "</table>"
            ]
          },
          "metadata": {}
        }
      ]
    },
    {
      "cell_type": "code",
      "source": [
        "learn.show_results()"
      ],
      "metadata": {
        "execution": {
          "iopub.status.busy": "2024-03-29T05:38:17.766122Z",
          "iopub.execute_input": "2024-03-29T05:38:17.766915Z",
          "iopub.status.idle": "2024-03-29T05:38:17.799667Z",
          "shell.execute_reply.started": "2024-03-29T05:38:17.76688Z",
          "shell.execute_reply": "2024-03-29T05:38:17.79835Z"
        },
        "trusted": true,
        "id": "yxSrayAl1f5Y",
        "outputId": "1035c761-7586-4771-da33-3b5ac0dedf0b",
        "colab": {
          "base_uri": "https://localhost:8080/",
          "height": 351
        }
      },
      "execution_count": 17,
      "outputs": [
        {
          "output_type": "display_data",
          "data": {
            "text/plain": [
              "<IPython.core.display.HTML object>"
            ],
            "text/html": [
              "\n",
              "<style>\n",
              "    /* Turns off some styling */\n",
              "    progress {\n",
              "        /* gets rid of default border in Firefox and Opera. */\n",
              "        border: none;\n",
              "        /* Needs to be in here for Safari polyfill so background images work as expected. */\n",
              "        background-size: auto;\n",
              "    }\n",
              "    progress:not([value]), progress:not([value])::-webkit-progress-bar {\n",
              "        background: repeating-linear-gradient(45deg, #7e7e7e, #7e7e7e 10px, #5c5c5c 10px, #5c5c5c 20px);\n",
              "    }\n",
              "    .progress-bar-interrupted, .progress-bar-interrupted::-webkit-progress-bar {\n",
              "        background: #F44336;\n",
              "    }\n",
              "</style>\n"
            ]
          },
          "metadata": {}
        },
        {
          "output_type": "display_data",
          "data": {
            "text/plain": [
              "<IPython.core.display.HTML object>"
            ],
            "text/html": []
          },
          "metadata": {}
        },
        {
          "output_type": "display_data",
          "data": {
            "text/plain": [
              "<IPython.core.display.HTML object>"
            ],
            "text/html": [
              "<table border=\"1\" class=\"dataframe\">\n",
              "  <thead>\n",
              "    <tr style=\"text-align: right;\">\n",
              "      <th></th>\n",
              "      <th>TypeOfSteel_A300</th>\n",
              "      <th>TypeOfSteel_A400</th>\n",
              "      <th>id</th>\n",
              "      <th>X_Minimum</th>\n",
              "      <th>X_Maximum</th>\n",
              "      <th>Y_Minimum</th>\n",
              "      <th>Y_Maximum</th>\n",
              "      <th>Pixels_Areas</th>\n",
              "      <th>X_Perimeter</th>\n",
              "      <th>Y_Perimeter</th>\n",
              "      <th>Sum_of_Luminosity</th>\n",
              "      <th>Minimum_of_Luminosity</th>\n",
              "      <th>Maximum_of_Luminosity</th>\n",
              "      <th>Length_of_Conveyer</th>\n",
              "      <th>Steel_Plate_Thickness</th>\n",
              "      <th>Edges_Index</th>\n",
              "      <th>Empty_Index</th>\n",
              "      <th>Square_Index</th>\n",
              "      <th>Outside_X_Index</th>\n",
              "      <th>Edges_X_Index</th>\n",
              "      <th>Edges_Y_Index</th>\n",
              "      <th>Outside_Global_Index</th>\n",
              "      <th>LogOfAreas</th>\n",
              "      <th>Log_X_Index</th>\n",
              "      <th>Log_Y_Index</th>\n",
              "      <th>Orientation_Index</th>\n",
              "      <th>Luminosity_Index</th>\n",
              "      <th>SigmoidOfAreas</th>\n",
              "      <th>Pastry</th>\n",
              "      <th>Z_Scratch</th>\n",
              "      <th>K_Scatch</th>\n",
              "      <th>Stains</th>\n",
              "      <th>Dirtiness</th>\n",
              "      <th>Bumps</th>\n",
              "      <th>Other_Faults</th>\n",
              "      <th>Pastry_pred</th>\n",
              "      <th>Z_Scratch_pred</th>\n",
              "      <th>K_Scatch_pred</th>\n",
              "      <th>Stains_pred</th>\n",
              "      <th>Dirtiness_pred</th>\n",
              "      <th>Bumps_pred</th>\n",
              "      <th>Other_Faults_pred</th>\n",
              "    </tr>\n",
              "  </thead>\n",
              "  <tbody>\n",
              "    <tr>\n",
              "      <th>0</th>\n",
              "      <td>1.0</td>\n",
              "      <td>2.0</td>\n",
              "      <td>1.229060</td>\n",
              "      <td>-1.267110</td>\n",
              "      <td>-1.086205</td>\n",
              "      <td>0.558758</td>\n",
              "      <td>0.562838</td>\n",
              "      <td>1.219324</td>\n",
              "      <td>1.199583</td>\n",
              "      <td>0.771679</td>\n",
              "      <td>0.961418</td>\n",
              "      <td>-1.249645</td>\n",
              "      <td>-0.120608</td>\n",
              "      <td>-0.707954</td>\n",
              "      <td>-0.671772</td>\n",
              "      <td>-0.927156</td>\n",
              "      <td>1.461232</td>\n",
              "      <td>-0.692141</td>\n",
              "      <td>2.068613</td>\n",
              "      <td>0.139793</td>\n",
              "      <td>-1.751434</td>\n",
              "      <td>-1.234495</td>\n",
              "      <td>1.733519</td>\n",
              "      <td>1.980748</td>\n",
              "      <td>1.046627</td>\n",
              "      <td>-1.457754</td>\n",
              "      <td>-0.331092</td>\n",
              "      <td>1.289203</td>\n",
              "      <td>0.0</td>\n",
              "      <td>0.0</td>\n",
              "      <td>1.0</td>\n",
              "      <td>0.0</td>\n",
              "      <td>0.0</td>\n",
              "      <td>0.0</td>\n",
              "      <td>0.0</td>\n",
              "      <td>0.007419</td>\n",
              "      <td>0.020888</td>\n",
              "      <td>0.913087</td>\n",
              "      <td>-0.010655</td>\n",
              "      <td>-0.006618</td>\n",
              "      <td>-0.005103</td>\n",
              "      <td>0.077248</td>\n",
              "    </tr>\n",
              "    <tr>\n",
              "      <th>1</th>\n",
              "      <td>1.0</td>\n",
              "      <td>2.0</td>\n",
              "      <td>1.495112</td>\n",
              "      <td>-1.161779</td>\n",
              "      <td>-1.174207</td>\n",
              "      <td>-0.569277</td>\n",
              "      <td>-0.569185</td>\n",
              "      <td>-0.424734</td>\n",
              "      <td>-0.286880</td>\n",
              "      <td>-0.286917</td>\n",
              "      <td>-0.409382</td>\n",
              "      <td>1.146062</td>\n",
              "      <td>0.441885</td>\n",
              "      <td>-0.666694</td>\n",
              "      <td>1.814365</td>\n",
              "      <td>-0.646254</td>\n",
              "      <td>1.152790</td>\n",
              "      <td>-0.013436</td>\n",
              "      <td>-0.055471</td>\n",
              "      <td>0.460702</td>\n",
              "      <td>-1.735542</td>\n",
              "      <td>-1.234495</td>\n",
              "      <td>-0.572716</td>\n",
              "      <td>0.572802</td>\n",
              "      <td>-0.860653</td>\n",
              "      <td>-1.095906</td>\n",
              "      <td>0.830557</td>\n",
              "      <td>-0.465705</td>\n",
              "      <td>0.0</td>\n",
              "      <td>0.0</td>\n",
              "      <td>0.0</td>\n",
              "      <td>0.0</td>\n",
              "      <td>0.0</td>\n",
              "      <td>0.0</td>\n",
              "      <td>1.0</td>\n",
              "      <td>0.032325</td>\n",
              "      <td>0.140987</td>\n",
              "      <td>0.024247</td>\n",
              "      <td>0.000605</td>\n",
              "      <td>-0.004673</td>\n",
              "      <td>0.092902</td>\n",
              "      <td>0.634915</td>\n",
              "    </tr>\n",
              "    <tr>\n",
              "      <th>2</th>\n",
              "      <td>1.0</td>\n",
              "      <td>2.0</td>\n",
              "      <td>-1.405084</td>\n",
              "      <td>-1.310370</td>\n",
              "      <td>-1.464213</td>\n",
              "      <td>5.041518</td>\n",
              "      <td>5.061626</td>\n",
              "      <td>-0.438297</td>\n",
              "      <td>-0.465703</td>\n",
              "      <td>-0.556560</td>\n",
              "      <td>-0.416389</td>\n",
              "      <td>1.180782</td>\n",
              "      <td>0.793443</td>\n",
              "      <td>-0.494778</td>\n",
              "      <td>-0.671772</td>\n",
              "      <td>-1.099898</td>\n",
              "      <td>-0.002262</td>\n",
              "      <td>0.353650</td>\n",
              "      <td>-0.563544</td>\n",
              "      <td>-0.142014</td>\n",
              "      <td>0.761681</td>\n",
              "      <td>0.842607</td>\n",
              "      <td>-0.923473</td>\n",
              "      <td>-0.998784</td>\n",
              "      <td>-1.202554</td>\n",
              "      <td>0.468746</td>\n",
              "      <td>1.128245</td>\n",
              "      <td>-1.113486</td>\n",
              "      <td>0.0</td>\n",
              "      <td>0.0</td>\n",
              "      <td>0.0</td>\n",
              "      <td>0.0</td>\n",
              "      <td>0.0</td>\n",
              "      <td>0.0</td>\n",
              "      <td>1.0</td>\n",
              "      <td>0.096410</td>\n",
              "      <td>0.031970</td>\n",
              "      <td>0.074296</td>\n",
              "      <td>0.022689</td>\n",
              "      <td>0.071079</td>\n",
              "      <td>0.182124</td>\n",
              "      <td>0.430265</td>\n",
              "    </tr>\n",
              "    <tr>\n",
              "      <th>3</th>\n",
              "      <td>1.0</td>\n",
              "      <td>2.0</td>\n",
              "      <td>-1.513816</td>\n",
              "      <td>-0.204401</td>\n",
              "      <td>-0.250189</td>\n",
              "      <td>0.609885</td>\n",
              "      <td>0.614146</td>\n",
              "      <td>-0.397609</td>\n",
              "      <td>-0.320409</td>\n",
              "      <td>-0.346838</td>\n",
              "      <td>-0.370270</td>\n",
              "      <td>1.007180</td>\n",
              "      <td>0.371573</td>\n",
              "      <td>-0.666694</td>\n",
              "      <td>-0.671772</td>\n",
              "      <td>-0.770403</td>\n",
              "      <td>0.874067</td>\n",
              "      <td>-0.222209</td>\n",
              "      <td>-0.352203</td>\n",
              "      <td>-0.912825</td>\n",
              "      <td>-0.063765</td>\n",
              "      <td>-1.234495</td>\n",
              "      <td>-0.200776</td>\n",
              "      <td>-0.071277</td>\n",
              "      <td>0.180131</td>\n",
              "      <td>-1.207212</td>\n",
              "      <td>0.972749</td>\n",
              "      <td>-0.552397</td>\n",
              "      <td>0.0</td>\n",
              "      <td>0.0</td>\n",
              "      <td>0.0</td>\n",
              "      <td>0.0</td>\n",
              "      <td>0.0</td>\n",
              "      <td>1.0</td>\n",
              "      <td>0.0</td>\n",
              "      <td>0.011477</td>\n",
              "      <td>0.042955</td>\n",
              "      <td>0.095548</td>\n",
              "      <td>0.009951</td>\n",
              "      <td>0.015799</td>\n",
              "      <td>0.264541</td>\n",
              "      <td>0.500548</td>\n",
              "    </tr>\n",
              "    <tr>\n",
              "      <th>4</th>\n",
              "      <td>1.0</td>\n",
              "      <td>2.0</td>\n",
              "      <td>1.084565</td>\n",
              "      <td>1.091538</td>\n",
              "      <td>1.119837</td>\n",
              "      <td>-0.817302</td>\n",
              "      <td>-0.818145</td>\n",
              "      <td>-0.365330</td>\n",
              "      <td>-0.348350</td>\n",
              "      <td>-0.316878</td>\n",
              "      <td>-0.356707</td>\n",
              "      <td>0.486374</td>\n",
              "      <td>0.371573</td>\n",
              "      <td>-0.728584</td>\n",
              "      <td>-0.119297</td>\n",
              "      <td>-1.066666</td>\n",
              "      <td>0.162401</td>\n",
              "      <td>-0.524969</td>\n",
              "      <td>-0.461075</td>\n",
              "      <td>0.102489</td>\n",
              "      <td>0.620020</td>\n",
              "      <td>0.842607</td>\n",
              "      <td>0.039070</td>\n",
              "      <td>-0.498024</td>\n",
              "      <td>0.251824</td>\n",
              "      <td>0.937177</td>\n",
              "      <td>0.190278</td>\n",
              "      <td>1.221174</td>\n",
              "      <td>0.0</td>\n",
              "      <td>0.0</td>\n",
              "      <td>0.0</td>\n",
              "      <td>0.0</td>\n",
              "      <td>0.0</td>\n",
              "      <td>1.0</td>\n",
              "      <td>0.0</td>\n",
              "      <td>0.110203</td>\n",
              "      <td>0.151012</td>\n",
              "      <td>-0.029142</td>\n",
              "      <td>0.022768</td>\n",
              "      <td>0.109400</td>\n",
              "      <td>0.257387</td>\n",
              "      <td>0.344703</td>\n",
              "    </tr>\n",
              "    <tr>\n",
              "      <th>5</th>\n",
              "      <td>2.0</td>\n",
              "      <td>1.0</td>\n",
              "      <td>0.580097</td>\n",
              "      <td>-0.292804</td>\n",
              "      <td>-0.378192</td>\n",
              "      <td>0.614171</td>\n",
              "      <td>0.618445</td>\n",
              "      <td>-0.431787</td>\n",
              "      <td>-0.460114</td>\n",
              "      <td>-0.486652</td>\n",
              "      <td>-0.411846</td>\n",
              "      <td>0.486374</td>\n",
              "      <td>-0.261231</td>\n",
              "      <td>1.588842</td>\n",
              "      <td>-0.119297</td>\n",
              "      <td>1.082418</td>\n",
              "      <td>-1.205507</td>\n",
              "      <td>0.353650</td>\n",
              "      <td>-0.525118</td>\n",
              "      <td>0.693519</td>\n",
              "      <td>0.761681</td>\n",
              "      <td>0.842607</td>\n",
              "      <td>-0.728359</td>\n",
              "      <td>-0.667440</td>\n",
              "      <td>-0.527651</td>\n",
              "      <td>0.468746</td>\n",
              "      <td>0.086336</td>\n",
              "      <td>-0.920236</td>\n",
              "      <td>0.0</td>\n",
              "      <td>0.0</td>\n",
              "      <td>0.0</td>\n",
              "      <td>0.0</td>\n",
              "      <td>0.0</td>\n",
              "      <td>0.0</td>\n",
              "      <td>1.0</td>\n",
              "      <td>0.114960</td>\n",
              "      <td>0.005329</td>\n",
              "      <td>0.002007</td>\n",
              "      <td>-0.000535</td>\n",
              "      <td>-0.005137</td>\n",
              "      <td>0.545937</td>\n",
              "      <td>0.309023</td>\n",
              "    </tr>\n",
              "    <tr>\n",
              "      <th>6</th>\n",
              "      <td>1.0</td>\n",
              "      <td>2.0</td>\n",
              "      <td>-0.141656</td>\n",
              "      <td>-1.267110</td>\n",
              "      <td>-1.088206</td>\n",
              "      <td>-0.187156</td>\n",
              "      <td>-0.185717</td>\n",
              "      <td>1.454770</td>\n",
              "      <td>1.009584</td>\n",
              "      <td>0.791653</td>\n",
              "      <td>1.213140</td>\n",
              "      <td>-1.631569</td>\n",
              "      <td>-0.331543</td>\n",
              "      <td>-0.694201</td>\n",
              "      <td>-0.671772</td>\n",
              "      <td>-0.927469</td>\n",
              "      <td>0.156779</td>\n",
              "      <td>-0.683667</td>\n",
              "      <td>2.036592</td>\n",
              "      <td>0.106983</td>\n",
              "      <td>-1.651545</td>\n",
              "      <td>-1.234495</td>\n",
              "      <td>1.746282</td>\n",
              "      <td>1.970053</td>\n",
              "      <td>1.171225</td>\n",
              "      <td>-1.453236</td>\n",
              "      <td>-0.398446</td>\n",
              "      <td>1.289203</td>\n",
              "      <td>0.0</td>\n",
              "      <td>0.0</td>\n",
              "      <td>1.0</td>\n",
              "      <td>0.0</td>\n",
              "      <td>0.0</td>\n",
              "      <td>0.0</td>\n",
              "      <td>0.0</td>\n",
              "      <td>0.005639</td>\n",
              "      <td>0.004834</td>\n",
              "      <td>0.956919</td>\n",
              "      <td>-0.005059</td>\n",
              "      <td>-0.009062</td>\n",
              "      <td>0.003593</td>\n",
              "      <td>0.039449</td>\n",
              "    </tr>\n",
              "    <tr>\n",
              "      <th>7</th>\n",
              "      <td>2.0</td>\n",
              "      <td>1.0</td>\n",
              "      <td>-0.605304</td>\n",
              "      <td>-0.153617</td>\n",
              "      <td>-0.228189</td>\n",
              "      <td>0.095545</td>\n",
              "      <td>0.098013</td>\n",
              "      <td>-0.398965</td>\n",
              "      <td>-0.432173</td>\n",
              "      <td>-0.456692</td>\n",
              "      <td>-0.378082</td>\n",
              "      <td>1.215503</td>\n",
              "      <td>0.793443</td>\n",
              "      <td>-0.680447</td>\n",
              "      <td>0.433178</td>\n",
              "      <td>1.967446</td>\n",
              "      <td>0.905393</td>\n",
              "      <td>0.504645</td>\n",
              "      <td>-0.461075</td>\n",
              "      <td>0.232830</td>\n",
              "      <td>0.227729</td>\n",
              "      <td>0.842607</td>\n",
              "      <td>-0.214591</td>\n",
              "      <td>-0.498024</td>\n",
              "      <td>-0.393165</td>\n",
              "      <td>0.388244</td>\n",
              "      <td>1.377704</td>\n",
              "      <td>-0.287204</td>\n",
              "      <td>0.0</td>\n",
              "      <td>0.0</td>\n",
              "      <td>0.0</td>\n",
              "      <td>0.0</td>\n",
              "      <td>0.0</td>\n",
              "      <td>0.0</td>\n",
              "      <td>1.0</td>\n",
              "      <td>0.006362</td>\n",
              "      <td>0.045692</td>\n",
              "      <td>-0.009613</td>\n",
              "      <td>0.020792</td>\n",
              "      <td>0.039210</td>\n",
              "      <td>0.380739</td>\n",
              "      <td>0.436951</td>\n",
              "    </tr>\n",
              "    <tr>\n",
              "      <th>8</th>\n",
              "      <td>1.0</td>\n",
              "      <td>2.0</td>\n",
              "      <td>-0.765513</td>\n",
              "      <td>-1.267110</td>\n",
              "      <td>-1.128206</td>\n",
              "      <td>3.084261</td>\n",
              "      <td>3.097390</td>\n",
              "      <td>0.738123</td>\n",
              "      <td>0.663115</td>\n",
              "      <td>0.462090</td>\n",
              "      <td>0.644310</td>\n",
              "      <td>-1.631569</td>\n",
              "      <td>0.793443</td>\n",
              "      <td>-0.694201</td>\n",
              "      <td>-0.671772</td>\n",
              "      <td>-0.915243</td>\n",
              "      <td>-0.083388</td>\n",
              "      <td>-0.766868</td>\n",
              "      <td>1.667278</td>\n",
              "      <td>0.949257</td>\n",
              "      <td>-1.372310</td>\n",
              "      <td>-1.234495</td>\n",
              "      <td>1.539853</td>\n",
              "      <td>1.860531</td>\n",
              "      <td>0.807074</td>\n",
              "      <td>-1.497594</td>\n",
              "      <td>-0.155639</td>\n",
              "      <td>1.289203</td>\n",
              "      <td>0.0</td>\n",
              "      <td>0.0</td>\n",
              "      <td>1.0</td>\n",
              "      <td>0.0</td>\n",
              "      <td>0.0</td>\n",
              "      <td>0.0</td>\n",
              "      <td>0.0</td>\n",
              "      <td>-0.005212</td>\n",
              "      <td>-0.015262</td>\n",
              "      <td>0.940558</td>\n",
              "      <td>0.010508</td>\n",
              "      <td>-0.004820</td>\n",
              "      <td>0.013399</td>\n",
              "      <td>0.052651</td>\n",
              "    </tr>\n",
              "  </tbody>\n",
              "</table>"
            ]
          },
          "metadata": {}
        }
      ]
    },
    {
      "cell_type": "code",
      "source": [
        "dl = learn.dls.test_dl(test_df)\n",
        "\n",
        "nn_preds = learn.get_preds(dl=dl)\n",
        "nn_preds"
      ],
      "metadata": {
        "id": "0Rk3-KECy9a4",
        "outputId": "64bedc46-a4ac-414e-a172-e7348de5b34d",
        "execution": {
          "iopub.status.busy": "2024-03-29T05:38:18.028246Z",
          "iopub.execute_input": "2024-03-29T05:38:18.028632Z",
          "iopub.status.idle": "2024-03-29T05:38:18.063192Z",
          "shell.execute_reply.started": "2024-03-29T05:38:18.028605Z",
          "shell.execute_reply": "2024-03-29T05:38:18.061748Z"
        },
        "trusted": true,
        "colab": {
          "base_uri": "https://localhost:8080/",
          "height": 156
        }
      },
      "execution_count": 18,
      "outputs": [
        {
          "output_type": "display_data",
          "data": {
            "text/plain": [
              "<IPython.core.display.HTML object>"
            ],
            "text/html": [
              "\n",
              "<style>\n",
              "    /* Turns off some styling */\n",
              "    progress {\n",
              "        /* gets rid of default border in Firefox and Opera. */\n",
              "        border: none;\n",
              "        /* Needs to be in here for Safari polyfill so background images work as expected. */\n",
              "        background-size: auto;\n",
              "    }\n",
              "    progress:not([value]), progress:not([value])::-webkit-progress-bar {\n",
              "        background: repeating-linear-gradient(45deg, #7e7e7e, #7e7e7e 10px, #5c5c5c 10px, #5c5c5c 20px);\n",
              "    }\n",
              "    .progress-bar-interrupted, .progress-bar-interrupted::-webkit-progress-bar {\n",
              "        background: #F44336;\n",
              "    }\n",
              "</style>\n"
            ]
          },
          "metadata": {}
        },
        {
          "output_type": "display_data",
          "data": {
            "text/plain": [
              "<IPython.core.display.HTML object>"
            ],
            "text/html": []
          },
          "metadata": {}
        },
        {
          "output_type": "execute_result",
          "data": {
            "text/plain": [
              "(tensor([[ 5.2935e-01,  5.4013e-04,  1.2583e-02,  ...,  5.9006e-02,  9.9865e-02,  2.5150e-01],\n",
              "         [ 2.1840e-01,  1.3229e-02,  2.6134e-02,  ...,  1.9315e-01,  1.0959e-01,  3.6524e-01],\n",
              "         [ 8.0157e-03,  2.8112e-02,  7.1659e-02,  ...,  1.1430e-02,  2.3432e-01,  5.3058e-01],\n",
              "         ...,\n",
              "         [-5.7466e-05,  3.7441e-03,  8.8100e-01,  ...,  1.2030e-02,  7.9223e-03,  9.2035e-02],\n",
              "         [ 4.4054e-01,  1.1429e-02,  5.4710e-02,  ...,  1.4882e-02,  9.7255e-02,  2.9396e-01],\n",
              "         [-4.2080e-03,  2.5548e-02,  9.5296e-01,  ...,  3.9435e-03, -1.6254e-02,  6.6150e-02]]),\n",
              " None)"
            ]
          },
          "metadata": {},
          "execution_count": 18
        }
      ]
    },
    {
      "cell_type": "markdown",
      "source": [
        "nn_preds returns the predictions from the model"
      ],
      "metadata": {
        "id": "sKYOu2WL1f5Y"
      }
    },
    {
      "cell_type": "code",
      "source": [
        "nn_preds_x = learn.get_preds()[0]\n",
        "nn_preds_x"
      ],
      "metadata": {
        "execution": {
          "iopub.status.busy": "2024-03-29T05:37:50.881742Z",
          "iopub.execute_input": "2024-03-29T05:37:50.882401Z",
          "iopub.status.idle": "2024-03-29T05:37:50.909767Z",
          "shell.execute_reply.started": "2024-03-29T05:37:50.882366Z",
          "shell.execute_reply": "2024-03-29T05:37:50.908106Z"
        },
        "trusted": true,
        "id": "QVfsucsl1f5Y",
        "outputId": "ab57192c-2d3f-47f4-8aa7-5815c4d47ccf",
        "colab": {
          "base_uri": "https://localhost:8080/",
          "height": 138
        }
      },
      "execution_count": 19,
      "outputs": [
        {
          "output_type": "display_data",
          "data": {
            "text/plain": [
              "<IPython.core.display.HTML object>"
            ],
            "text/html": [
              "\n",
              "<style>\n",
              "    /* Turns off some styling */\n",
              "    progress {\n",
              "        /* gets rid of default border in Firefox and Opera. */\n",
              "        border: none;\n",
              "        /* Needs to be in here for Safari polyfill so background images work as expected. */\n",
              "        background-size: auto;\n",
              "    }\n",
              "    progress:not([value]), progress:not([value])::-webkit-progress-bar {\n",
              "        background: repeating-linear-gradient(45deg, #7e7e7e, #7e7e7e 10px, #5c5c5c 10px, #5c5c5c 20px);\n",
              "    }\n",
              "    .progress-bar-interrupted, .progress-bar-interrupted::-webkit-progress-bar {\n",
              "        background: #F44336;\n",
              "    }\n",
              "</style>\n"
            ]
          },
          "metadata": {}
        },
        {
          "output_type": "display_data",
          "data": {
            "text/plain": [
              "<IPython.core.display.HTML object>"
            ],
            "text/html": []
          },
          "metadata": {}
        },
        {
          "output_type": "execute_result",
          "data": {
            "text/plain": [
              "tensor([[ 0.1000,  0.0251,  0.0437,  ..., -0.0023,  0.1002,  0.6401],\n",
              "        [ 0.0307,  0.1054,  0.1279,  ...,  0.0240,  0.1487,  0.4738],\n",
              "        [ 0.0999,  0.0232,  0.0244,  ..., -0.0074,  0.4392,  0.3623],\n",
              "        ...,\n",
              "        [ 0.0204,  0.2329,  0.0132,  ...,  0.0900,  0.2229,  0.3887],\n",
              "        [ 0.0401,  0.6792,  0.0046,  ...,  0.0073,  0.0926,  0.1853],\n",
              "        [ 0.2037, -0.0010, -0.0021,  ..., -0.0131,  0.4241,  0.3566]])"
            ]
          },
          "metadata": {},
          "execution_count": 19
        }
      ]
    },
    {
      "cell_type": "code",
      "source": [
        "roc_auc_score(y_test, nn_preds_x)"
      ],
      "metadata": {
        "execution": {
          "iopub.status.busy": "2024-03-29T05:37:50.91103Z",
          "iopub.status.idle": "2024-03-29T05:37:50.911958Z",
          "shell.execute_reply.started": "2024-03-29T05:37:50.911649Z",
          "shell.execute_reply": "2024-03-29T05:37:50.911671Z"
        },
        "trusted": true,
        "id": "iBcwHBC11f5Y",
        "colab": {
          "base_uri": "https://localhost:8080/"
        },
        "outputId": "ecad421b-372f-4daa-ae8a-8c4f354e6d66"
      },
      "execution_count": 21,
      "outputs": [
        {
          "output_type": "execute_result",
          "data": {
            "text/plain": [
              "0.8682335109098719"
            ]
          },
          "metadata": {},
          "execution_count": 21
        }
      ]
    },
    {
      "cell_type": "markdown",
      "source": [
        "We can create a submission file for our tabular_learner model by uncommenting and running the cell below."
      ],
      "metadata": {
        "id": "gx504PI81f5Z"
      }
    },
    {
      "cell_type": "code",
      "source": [
        "#target_preds = preds[0]\n",
        "#targets =['Pastry', 'Z_Scratch', 'K_Scatch', 'Stains', 'Dirtiness', 'Bumps', 'Other_Faults']\n",
        "#test_df[targets] = target_preds\n",
        "\n",
        "#test_df.to_csv('submission.csv', columns=['id','Pastry', 'Z_Scratch', 'K_Scatch', 'Stains', 'Dirtiness', 'Bumps', 'Other_Faults'], index=False)\n",
        "\n",
        "#sub = pd.read_csv('submission.csv')\n",
        "#sub.head()"
      ],
      "metadata": {
        "id": "xc3wGzi_2XVD",
        "execution": {
          "iopub.status.busy": "2024-03-29T05:17:20.421636Z",
          "iopub.status.idle": "2024-03-29T05:17:20.421991Z",
          "shell.execute_reply.started": "2024-03-29T05:17:20.421818Z",
          "shell.execute_reply": "2024-03-29T05:17:20.421833Z"
        },
        "trusted": true
      },
      "execution_count": null,
      "outputs": []
    },
    {
      "cell_type": "markdown",
      "source": [
        "### Neural Network Ensemble"
      ],
      "metadata": {
        "id": "nsQFB_tsRJkG"
      }
    },
    {
      "cell_type": "code",
      "source": [
        "learn.lr_find(suggest_funcs=(slide,valley))"
      ],
      "metadata": {
        "id": "il-F9qwWJ1ob",
        "execution": {
          "iopub.status.busy": "2024-03-29T05:17:20.423339Z",
          "iopub.status.idle": "2024-03-29T05:17:20.423833Z",
          "shell.execute_reply.started": "2024-03-29T05:17:20.423588Z",
          "shell.execute_reply": "2024-03-29T05:17:20.423608Z"
        },
        "trusted": true
      },
      "execution_count": null,
      "outputs": []
    },
    {
      "cell_type": "code",
      "source": [
        "dl = learn.dls.test_dl(test_df)"
      ],
      "metadata": {
        "id": "mSBeoFkWKRc2",
        "execution": {
          "iopub.status.busy": "2024-03-29T05:17:20.42612Z",
          "iopub.status.idle": "2024-03-29T05:17:20.426737Z",
          "shell.execute_reply.started": "2024-03-29T05:17:20.426456Z",
          "shell.execute_reply": "2024-03-29T05:17:20.426484Z"
        },
        "trusted": true
      },
      "execution_count": null,
      "outputs": []
    },
    {
      "cell_type": "code",
      "source": [
        "def ensemble():\n",
        "    learn = tabular_learner(dls, metrics=RocAucMulti())\n",
        "    with learn.no_bar(),learn.no_logging(): learn.fit(12, 0.014)\n",
        "    return learn.get_preds(dl=dl)[0]"
      ],
      "metadata": {
        "id": "q0yVYx1j9dNC",
        "execution": {
          "iopub.status.busy": "2024-03-29T05:17:20.428066Z",
          "iopub.status.idle": "2024-03-29T05:17:20.428563Z",
          "shell.execute_reply.started": "2024-03-29T05:17:20.428316Z",
          "shell.execute_reply": "2024-03-29T05:17:20.428337Z"
        },
        "trusted": true
      },
      "execution_count": null,
      "outputs": []
    },
    {
      "cell_type": "code",
      "source": [
        "learns = [ensemble() for _ in range(5)]"
      ],
      "metadata": {
        "id": "nNuFSIBj9dKN",
        "execution": {
          "iopub.status.busy": "2024-03-29T05:17:20.429764Z",
          "iopub.status.idle": "2024-03-29T05:17:20.430294Z",
          "shell.execute_reply.started": "2024-03-29T05:17:20.430012Z",
          "shell.execute_reply": "2024-03-29T05:17:20.430034Z"
        },
        "trusted": true
      },
      "execution_count": null,
      "outputs": []
    },
    {
      "cell_type": "code",
      "source": [
        "ens_preds = torch.stack(learns).mean(0)"
      ],
      "metadata": {
        "id": "PRnGbn9lRUo3",
        "execution": {
          "iopub.status.busy": "2024-03-29T05:17:20.431582Z",
          "iopub.status.idle": "2024-03-29T05:17:20.431905Z",
          "shell.execute_reply.started": "2024-03-29T05:17:20.431744Z",
          "shell.execute_reply": "2024-03-29T05:17:20.431757Z"
        },
        "trusted": true
      },
      "execution_count": null,
      "outputs": []
    },
    {
      "cell_type": "code",
      "source": [
        "#targets =['Pastry', 'Z_Scratch', 'K_Scatch', 'Stains', 'Dirtiness', 'Bumps', 'Other_Faults']\n",
        "#test_df[targets] = ens_preds\n",
        "\n",
        "#test_df.to_csv('submission.csv', columns=['id','Pastry', 'Z_Scratch', 'K_Scatch', 'Stains', 'Dirtiness', 'Bumps', 'Other_Faults'], index=False)\n",
        "\n",
        "#ens_sub = pd.read_csv('submission.csv')\n",
        "#ens_sub.head()"
      ],
      "metadata": {
        "id": "38PaodywTPL-",
        "execution": {
          "iopub.status.busy": "2024-03-29T05:17:20.432962Z",
          "iopub.status.idle": "2024-03-29T05:17:20.433303Z",
          "shell.execute_reply.started": "2024-03-29T05:17:20.433115Z",
          "shell.execute_reply": "2024-03-29T05:17:20.433128Z"
        },
        "trusted": true
      },
      "execution_count": null,
      "outputs": []
    },
    {
      "cell_type": "markdown",
      "source": [
        "### Random Forests"
      ],
      "metadata": {
        "id": "Q9EQpvJO1f5d"
      }
    },
    {
      "cell_type": "code",
      "source": [
        "X_train, y_train = to.train.xs, to.train.ys.values\n",
        "X_test, y_test = to.valid.xs, to.valid.ys.values\n",
        "\n",
        "rf = RandomForestClassifier(100, min_samples_leaf=5)\n",
        "rf.fit(X_train, y_train);\n",
        "#mean_absolute_error(y_test, rf.predict(X_test))\n",
        "\n",
        "roc_auc_score(y_test, rf.predict(X_test))"
      ],
      "metadata": {
        "execution": {
          "iopub.status.busy": "2024-03-29T05:53:36.973765Z",
          "iopub.execute_input": "2024-03-29T05:53:36.974214Z",
          "iopub.status.idle": "2024-03-29T05:53:47.060373Z",
          "shell.execute_reply.started": "2024-03-29T05:53:36.974178Z",
          "shell.execute_reply": "2024-03-29T05:53:47.059254Z"
        },
        "trusted": true,
        "id": "XGifWLiM1f5d",
        "outputId": "d39129ed-8fc7-4044-f445-49e6af946724",
        "colab": {
          "base_uri": "https://localhost:8080/"
        }
      },
      "execution_count": 20,
      "outputs": [
        {
          "output_type": "execute_result",
          "data": {
            "text/plain": [
              "0.6609112622455683"
            ]
          },
          "metadata": {},
          "execution_count": 20
        }
      ]
    },
    {
      "cell_type": "code",
      "source": [
        "rf_preds = rf.predict(X_test)\n",
        "roc_auc_score(y_test, rf_preds)"
      ],
      "metadata": {
        "execution": {
          "iopub.status.busy": "2024-03-29T05:53:47.063558Z",
          "iopub.execute_input": "2024-03-29T05:53:47.063869Z",
          "iopub.status.idle": "2024-03-29T05:53:47.317993Z",
          "shell.execute_reply.started": "2024-03-29T05:53:47.063844Z",
          "shell.execute_reply": "2024-03-29T05:53:47.316925Z"
        },
        "trusted": true,
        "id": "AjmNMJeu1f5d",
        "outputId": "c8475859-e024-45b1-f624-d0f018fd3a45",
        "colab": {
          "base_uri": "https://localhost:8080/"
        }
      },
      "execution_count": 22,
      "outputs": [
        {
          "output_type": "execute_result",
          "data": {
            "text/plain": [
              "0.6609112622455683"
            ]
          },
          "metadata": {},
          "execution_count": 22
        }
      ]
    },
    {
      "cell_type": "code",
      "source": [
        "pd.DataFrame(dict(cols=X_train.columns, imp=rf.feature_importances_)).plot('cols', 'imp', 'barh');"
      ],
      "metadata": {
        "execution": {
          "iopub.status.busy": "2024-03-29T05:17:20.439208Z",
          "iopub.status.idle": "2024-03-29T05:17:20.439702Z",
          "shell.execute_reply.started": "2024-03-29T05:17:20.439452Z",
          "shell.execute_reply": "2024-03-29T05:17:20.439473Z"
        },
        "trusted": true,
        "id": "wn_dIy3Y1f5e"
      },
      "execution_count": null,
      "outputs": []
    },
    {
      "cell_type": "markdown",
      "source": [
        "### XGBoost"
      ],
      "metadata": {
        "id": "uisMEv0J1f5e"
      }
    },
    {
      "cell_type": "code",
      "source": [
        "model = xgb.XGBClassifier(n_estimators = 100, max_depth=8, learning_rate=0.1, subsample=0.5)"
      ],
      "metadata": {
        "execution": {
          "iopub.status.busy": "2024-03-29T05:38:54.273792Z",
          "iopub.execute_input": "2024-03-29T05:38:54.274187Z",
          "iopub.status.idle": "2024-03-29T05:38:54.279927Z",
          "shell.execute_reply.started": "2024-03-29T05:38:54.27415Z",
          "shell.execute_reply": "2024-03-29T05:38:54.278684Z"
        },
        "trusted": true,
        "id": "gxIgfGZ81f5e"
      },
      "execution_count": 23,
      "outputs": []
    },
    {
      "cell_type": "code",
      "source": [
        "xgb_model = model.fit(X_train, y_train)"
      ],
      "metadata": {
        "execution": {
          "iopub.status.busy": "2024-03-29T05:38:54.282613Z",
          "iopub.execute_input": "2024-03-29T05:38:54.283152Z",
          "iopub.status.idle": "2024-03-29T05:39:00.848774Z",
          "shell.execute_reply.started": "2024-03-29T05:38:54.283076Z",
          "shell.execute_reply": "2024-03-29T05:39:00.847818Z"
        },
        "trusted": true,
        "id": "wS1l2K1o1f5e"
      },
      "execution_count": 24,
      "outputs": []
    },
    {
      "cell_type": "code",
      "source": [
        "xgb_preds = xgb_model.predict_proba(X_test)"
      ],
      "metadata": {
        "execution": {
          "iopub.status.busy": "2024-03-29T05:39:00.850553Z",
          "iopub.execute_input": "2024-03-29T05:39:00.851276Z",
          "iopub.status.idle": "2024-03-29T05:39:00.935364Z",
          "shell.execute_reply.started": "2024-03-29T05:39:00.851241Z",
          "shell.execute_reply": "2024-03-29T05:39:00.934486Z"
        },
        "trusted": true,
        "id": "DH_ODE5x1f5e"
      },
      "execution_count": 25,
      "outputs": []
    },
    {
      "cell_type": "code",
      "source": [
        "roc_auc_score(y_test, xgb_preds)"
      ],
      "metadata": {
        "execution": {
          "iopub.status.busy": "2024-03-29T05:39:00.937113Z",
          "iopub.execute_input": "2024-03-29T05:39:00.93791Z",
          "iopub.status.idle": "2024-03-29T05:39:00.961803Z",
          "shell.execute_reply.started": "2024-03-29T05:39:00.937853Z",
          "shell.execute_reply": "2024-03-29T05:39:00.960528Z"
        },
        "trusted": true,
        "id": "ezgPPKIa1f5e",
        "outputId": "37b7fcb0-9234-4655-f955-fb66f60354f4",
        "colab": {
          "base_uri": "https://localhost:8080/"
        }
      },
      "execution_count": 26,
      "outputs": [
        {
          "output_type": "execute_result",
          "data": {
            "text/plain": [
              "0.8713379050136527"
            ]
          },
          "metadata": {},
          "execution_count": 26
        }
      ]
    },
    {
      "cell_type": "code",
      "source": [
        "plot_importance(xgb_model)"
      ],
      "metadata": {
        "execution": {
          "iopub.status.busy": "2024-03-29T05:18:18.266526Z",
          "iopub.execute_input": "2024-03-29T05:18:18.26736Z",
          "iopub.status.idle": "2024-03-29T05:18:18.272031Z",
          "shell.execute_reply.started": "2024-03-29T05:18:18.267325Z",
          "shell.execute_reply": "2024-03-29T05:18:18.270975Z"
        },
        "trusted": true,
        "id": "qNRlxfua1f5e",
        "colab": {
          "base_uri": "https://localhost:8080/",
          "height": 498
        },
        "outputId": "3727ba67-c734-4b74-9af7-15ea39ad987c"
      },
      "execution_count": 27,
      "outputs": [
        {
          "output_type": "execute_result",
          "data": {
            "text/plain": [
              "<Axes: title={'center': 'Feature importance'}, xlabel='F score', ylabel='Features'>"
            ]
          },
          "metadata": {},
          "execution_count": 27
        },
        {
          "output_type": "display_data",
          "data": {
            "text/plain": [
              "<Figure size 640x480 with 1 Axes>"
            ],
            "image/png": "[encoded data removed]"
          },
          "metadata": {}
        }
      ]
    },
    {
      "cell_type": "markdown",
      "source": [
        "# General Ensemble"
      ],
      "metadata": {
        "id": "XgVwhkiw1f5f"
      }
    },
    {
      "cell_type": "code",
      "source": [
        "xgb_preds.shape,rf_preds.shape"
      ],
      "metadata": {
        "execution": {
          "iopub.status.busy": "2024-03-29T05:39:26.655931Z",
          "iopub.execute_input": "2024-03-29T05:39:26.65628Z",
          "iopub.status.idle": "2024-03-29T05:39:26.662761Z",
          "shell.execute_reply.started": "2024-03-29T05:39:26.656251Z",
          "shell.execute_reply": "2024-03-29T05:39:26.661697Z"
        },
        "trusted": true,
        "id": "dl2Fff7p1f5h",
        "outputId": "6b39aa57-a226-4da5-80c2-0a6c10a993df",
        "colab": {
          "base_uri": "https://localhost:8080/"
        }
      },
      "execution_count": 28,
      "outputs": [
        {
          "output_type": "execute_result",
          "data": {
            "text/plain": [
              "((3843, 7), (3843, 7))"
            ]
          },
          "metadata": {},
          "execution_count": 28
        }
      ]
    },
    {
      "cell_type": "code",
      "source": [
        "avgs = (xgb_preds + rf_preds ) / 2\n",
        "avgs"
      ],
      "metadata": {
        "execution": {
          "iopub.status.busy": "2024-03-29T05:39:30.309112Z",
          "iopub.execute_input": "2024-03-29T05:39:30.310005Z",
          "iopub.status.idle": "2024-03-29T05:39:30.318084Z",
          "shell.execute_reply.started": "2024-03-29T05:39:30.309963Z",
          "shell.execute_reply": "2024-03-29T05:39:30.317101Z"
        },
        "trusted": true,
        "id": "U__0Jc7D1f5h",
        "outputId": "8fee7d8f-dbc6-4a70-9b61-529af3494b18",
        "colab": {
          "base_uri": "https://localhost:8080/"
        }
      },
      "execution_count": 29,
      "outputs": [
        {
          "output_type": "execute_result",
          "data": {
            "text/plain": [
              "array([[3.2842532e-02, 5.4013421e-04, 2.0004315e-03, ..., 1.1571429e-03, 5.3600363e-02, 8.1288445e-01],\n",
              "       [8.5909339e-04, 2.1199979e-01, 6.5647336e-03, ..., 7.2187032e-03, 5.1312823e-02, 2.1906421e-01],\n",
              "       [1.6643139e-02, 9.1993557e-03, 3.7785113e-04, ..., 2.4494223e-04, 1.6061604e-01, 7.3950514e-02],\n",
              "       ...,\n",
              "       [1.5936064e-03, 1.8099859e-02, 6.2275288e-04, ..., 2.0978411e-03, 1.9476898e-01, 8.4580350e-01],\n",
              "       [6.7473543e-03, 9.1474444e-01, 1.5463641e-04, ..., 9.9234458e-04, 1.9754143e-02, 9.6515603e-02],\n",
              "       [1.0723727e-01, 3.3382754e-04, 2.2546182e-04, ..., 3.1790300e-04, 2.5838280e-01, 1.6388333e-01]], dtype=float32)"
            ]
          },
          "metadata": {},
          "execution_count": 29
        }
      ]
    },
    {
      "cell_type": "code",
      "source": [
        "avgs = (nn_preds_x + xgb_preds + rf_preds ) / 3\n",
        "avgs"
      ],
      "metadata": {
        "execution": {
          "iopub.status.busy": "2024-03-29T05:18:22.966868Z",
          "iopub.execute_input": "2024-03-29T05:18:22.967396Z",
          "iopub.status.idle": "2024-03-29T05:18:22.991159Z",
          "shell.execute_reply.started": "2024-03-29T05:18:22.967354Z",
          "shell.execute_reply": "2024-03-29T05:18:22.989928Z"
        },
        "trusted": true,
        "id": "PkijNxFg1f5h",
        "outputId": "5ea0d66f-5948-447e-daf0-325ad3430255",
        "colab": {
          "base_uri": "https://localhost:8080/"
        }
      },
      "execution_count": 34,
      "outputs": [
        {
          "output_type": "execute_result",
          "data": {
            "text/plain": [
              "tensor([[ 5.5242e-02,  8.7292e-03,  1.5913e-02,  ...,  1.2565e-06,  6.9126e-02,  7.5528e-01],\n",
              "        [ 1.0818e-02,  1.7646e-01,  4.7011e-02,  ...,  1.2799e-02,  8.3768e-02,  3.0398e-01],\n",
              "        [ 4.4411e-02,  1.3871e-02,  8.3966e-03,  ..., -2.3141e-03,  2.5349e-01,  1.7005e-01],\n",
              "        ...,\n",
              "        [ 7.8717e-03,  8.9695e-02,  4.8154e-03,  ...,  3.1388e-02,  2.0413e-01,  6.9342e-01],\n",
              "        [ 1.7867e-02,  8.3624e-01,  1.6317e-03,  ...,  3.0885e-03,  4.4037e-02,  1.2613e-01],\n",
              "        [ 1.3941e-01, -9.5710e-05, -5.6473e-04,  ..., -4.1545e-03,  3.1364e-01,  2.2811e-01]])"
            ]
          },
          "metadata": {},
          "execution_count": 34
        }
      ]
    },
    {
      "cell_type": "code",
      "source": [
        "avgs.shape"
      ],
      "metadata": {
        "execution": {
          "iopub.status.busy": "2024-03-29T05:18:23.357691Z",
          "iopub.execute_input": "2024-03-29T05:18:23.35868Z",
          "iopub.status.idle": "2024-03-29T05:18:23.365515Z",
          "shell.execute_reply.started": "2024-03-29T05:18:23.358637Z",
          "shell.execute_reply": "2024-03-29T05:18:23.364305Z"
        },
        "trusted": true,
        "id": "nPx1Nt3D1f5i",
        "outputId": "aacafd79-468a-4711-a35f-77db993a4f18"
      },
      "execution_count": null,
      "outputs": [
        {
          "execution_count": 32,
          "output_type": "execute_result",
          "data": {
            "text/plain": "torch.Size([3843, 7])"
          },
          "metadata": {}
        }
      ]
    },
    {
      "cell_type": "code",
      "source": [
        "roc_auc_score(y_test, avgs)"
      ],
      "metadata": {
        "execution": {
          "iopub.status.busy": "2024-03-29T05:18:23.718675Z",
          "iopub.execute_input": "2024-03-29T05:18:23.719413Z",
          "iopub.status.idle": "2024-03-29T05:18:23.738145Z",
          "shell.execute_reply.started": "2024-03-29T05:18:23.71938Z",
          "shell.execute_reply": "2024-03-29T05:18:23.737292Z"
        },
        "trusted": true,
        "id": "B7Hq5geo1f5i",
        "outputId": "0e0f206b-e0a6-47d2-85a2-7ce85b4aa47e"
      },
      "execution_count": null,
      "outputs": [
        {
          "execution_count": 33,
          "output_type": "execute_result",
          "data": {
            "text/plain": "0.8754313204050119"
          },
          "metadata": {}
        }
      ]
    },
    {
      "cell_type": "markdown",
      "source": [
        "Our general ensemble returns a higher roc_auc_score which results in the best score."
      ],
      "metadata": {
        "id": "aRViF96R1f5i"
      }
    },
    {
      "cell_type": "markdown",
      "source": [
        "### Kaggle Submission"
      ],
      "metadata": {
        "id": "Crsc68lm1f5i"
      }
    },
    {
      "cell_type": "code",
      "source": [
        "#preds = rf.predict(X_test)\n",
        "\n",
        "# Assuming `test_df` is your test DataFrame and it has an 'id' column\n",
        "# Create a DataFrame for the submission\n",
        "sub_df = pd.DataFrame(rf_preds, columns=['Pastry', 'Z_Scratch', 'K_Scatch', 'Stains', 'Dirtiness', 'Bumps', 'Other_Faults'])\n",
        "sub_df['id'] = test_df['id'] # Add the 'id' column from the test data\n",
        "\n",
        "# Reorder the columns to match the submission format\n",
        "sub_df = sub_df[['id', 'Pastry', 'Z_Scratch', 'K_Scatch', 'Stains', 'Dirtiness', 'Bumps', 'Other_Faults']]\n",
        "\n",
        "# Save the submission DataFrame as a CSV file\n",
        "sub_df.to_csv('submission.csv', index=False)"
      ],
      "metadata": {
        "execution": {
          "iopub.status.busy": "2024-03-29T05:53:50.312668Z",
          "iopub.execute_input": "2024-03-29T05:53:50.313021Z",
          "iopub.status.idle": "2024-03-29T05:53:50.33662Z",
          "shell.execute_reply.started": "2024-03-29T05:53:50.312993Z",
          "shell.execute_reply": "2024-03-29T05:53:50.335696Z"
        },
        "trusted": true,
        "id": "xYe48bYv1f5i"
      },
      "execution_count": null,
      "outputs": []
    },
    {
      "cell_type": "code",
      "source": [
        "!ls"
      ],
      "metadata": {
        "colab": {
          "base_uri": "https://localhost:8080/"
        },
        "id": "6OJL_8s23EhC",
        "outputId": "5bc02586-b353-41c0-8789-4b590c6b4fb7"
      },
      "execution_count": 32,
      "outputs": [
        {
          "output_type": "stream",
          "name": "stdout",
          "text": [
            "gdrive\tmodels\tplayground-series-s4e3\tplayground-series-s4e3.zip  sample_data  submission.csv\n"
          ]
        }
      ]
    },
    {
      "cell_type": "code",
      "source": [
        "#preds = rf.predict(X_test)\n",
        "\n",
        "# Assuming `test_df` is your test DataFrame and it has an 'id' column\n",
        "# Create a DataFrame for the submission\n",
        "sub_df = pd.DataFrame(xgb_preds, columns=['Pastry', 'Z_Scratch', 'K_Scatch', 'Stains', 'Dirtiness', 'Bumps', 'Other_Faults'])\n",
        "sub_df['id'] = test_df['id'] # Add the 'id' column from the test data\n",
        "\n",
        "# Reorder the columns to match the submission format\n",
        "sub_df = sub_df[['id', 'Pastry', 'Z_Scratch', 'K_Scatch', 'Stains', 'Dirtiness', 'Bumps', 'Other_Faults']]\n",
        "\n",
        "# Save the submission DataFrame as a CSV file\n",
        "sub_df.to_csv('submission.csv', index=False)"
      ],
      "metadata": {
        "execution": {
          "iopub.status.busy": "2024-03-29T05:31:16.181715Z",
          "iopub.execute_input": "2024-03-29T05:31:16.182114Z",
          "iopub.status.idle": "2024-03-29T05:31:16.245968Z",
          "shell.execute_reply.started": "2024-03-29T05:31:16.182085Z",
          "shell.execute_reply": "2024-03-29T05:31:16.244908Z"
        },
        "trusted": true,
        "id": "F47aickG1f5i"
      },
      "execution_count": 31,
      "outputs": []
    },
    {
      "cell_type": "markdown",
      "source": [
        "General Ensemble Submission"
      ],
      "metadata": {
        "id": "VR_Ex13t1f5i"
      }
    },
    {
      "cell_type": "code",
      "source": [
        "#preds = rf.predict(X_test)\n",
        "\n",
        "# Assuming `test_df` is your test DataFrame and it has an 'id' column\n",
        "# Create a DataFrame for the submission\n",
        "sub_df = pd.DataFrame(avgs, columns=['Pastry', 'Z_Scratch', 'K_Scatch', 'Stains', 'Dirtiness', 'Bumps', 'Other_Faults'])\n",
        "sub_df['id'] = test_df['id'] # Add the 'id' column from the test data\n",
        "\n",
        "# Reorder the columns to match the submission format\n",
        "sub_df = sub_df[['id', 'Pastry', 'Z_Scratch', 'K_Scatch', 'Stains', 'Dirtiness', 'Bumps', 'Other_Faults']]\n",
        "\n",
        "# Save the submission DataFrame as a CSV file\n",
        "sub_df.to_csv('submission.csv', index=False)"
      ],
      "metadata": {
        "execution": {
          "iopub.status.busy": "2024-03-29T05:39:40.360706Z",
          "iopub.execute_input": "2024-03-29T05:39:40.361093Z",
          "iopub.status.idle": "2024-03-29T05:39:40.429364Z",
          "shell.execute_reply.started": "2024-03-29T05:39:40.361051Z",
          "shell.execute_reply": "2024-03-29T05:39:40.428388Z"
        },
        "trusted": true,
        "id": "KLr87cZ01f5j"
      },
      "execution_count": 35,
      "outputs": []
    },
    {
      "cell_type": "code",
      "source": [
        "!ls"
      ],
      "metadata": {
        "execution": {
          "iopub.status.busy": "2024-03-29T05:53:54.813036Z",
          "iopub.execute_input": "2024-03-29T05:53:54.813903Z",
          "iopub.status.idle": "2024-03-29T05:53:55.76159Z",
          "shell.execute_reply.started": "2024-03-29T05:53:54.813867Z",
          "shell.execute_reply": "2024-03-29T05:53:55.760367Z"
        },
        "trusted": true,
        "id": "MUGMbp6D1f5j",
        "outputId": "db2fc7a0-a2bd-4280-85e3-ea8b824c43d1",
        "colab": {
          "base_uri": "https://localhost:8080/"
        }
      },
      "execution_count": 36,
      "outputs": [
        {
          "output_type": "stream",
          "name": "stdout",
          "text": [
            "gdrive\tmodels\tplayground-series-s4e3\tplayground-series-s4e3.zip  sample_data  submission.csv\n"
          ]
        }
      ]
    },
    {
      "cell_type": "code",
      "source": [
        "s_df = pd.read_csv('submission.csv')\n",
        "s_df.shape"
      ],
      "metadata": {
        "execution": {
          "iopub.status.busy": "2024-03-29T05:34:07.492349Z",
          "iopub.execute_input": "2024-03-29T05:34:07.493215Z",
          "iopub.status.idle": "2024-03-29T05:34:07.516084Z",
          "shell.execute_reply.started": "2024-03-29T05:34:07.49317Z",
          "shell.execute_reply": "2024-03-29T05:34:07.514953Z"
        },
        "trusted": true,
        "id": "zCYLYn_C1f5j",
        "outputId": "902aa2ff-cf2e-478d-b809-c01101c277f1"
      },
      "execution_count": null,
      "outputs": [
        {
          "execution_count": 20,
          "output_type": "execute_result",
          "data": {
            "text/plain": "(3843, 8)"
          },
          "metadata": {}
        }
      ]
    },
    {
      "cell_type": "code",
      "source": [
        "# Assuming `rf` is your trained model and `X_test` is your test data\n",
        "# Make predictions\n",
        "preds = rf.predict(X_test)\n",
        "\n",
        "# Assuming `test_df` is your test DataFrame and it has an 'id' column\n",
        "# Create a DataFrame for the submission\n",
        "sub_df = pd.DataFrame(preds, columns=['Pastry', 'Z_Scratch', 'K_Scatch', 'Stains', 'Dirtiness', 'Bumps', 'Other_Faults'])\n",
        "sub_df['id'] = test_df['id'] # Add the 'id' column from the test data\n",
        "\n",
        "# Reorder the columns to match the submission format\n",
        "sub_df = sub_df[['id', 'Pastry', 'Z_Scratch', 'K_Scatch', 'Stains', 'Dirtiness', 'Bumps', 'Other_Faults']]\n",
        "\n",
        "# Save the submission DataFrame as a CSV file\n",
        "sub_df.to_csv('submission.csv', index=False)\n"
      ],
      "metadata": {
        "execution": {
          "iopub.status.busy": "2024-03-28T10:02:07.862977Z",
          "iopub.execute_input": "2024-03-28T10:02:07.863695Z",
          "iopub.status.idle": "2024-03-28T10:02:08.16244Z",
          "shell.execute_reply.started": "2024-03-28T10:02:07.863663Z",
          "shell.execute_reply": "2024-03-28T10:02:08.161368Z"
        },
        "trusted": true,
        "id": "rT_dbWfe1f5j"
      },
      "execution_count": null,
      "outputs": []
    },
    {
      "cell_type": "code",
      "source": [
        "!ls"
      ],
      "metadata": {
        "execution": {
          "iopub.status.busy": "2024-03-29T05:20:09.860359Z",
          "iopub.execute_input": "2024-03-29T05:20:09.861464Z",
          "iopub.status.idle": "2024-03-29T05:20:10.879145Z",
          "shell.execute_reply.started": "2024-03-29T05:20:09.861419Z",
          "shell.execute_reply": "2024-03-29T05:20:10.877866Z"
        },
        "trusted": true,
        "id": "6MaOWHk31f5j",
        "outputId": "e7a129c9-7940-4380-9f2f-330d4b45c1d5"
      },
      "execution_count": null,
      "outputs": [
        {
          "name": "stdout",
          "text": "models\tsubmission.csv\n",
          "output_type": "stream"
        }
      ]
    },
    {
      "cell_type": "code",
      "source": [],
      "metadata": {
        "id": "JH4sPfeq1f5k"
      },
      "execution_count": null,
      "outputs": []
    },
    {
      "cell_type": "code",
      "source": [
        "# Assuming `sub_df` is your DataFrame that needs the 'id' column converted\n",
        "# Convert 'id' column to Int32 by rounding the floating-point numbers\n",
        "#submission_df['id'] = submission_df['id'].round().astype('Int32')\n",
        "\n",
        "# Now, 'id' column is of type Int32\n",
        "#print(submission_df['id'].dtype)\n"
      ],
      "metadata": {
        "execution": {
          "iopub.status.busy": "2024-03-27T08:44:42.626711Z",
          "iopub.execute_input": "2024-03-27T08:44:42.627198Z",
          "iopub.status.idle": "2024-03-27T08:44:42.635315Z",
          "shell.execute_reply.started": "2024-03-27T08:44:42.627165Z",
          "shell.execute_reply": "2024-03-27T08:44:42.633913Z"
        },
        "trusted": true,
        "id": "Xso0lG1S1f5k"
      },
      "execution_count": null,
      "outputs": []
    },
    {
      "cell_type": "code",
      "source": [
        "# Save the submission DataFrame to a CSV file\n",
        "submission_df.to_csv('submission1.csv', index=False)"
      ],
      "metadata": {
        "execution": {
          "iopub.status.busy": "2024-03-27T08:45:13.399454Z",
          "iopub.execute_input": "2024-03-27T08:45:13.400825Z",
          "iopub.status.idle": "2024-03-27T08:45:13.423519Z",
          "shell.execute_reply.started": "2024-03-27T08:45:13.400772Z",
          "shell.execute_reply": "2024-03-27T08:45:13.421972Z"
        },
        "trusted": true,
        "id": "z7RbcMen1f5k"
      },
      "execution_count": null,
      "outputs": []
    },
    {
      "cell_type": "code",
      "source": [
        "!ls"
      ],
      "metadata": {
        "execution": {
          "iopub.status.busy": "2024-03-27T08:45:15.611904Z",
          "iopub.execute_input": "2024-03-27T08:45:15.613185Z",
          "iopub.status.idle": "2024-03-27T08:45:16.717825Z",
          "shell.execute_reply.started": "2024-03-27T08:45:15.613131Z",
          "shell.execute_reply": "2024-03-27T08:45:16.716353Z"
        },
        "trusted": true,
        "id": "t6jRTaRb1f5k"
      },
      "execution_count": null,
      "outputs": []
    },
    {
      "cell_type": "code",
      "source": [
        "#sub_df = pd.read_csv(path/'sample_submission.csv')\n",
        "sub_tree = pd.read_csv('submission2.csv')"
      ],
      "metadata": {
        "execution": {
          "iopub.status.busy": "2024-03-27T08:47:02.484305Z",
          "iopub.execute_input": "2024-03-27T08:47:02.484928Z",
          "iopub.status.idle": "2024-03-27T08:47:02.50193Z",
          "shell.execute_reply.started": "2024-03-27T08:47:02.484872Z",
          "shell.execute_reply": "2024-03-27T08:47:02.500568Z"
        },
        "trusted": true,
        "id": "Ba11Obrx1f5k"
      },
      "execution_count": null,
      "outputs": []
    },
    {
      "cell_type": "code",
      "source": [
        "sub_tree.info()"
      ],
      "metadata": {
        "execution": {
          "iopub.status.busy": "2024-03-27T08:47:39.797112Z",
          "iopub.execute_input": "2024-03-27T08:47:39.797519Z",
          "iopub.status.idle": "2024-03-27T08:47:39.813868Z",
          "shell.execute_reply.started": "2024-03-27T08:47:39.797489Z",
          "shell.execute_reply": "2024-03-27T08:47:39.812603Z"
        },
        "trusted": true,
        "id": "MtADmxA21f5l"
      },
      "execution_count": null,
      "outputs": []
    },
    {
      "cell_type": "code",
      "source": [
        "sub_df"
      ],
      "metadata": {
        "execution": {
          "iopub.status.busy": "2024-03-27T08:48:21.776168Z",
          "iopub.execute_input": "2024-03-27T08:48:21.776761Z",
          "iopub.status.idle": "2024-03-27T08:48:21.807128Z",
          "shell.execute_reply.started": "2024-03-27T08:48:21.776717Z",
          "shell.execute_reply": "2024-03-27T08:48:21.805923Z"
        },
        "trusted": true,
        "id": "jrSLYbyV1f5l"
      },
      "execution_count": null,
      "outputs": []
    },
    {
      "cell_type": "code",
      "source": [
        "print(sub_df['id'].dtype)"
      ],
      "metadata": {
        "execution": {
          "iopub.status.busy": "2024-03-27T08:45:38.750891Z",
          "iopub.execute_input": "2024-03-27T08:45:38.75129Z",
          "iopub.status.idle": "2024-03-27T08:45:38.757759Z",
          "shell.execute_reply.started": "2024-03-27T08:45:38.75126Z",
          "shell.execute_reply": "2024-03-27T08:45:38.756382Z"
        },
        "trusted": true,
        "id": "yPI0ig0k1f5l"
      },
      "execution_count": null,
      "outputs": []
    },
    {
      "cell_type": "code",
      "source": [
        "#target_preds = preds[0]\n",
        "#target_preds"
      ],
      "metadata": {
        "execution": {
          "iopub.status.busy": "2024-03-27T06:40:05.79589Z",
          "iopub.execute_input": "2024-03-27T06:40:05.79635Z",
          "iopub.status.idle": "2024-03-27T06:40:05.802196Z",
          "shell.execute_reply.started": "2024-03-27T06:40:05.796317Z",
          "shell.execute_reply": "2024-03-27T06:40:05.800749Z"
        },
        "trusted": true,
        "id": "vOEB3d4L1f5l"
      },
      "execution_count": null,
      "outputs": []
    },
    {
      "cell_type": "markdown",
      "source": [
        "Submit Outside Kaggle."
      ],
      "metadata": {
        "id": "On6qyq1F1f5l"
      }
    },
    {
      "cell_type": "code",
      "source": [
        "!kaggle competitions submit -c playground-series-s4e3 -f submission.csv -m \"fastai baseline, adding lr fron lr finder\""
      ],
      "metadata": {
        "id": "u5JR8hs31f5l",
        "colab": {
          "base_uri": "https://localhost:8080/"
        },
        "outputId": "5d75fb1b-a1d4-4986-c93f-c0c952e5539c"
      },
      "execution_count": 37,
      "outputs": [
        {
          "output_type": "stream",
          "name": "stdout",
          "text": [
            "Warning: Looks like you're using an outdated API Version, please consider updating (server 1.6.7 / client 1.5.16)\n",
            "100% 341k/341k [00:02<00:00, 124kB/s]\n",
            "Successfully submitted to Steel Plate Defect Prediction"
          ]
        }
      ]
    },
    {
      "cell_type": "markdown",
      "source": [
        "Full Notebook"
      ],
      "metadata": {
        "id": "pamjDR501f5l"
      }
    },
    {
      "cell_type": "code",
      "source": [
        "from fastai.tabular.all import *\n",
        "import pandas as pd\n",
        "import matplotlib.pyplot as plt\n",
        "import seaborn as sns\n",
        "import numpy as np\n",
        "\n",
        "#hide\n",
        "#! [ -e /content ]\n",
        "\n",
        "#hide\n",
        "#This imports and sets up everything you will need for this notebook\n",
        "#\n",
        "#!pip install -Uqq fastbook\n",
        "#import fastbook\n",
        "#fastbook.setup_book()\n",
        "\n",
        "#from fastbook import *\n",
        "from fastai.tabular.all import *\n",
        "\n",
        "from fastai.imports import *\n",
        "np.set_printoptions(linewidth=130)\n",
        "\n",
        "# for working with paths in Python, I recommend using `pathlib.Path`\n",
        "from pathlib import Path\n",
        "import os\n",
        "import seaborn as sns\n",
        "import numpy as np\n",
        "from numpy import random\n",
        "\n",
        "from sklearn.model_selection import train_test_split\n",
        "from sklearn.metrics import mean_absolute_error\n",
        "\n",
        "from ipywidgets import interact\n",
        "\n",
        "\n",
        "\n",
        "matplotlib.rc('image', cmap='Greys')\n",
        "\n",
        "random.seed(42)\n",
        "\n",
        "# This Python 3 environment comes with many helpful analytics libraries installed\n",
        "# It is defined by the kaggle/python Docker image: https://github.com/kaggle/docker-python\n",
        "# For example, here's several helpful packages to load\n",
        "\n",
        "import numpy as np # linear algebra\n",
        "import pandas as pd # data processing, CSV file I/O (e.g. pd.read_csv)\n",
        "\n",
        "# Input data files are available in the read-only \"../input/\" directory\n",
        "# For example, running this (by clicking run or pressing Shift+Enter) will list all files under the input directory\n",
        "\n",
        "import os\n",
        "for dirname, _, filenames in os.walk('/kaggle/input'):\n",
        "    for filename in filenames:\n",
        "        print(os.path.join(dirname, filename))\n",
        "\n",
        "# You can write up to 20GB to the current directory (/kaggle/working/) that gets preserved as output when you create a version using \"Save & Run All\"\n",
        "# You can also write temporary files to /kaggle/temp/, but they won't be saved outside of the current session\n",
        "\n",
        "path = Path('/kaggle/input/playground-series-s4e3')\n",
        "path\n",
        "\n",
        "train_df = pd.read_csv(path/'train.csv')\n",
        "test_df = pd.read_csv(path/'test.csv')\n",
        "sub_df = pd.read_csv(path/'sample_submission.csv')\n",
        "\n",
        "y_names = ['Pastry', 'Z_Scratch', 'K_Scatch', 'Stains', 'Dirtiness', 'Bumps', 'Other_Faults']\n",
        "\n",
        "cont_names, cat_names = cont_cat_split(train_df,dep_var=['Pastry', 'Z_Scratch', 'K_Scatch', 'Stains', 'Dirtiness', 'Bumps', 'Other_Faults'])\n",
        "\n",
        "splits = RandomSplitter(valid_pct=0.2)(range_of(train_df))\n",
        "\n",
        "to = TabularPandas(train_df, procs=[Categorify, FillMissing,Normalize],\n",
        "                   cat_names = cat_names,\n",
        "                   cont_names = cont_names,\n",
        "                   y_names= y_names,\n",
        "                  # y_block = CategoryBlock,\n",
        "                   splits=splits)\n",
        "\n",
        "#X_train, y_train = to.train.xs, to.train.ys.values.ravel()\n",
        "#X_test, y_test = to.valid.xs, to.valid.ys.values.ravel()\n",
        "\n",
        "X_train, y_train = to.train.xs, to.train.ys.values\n",
        "X_test, y_test = to.valid.xs, to.valid.ys.values\n",
        "\n",
        "from sklearn.ensemble import RandomForestClassifier\n",
        "from sklearn.metrics import roc_auc_score\n",
        "\n",
        "rf = RandomForestClassifier(100, min_samples_leaf=5)\n",
        "rf.fit(X_train, y_train);\n",
        "#mean_absolute_error(y_test, rf.predict(X_test))\n",
        "\n",
        "roc_auc_score(y_test, rf.predict(X_test))"
      ],
      "metadata": {
        "execution": {
          "iopub.status.busy": "2024-03-27T06:38:42.213875Z",
          "iopub.execute_input": "2024-03-27T06:38:42.214344Z",
          "iopub.status.idle": "2024-03-27T06:38:43.330295Z",
          "shell.execute_reply.started": "2024-03-27T06:38:42.214309Z",
          "shell.execute_reply": "2024-03-27T06:38:43.32869Z"
        },
        "trusted": true,
        "id": "7EB0_zyf1f5m"
      },
      "execution_count": null,
      "outputs": []
    },
    {
      "cell_type": "code",
      "source": [
        "import numpy as np # linear algebra\n",
        "import pandas as pd # data processing, CSV file I/O (e.g. pd.read_csv)\n",
        "\n",
        "# Input data files are available in the read-only \"../input/\" directory\n",
        "# For example, running this (by clicking run or pressing Shift+Enter) will list all files under the input directory\n",
        "\n",
        "import os\n",
        "for dirname, _, filenames in os.walk('/kaggle/input'):\n",
        "    for filename in filenames:\n",
        "        print(os.path.join(dirname, filename))\n",
        "\n",
        "# You can write up to 20GB to the current directory (/kaggle/working/) that gets preserved as output when you create a version using \"Save & Run All\"\n",
        "# You can also write temporary files to /kaggle/temp/, but they won't be saved outside of the current session\n",
        "\n",
        "path = Path('/kaggle/input/playground-series-s4e3')\n",
        "path\n",
        "\n",
        "train_df = pd.read_csv(path/'train.csv')\n",
        "test_df = pd.read_csv(path/'test.csv')\n",
        "sub_df = pd.read_csv(path/'sample_submission.csv')\n",
        "\n",
        "y_names = ['Pastry', 'Z_Scratch', 'K_Scatch', 'Stains', 'Dirtiness', 'Bumps', 'Other_Faults']\n",
        "\n",
        "cont_names, cat_names = cont_cat_split(train_df,dep_var=['Pastry', 'Z_Scratch', 'K_Scatch', 'Stains', 'Dirtiness', 'Bumps', 'Other_Faults'])\n",
        "\n",
        "splits = RandomSplitter(valid_pct=0.2)(range_of(train_df))\n",
        "\n",
        "to = TabularPandas(train_df, procs=[Categorify, FillMissing,Normalize],\n",
        "                   cat_names = cat_names,\n",
        "                   cont_names = cont_names,\n",
        "                   y_names= y_names,\n",
        "                  # y_block = CategoryBlock,\n",
        "                   splits=splits)\n",
        "\n",
        "dls = to.dataloaders(bs=64)\n",
        "\n",
        "dl = learn.dls.test_dl(test_df)\n",
        "\n",
        "learn = tabular_learner(dls, metrics=RocAucMulti())\n",
        "\n",
        "#learn.fit_one_cycle(15, slice(0.0005, 0.019))\n",
        "learn.fit_one_cycle(12, 0.014)\n",
        "\n",
        "\n",
        "preds = learn.get_preds(dl=dl)\n",
        "\n",
        "\n",
        "target_preds = preds[0]\n",
        "targets =['Pastry', 'Z_Scratch', 'K_Scatch', 'Stains', 'Dirtiness', 'Bumps', 'Other_Faults']\n",
        "test_df[targets] = target_preds\n",
        "\n",
        "test_df.to_csv('submission.csv', columns=['id','Pastry', 'Z_Scratch', 'K_Scatch', 'Stains', 'Dirtiness', 'Bumps', 'Other_Faults'], index=False)\n",
        "\n",
        "#sub = pd.read_csv('submission.csv')\n",
        "#sub.head()"
      ],
      "metadata": {
        "id": "rKrVomK91f5m"
      },
      "execution_count": null,
      "outputs": []
    }
  ]
}