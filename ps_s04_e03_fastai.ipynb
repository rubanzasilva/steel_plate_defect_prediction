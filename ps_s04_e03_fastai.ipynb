{
  "metadata": {
    "colab": {
      "provenance": [],
      "gpuType": "T4",
      "name": "ps_s04_e03_fastai",
      "include_colab_link": true
    },
    "kernelspec": {
      "name": "python3",
      "display_name": "Python 3",
      "language": "python"
    },
    "language_info": {
      "name": "python",
      "version": "3.10.13",
      "mimetype": "text/x-python",
      "codemirror_mode": {
        "name": "ipython",
        "version": 3
      },
      "pygments_lexer": "ipython3",
      "nbconvert_exporter": "python",
      "file_extension": ".py"
    },
    "accelerator": "GPU",
    "kaggle": {
      "accelerator": "gpu",
      "dataSources": [
        {
          "sourceId": 68699,
          "databundleVersionId": 7659021,
          "sourceType": "competition"
        }
      ],
      "dockerImageVersionId": 30664,
      "isInternetEnabled": true,
      "language": "python",
      "sourceType": "notebook",
      "isGpuEnabled": true
    }
  },
  "nbformat_minor": 0,
  "nbformat": 4,
  "cells": [
    {
      "cell_type": "markdown",
      "metadata": {
        "id": "view-in-github",
        "colab_type": "text"
      },
      "source": [
        "<a href=\"https://colab.research.google.com/github/rubanzasilva/steel_plate_defect_prediction/blob/main/ps_s04_e03_fastai.ipynb\" target=\"_parent\"><img src=\"https://colab.research.google.com/assets/colab-badge.svg\" alt=\"Open In Colab\"/></a>"
      ]
    },
    {
      "source": [
        "\n",
        "# IMPORTANT: RUN THIS CELL IN ORDER TO IMPORT YOUR KAGGLE DATA SOURCES\n",
        "# TO THE CORRECT LOCATION (/kaggle/input) IN YOUR NOTEBOOK,\n",
        "# THEN FEEL FREE TO DELETE THIS CELL.\n",
        "# NOTE: THIS NOTEBOOK ENVIRONMENT DIFFERS FROM KAGGLE'S PYTHON\n",
        "# ENVIRONMENT SO THERE MAY BE MISSING LIBRARIES USED BY YOUR\n",
        "# NOTEBOOK.\n",
        "\n",
        "import os\n",
        "import sys\n",
        "from tempfile import NamedTemporaryFile\n",
        "from urllib.request import urlopen\n",
        "from urllib.parse import unquote, urlparse\n",
        "from urllib.error import HTTPError\n",
        "from zipfile import ZipFile\n",
        "import tarfile\n",
        "import shutil\n",
        "\n",
        "CHUNK_SIZE = 40960\n",
        "DATA_SOURCE_MAPPING = 'playground-series-s4e3:https%3A%2F%2Fstorage.googleapis.com%2Fkaggle-competitions-data%2Fkaggle-v2%2F68699%2F7659021%2Fbundle%2Farchive.zip%3FX-Goog-Algorithm%3DGOOG4-RSA-SHA256%26X-Goog-Credential%3Dgcp-kaggle-com%2540kaggle-161607.iam.gserviceaccount.com%252F20240327%252Fauto%252Fstorage%252Fgoog4_request%26X-Goog-Date%3D20240327T190106Z%26X-Goog-Expires%3D259200%26X-Goog-SignedHeaders%3Dhost%26X-Goog-Signature%3D59d139535f1af478c2be82072bce1f9d8ae76a338d2f231760147d1208dd45b7619497973f7cdac8a74afa813926e10a779790e215b3d12f6d3d9d7887acbd517452421d3ccf44b76958fa23d0142d7710cf770f1fb9bd6daef82b07de77615857be6c14c69d28a2ec1b4ca94bc7e0c830ca3daec3e9660526333c64ed0e81061afe94d6038e634c609664a3baf3cdd1c2b1025d259cabce75cfa84ed815723eb024c362f6bc7ab36fbf38eb5f8e9e78215ab759bd1cb2f9c11fa4be6de4212315d67f6300b297b96a9f50261c8d93d2c9dd449c4f409792ee460914c0f8df2dcd686ac3c25c449e19cc04fec27ed285c2bb3e73d36f9b0513f0c2220b479076'\n",
        "\n",
        "KAGGLE_INPUT_PATH='/kaggle/input'\n",
        "KAGGLE_WORKING_PATH='/kaggle/working'\n",
        "KAGGLE_SYMLINK='kaggle'\n",
        "\n",
        "!umount /kaggle/input/ 2> /dev/null\n",
        "shutil.rmtree('/kaggle/input', ignore_errors=True)\n",
        "os.makedirs(KAGGLE_INPUT_PATH, 0o777, exist_ok=True)\n",
        "os.makedirs(KAGGLE_WORKING_PATH, 0o777, exist_ok=True)\n",
        "\n",
        "try:\n",
        "  os.symlink(KAGGLE_INPUT_PATH, os.path.join(\"..\", 'input'), target_is_directory=True)\n",
        "except FileExistsError:\n",
        "  pass\n",
        "try:\n",
        "  os.symlink(KAGGLE_WORKING_PATH, os.path.join(\"..\", 'working'), target_is_directory=True)\n",
        "except FileExistsError:\n",
        "  pass\n",
        "\n",
        "for data_source_mapping in DATA_SOURCE_MAPPING.split(','):\n",
        "    directory, download_url_encoded = data_source_mapping.split(':')\n",
        "    download_url = unquote(download_url_encoded)\n",
        "    filename = urlparse(download_url).path\n",
        "    destination_path = os.path.join(KAGGLE_INPUT_PATH, directory)\n",
        "    try:\n",
        "        with urlopen(download_url) as fileres, NamedTemporaryFile() as tfile:\n",
        "            total_length = fileres.headers['content-length']\n",
        "            print(f'Downloading {directory}, {total_length} bytes compressed')\n",
        "            dl = 0\n",
        "            data = fileres.read(CHUNK_SIZE)\n",
        "            while len(data) > 0:\n",
        "                dl += len(data)\n",
        "                tfile.write(data)\n",
        "                done = int(50 * dl / int(total_length))\n",
        "                sys.stdout.write(f\"\\r[{'=' * done}{' ' * (50-done)}] {dl} bytes downloaded\")\n",
        "                sys.stdout.flush()\n",
        "                data = fileres.read(CHUNK_SIZE)\n",
        "            if filename.endswith('.zip'):\n",
        "              with ZipFile(tfile) as zfile:\n",
        "                zfile.extractall(destination_path)\n",
        "            else:\n",
        "              with tarfile.open(tfile.name) as tarfile:\n",
        "                tarfile.extractall(destination_path)\n",
        "            print(f'\\nDownloaded and uncompressed: {directory}')\n",
        "    except HTTPError as e:\n",
        "        print(f'Failed to load (likely expired) {download_url} to path {destination_path}')\n",
        "        continue\n",
        "    except OSError as e:\n",
        "        print(f'Failed to load {download_url} to path {destination_path}')\n",
        "        continue\n",
        "\n",
        "print('Data source import complete.')\n"
      ],
      "metadata": {
        "id": "tXUtMwDuSbNw"
      },
      "cell_type": "code",
      "outputs": [],
      "execution_count": null
    },
    {
      "cell_type": "markdown",
      "source": [
        "### Imports\n",
        "\n",
        "If you dont have the fastai library installed, uncomment the lines with pip install fastbook to install all the dependencies we shall need."
      ],
      "metadata": {
        "id": "pZKUILYtSbOB"
      }
    },
    {
      "cell_type": "code",
      "source": [
        "#hide\n",
        "#! [ -e /content ]\n",
        "\n",
        "#hide\n",
        "#This imports and sets up everything you will need for this notebook\n",
        "#\n",
        "#!pip install -Uqq fastbook\n",
        "#import fastbook\n",
        "#fastbook.setup_book()\n",
        "\n",
        "#from fastbook import *\n",
        "from fastai.tabular.all import *\n",
        "import pandas as pd\n",
        "import matplotlib.pyplot as plt\n",
        "import seaborn as sns\n",
        "import numpy as np\n",
        "from numpy import random\n",
        "\n",
        "from fastai.imports import *\n",
        "np.set_printoptions(linewidth=130)\n",
        "\n",
        "# for working with paths in Python, I recommend using `pathlib.Path`\n",
        "from pathlib import Path\n",
        "import os\n",
        "import seaborn as sns\n",
        "\n",
        "from sklearn.model_selection import train_test_split\n",
        "from sklearn.metrics import mean_absolute_error\n",
        "\n",
        "from ipywidgets import interact\n",
        "\n",
        "\n",
        "matplotlib.rc('image', cmap='Greys')"
      ],
      "metadata": {
        "id": "RCMDyNwgY7G7",
        "execution": {
          "iopub.status.busy": "2024-03-27T19:00:00.504133Z",
          "iopub.execute_input": "2024-03-27T19:00:00.504454Z",
          "iopub.status.idle": "2024-03-27T19:00:00.775473Z",
          "shell.execute_reply.started": "2024-03-27T19:00:00.504428Z",
          "shell.execute_reply": "2024-03-27T19:00:00.774723Z"
        },
        "trusted": true
      },
      "execution_count": null,
      "outputs": []
    },
    {
      "cell_type": "code",
      "source": [
        "!ls"
      ],
      "metadata": {
        "execution": {
          "iopub.status.busy": "2024-03-27T19:00:00.777212Z",
          "iopub.execute_input": "2024-03-27T19:00:00.778082Z",
          "iopub.status.idle": "2024-03-27T19:00:01.727174Z",
          "shell.execute_reply.started": "2024-03-27T19:00:00.778048Z",
          "shell.execute_reply": "2024-03-27T19:00:01.726049Z"
        },
        "trusted": true,
        "id": "p-dA-VyySbOI",
        "outputId": "b23530d6-bc38-42fd-e89e-9bb71afb64c7"
      },
      "execution_count": null,
      "outputs": [
        {
          "name": "stdout",
          "text": "state.db\n",
          "output_type": "stream"
        }
      ]
    },
    {
      "cell_type": "markdown",
      "source": [
        "Set random seed for reproducibility."
      ],
      "metadata": {
        "id": "Agl1BKpacH6v"
      }
    },
    {
      "cell_type": "code",
      "source": [
        "set_seed(42)"
      ],
      "metadata": {
        "id": "jd7Hze9-cGtp",
        "execution": {
          "iopub.status.busy": "2024-03-27T19:00:01.728818Z",
          "iopub.execute_input": "2024-03-27T19:00:01.729384Z",
          "iopub.status.idle": "2024-03-27T19:00:01.738313Z",
          "shell.execute_reply.started": "2024-03-27T19:00:01.729357Z",
          "shell.execute_reply": "2024-03-27T19:00:01.737339Z"
        },
        "trusted": true
      },
      "execution_count": null,
      "outputs": []
    },
    {
      "cell_type": "code",
      "source": [
        "# This Python 3 environment comes with many helpful analytics libraries installed\n",
        "# It is defined by the kaggle/python Docker image: https://github.com/kaggle/docker-python\n",
        "# For example, here's several helpful packages to load\n",
        "\n",
        "import numpy as np # linear algebra\n",
        "import pandas as pd # data processing, CSV file I/O (e.g. pd.read_csv)\n",
        "\n",
        "# Input data files are available in the read-only \"../input/\" directory\n",
        "# For example, running this (by clicking run or pressing Shift+Enter) will list all files under the input directory\n",
        "\n",
        "import os\n",
        "for dirname, _, filenames in os.walk('/kaggle/input'):\n",
        "    for filename in filenames:\n",
        "        print(os.path.join(dirname, filename))\n",
        "\n",
        "# You can write up to 20GB to the current directory (/kaggle/working/) that gets preserved as output when you create a version using \"Save & Run All\"\n",
        "# You can also write temporary files to /kaggle/temp/, but they won't be saved outside of the current session"
      ],
      "metadata": {
        "id": "ecCaoXLjbLdZ",
        "outputId": "81e17a8a-b2d5-4dcf-f128-530ddeaf738a",
        "execution": {
          "iopub.status.busy": "2024-03-27T19:00:01.741005Z",
          "iopub.execute_input": "2024-03-27T19:00:01.741339Z",
          "iopub.status.idle": "2024-03-27T19:00:01.755343Z",
          "shell.execute_reply.started": "2024-03-27T19:00:01.74131Z",
          "shell.execute_reply": "2024-03-27T19:00:01.754326Z"
        },
        "trusted": true
      },
      "execution_count": null,
      "outputs": [
        {
          "name": "stdout",
          "text": "/kaggle/input/playground-series-s4e3/sample_submission.csv\n/kaggle/input/playground-series-s4e3/train.csv\n/kaggle/input/playground-series-s4e3/test.csv\n",
          "output_type": "stream"
        }
      ]
    },
    {
      "cell_type": "code",
      "source": [
        "!ls /kaggle/input/playground-series-s4e3"
      ],
      "metadata": {
        "execution": {
          "iopub.status.busy": "2024-03-27T19:00:01.756689Z",
          "iopub.execute_input": "2024-03-27T19:00:01.757028Z",
          "iopub.status.idle": "2024-03-27T19:00:02.771238Z",
          "shell.execute_reply.started": "2024-03-27T19:00:01.756999Z",
          "shell.execute_reply": "2024-03-27T19:00:02.769989Z"
        },
        "trusted": true,
        "id": "tJRekosDSbOU",
        "outputId": "33751293-1e05-49e3-9f79-d1fc80f791f1"
      },
      "execution_count": null,
      "outputs": [
        {
          "name": "stdout",
          "text": "sample_submission.csv  test.csv  train.csv\n",
          "output_type": "stream"
        }
      ]
    },
    {
      "cell_type": "code",
      "source": [
        "path = Path('/kaggle/input/playground-series-s4e3')\n",
        "path"
      ],
      "metadata": {
        "id": "i4VhYuv3cztD",
        "outputId": "aec8185a-163e-434a-9705-dad68e45215a",
        "execution": {
          "iopub.status.busy": "2024-03-27T19:00:02.77352Z",
          "iopub.execute_input": "2024-03-27T19:00:02.773919Z",
          "iopub.status.idle": "2024-03-27T19:00:02.783088Z",
          "shell.execute_reply.started": "2024-03-27T19:00:02.773889Z",
          "shell.execute_reply": "2024-03-27T19:00:02.782072Z"
        },
        "trusted": true
      },
      "execution_count": null,
      "outputs": [
        {
          "execution_count": 6,
          "output_type": "execute_result",
          "data": {
            "text/plain": "Path('/kaggle/input/playground-series-s4e3')"
          },
          "metadata": {}
        }
      ]
    },
    {
      "cell_type": "markdown",
      "source": [
        "Problem approach\n",
        "\n",
        "Create an effective validation set\n",
        "\n",
        "Iterate rapidly to find changes which improve the validation set"
      ],
      "metadata": {
        "id": "K1hn53PnA3h4"
      }
    },
    {
      "cell_type": "code",
      "source": [
        "train_df = pd.read_csv(path/'train.csv')\n",
        "test_df = pd.read_csv(path/'test.csv')\n",
        "sub_df = pd.read_csv(path/'sample_submission.csv')"
      ],
      "metadata": {
        "id": "vsMF74KpczqS",
        "execution": {
          "iopub.status.busy": "2024-03-27T19:00:02.784552Z",
          "iopub.execute_input": "2024-03-27T19:00:02.784949Z",
          "iopub.status.idle": "2024-03-27T19:00:03.069513Z",
          "shell.execute_reply.started": "2024-03-27T19:00:02.784897Z",
          "shell.execute_reply": "2024-03-27T19:00:03.068517Z"
        },
        "trusted": true
      },
      "execution_count": null,
      "outputs": []
    },
    {
      "cell_type": "code",
      "source": [
        "train_df.head()"
      ],
      "metadata": {
        "execution": {
          "iopub.status.busy": "2024-03-27T19:00:03.07065Z",
          "iopub.execute_input": "2024-03-27T19:00:03.070988Z",
          "iopub.status.idle": "2024-03-27T19:00:03.106536Z",
          "shell.execute_reply.started": "2024-03-27T19:00:03.070958Z",
          "shell.execute_reply": "2024-03-27T19:00:03.105607Z"
        },
        "trusted": true,
        "id": "xTBXsBYaSbOa",
        "outputId": "52363af9-00b3-4471-91d4-9f08e11ad665"
      },
      "execution_count": null,
      "outputs": [
        {
          "execution_count": 8,
          "output_type": "execute_result",
          "data": {
            "text/plain": "   id  X_Minimum  X_Maximum  Y_Minimum  Y_Maximum  Pixels_Areas  X_Perimeter  \\\n0   0        584        590     909972     909977            16            8   \n1   1        808        816     728350     728372           433           20   \n2   2         39        192    2212076    2212144         11388          705   \n3   3        781        789    3353146    3353173           210           16   \n4   4       1540       1560     618457     618502           521           72   \n\n   Y_Perimeter  Sum_of_Luminosity  Minimum_of_Luminosity  ...  \\\n0            5               2274                    113  ...   \n1           54              44478                     70  ...   \n2          420            1311391                     29  ...   \n3           29               3202                    114  ...   \n4           67              48231                     82  ...   \n\n   Orientation_Index  Luminosity_Index  SigmoidOfAreas  Pastry  Z_Scratch  \\\n0            -0.5000           -0.0104          0.1417       0          0   \n1             0.7419           -0.2997          0.9491       0          0   \n2            -0.0105           -0.0944          1.0000       0          0   \n3             0.6667           -0.0402          0.4025       0          0   \n4             0.9158           -0.2455          0.9998       0          0   \n\n   K_Scatch  Stains  Dirtiness  Bumps  Other_Faults  \n0         0       1          0      0             0  \n1         0       0          0      0             1  \n2         1       0          0      0             0  \n3         1       0          0      0             0  \n4         0       0          0      0             1  \n\n[5 rows x 35 columns]",
            "text/html": "<div>\n<style scoped>\n    .dataframe tbody tr th:only-of-type {\n        vertical-align: middle;\n    }\n\n    .dataframe tbody tr th {\n        vertical-align: top;\n    }\n\n    .dataframe thead th {\n        text-align: right;\n    }\n</style>\n<table border=\"1\" class=\"dataframe\">\n  <thead>\n    <tr style=\"text-align: right;\">\n      <th></th>\n      <th>id</th>\n      <th>X_Minimum</th>\n      <th>X_Maximum</th>\n      <th>Y_Minimum</th>\n      <th>Y_Maximum</th>\n      <th>Pixels_Areas</th>\n      <th>X_Perimeter</th>\n      <th>Y_Perimeter</th>\n      <th>Sum_of_Luminosity</th>\n      <th>Minimum_of_Luminosity</th>\n      <th>...</th>\n      <th>Orientation_Index</th>\n      <th>Luminosity_Index</th>\n      <th>SigmoidOfAreas</th>\n      <th>Pastry</th>\n      <th>Z_Scratch</th>\n      <th>K_Scatch</th>\n      <th>Stains</th>\n      <th>Dirtiness</th>\n      <th>Bumps</th>\n      <th>Other_Faults</th>\n    </tr>\n  </thead>\n  <tbody>\n    <tr>\n      <th>0</th>\n      <td>0</td>\n      <td>584</td>\n      <td>590</td>\n      <td>909972</td>\n      <td>909977</td>\n      <td>16</td>\n      <td>8</td>\n      <td>5</td>\n      <td>2274</td>\n      <td>113</td>\n      <td>...</td>\n      <td>-0.5000</td>\n      <td>-0.0104</td>\n      <td>0.1417</td>\n      <td>0</td>\n      <td>0</td>\n      <td>0</td>\n      <td>1</td>\n      <td>0</td>\n      <td>0</td>\n      <td>0</td>\n    </tr>\n    <tr>\n      <th>1</th>\n      <td>1</td>\n      <td>808</td>\n      <td>816</td>\n      <td>728350</td>\n      <td>728372</td>\n      <td>433</td>\n      <td>20</td>\n      <td>54</td>\n      <td>44478</td>\n      <td>70</td>\n      <td>...</td>\n      <td>0.7419</td>\n      <td>-0.2997</td>\n      <td>0.9491</td>\n      <td>0</td>\n      <td>0</td>\n      <td>0</td>\n      <td>0</td>\n      <td>0</td>\n      <td>0</td>\n      <td>1</td>\n    </tr>\n    <tr>\n      <th>2</th>\n      <td>2</td>\n      <td>39</td>\n      <td>192</td>\n      <td>2212076</td>\n      <td>2212144</td>\n      <td>11388</td>\n      <td>705</td>\n      <td>420</td>\n      <td>1311391</td>\n      <td>29</td>\n      <td>...</td>\n      <td>-0.0105</td>\n      <td>-0.0944</td>\n      <td>1.0000</td>\n      <td>0</td>\n      <td>0</td>\n      <td>1</td>\n      <td>0</td>\n      <td>0</td>\n      <td>0</td>\n      <td>0</td>\n    </tr>\n    <tr>\n      <th>3</th>\n      <td>3</td>\n      <td>781</td>\n      <td>789</td>\n      <td>3353146</td>\n      <td>3353173</td>\n      <td>210</td>\n      <td>16</td>\n      <td>29</td>\n      <td>3202</td>\n      <td>114</td>\n      <td>...</td>\n      <td>0.6667</td>\n      <td>-0.0402</td>\n      <td>0.4025</td>\n      <td>0</td>\n      <td>0</td>\n      <td>1</td>\n      <td>0</td>\n      <td>0</td>\n      <td>0</td>\n      <td>0</td>\n    </tr>\n    <tr>\n      <th>4</th>\n      <td>4</td>\n      <td>1540</td>\n      <td>1560</td>\n      <td>618457</td>\n      <td>618502</td>\n      <td>521</td>\n      <td>72</td>\n      <td>67</td>\n      <td>48231</td>\n      <td>82</td>\n      <td>...</td>\n      <td>0.9158</td>\n      <td>-0.2455</td>\n      <td>0.9998</td>\n      <td>0</td>\n      <td>0</td>\n      <td>0</td>\n      <td>0</td>\n      <td>0</td>\n      <td>0</td>\n      <td>1</td>\n    </tr>\n  </tbody>\n</table>\n<p>5 rows × 35 columns</p>\n</div>"
          },
          "metadata": {}
        }
      ]
    },
    {
      "cell_type": "code",
      "source": [
        "sub_df.head()"
      ],
      "metadata": {
        "execution": {
          "iopub.status.busy": "2024-03-27T19:00:03.107585Z",
          "iopub.execute_input": "2024-03-27T19:00:03.108168Z",
          "iopub.status.idle": "2024-03-27T19:00:03.124121Z",
          "shell.execute_reply.started": "2024-03-27T19:00:03.108142Z",
          "shell.execute_reply": "2024-03-27T19:00:03.123106Z"
        },
        "trusted": true,
        "id": "SZiX0L5gSbOb",
        "outputId": "84d4c227-5486-480c-fd74-1bb90fd4916a"
      },
      "execution_count": null,
      "outputs": [
        {
          "execution_count": 9,
          "output_type": "execute_result",
          "data": {
            "text/plain": "      id  Pastry  Z_Scratch  K_Scatch  Stains  Dirtiness  Bumps  Other_Faults\n0  19219     0.5        0.5       0.5     0.5        0.5    0.5           0.5\n1  19220     0.5        0.5       0.5     0.5        0.5    0.5           0.5\n2  19221     0.5        0.5       0.5     0.5        0.5    0.5           0.5\n3  19222     0.5        0.5       0.5     0.5        0.5    0.5           0.5\n4  19223     0.5        0.5       0.5     0.5        0.5    0.5           0.5",
            "text/html": "<div>\n<style scoped>\n    .dataframe tbody tr th:only-of-type {\n        vertical-align: middle;\n    }\n\n    .dataframe tbody tr th {\n        vertical-align: top;\n    }\n\n    .dataframe thead th {\n        text-align: right;\n    }\n</style>\n<table border=\"1\" class=\"dataframe\">\n  <thead>\n    <tr style=\"text-align: right;\">\n      <th></th>\n      <th>id</th>\n      <th>Pastry</th>\n      <th>Z_Scratch</th>\n      <th>K_Scatch</th>\n      <th>Stains</th>\n      <th>Dirtiness</th>\n      <th>Bumps</th>\n      <th>Other_Faults</th>\n    </tr>\n  </thead>\n  <tbody>\n    <tr>\n      <th>0</th>\n      <td>19219</td>\n      <td>0.5</td>\n      <td>0.5</td>\n      <td>0.5</td>\n      <td>0.5</td>\n      <td>0.5</td>\n      <td>0.5</td>\n      <td>0.5</td>\n    </tr>\n    <tr>\n      <th>1</th>\n      <td>19220</td>\n      <td>0.5</td>\n      <td>0.5</td>\n      <td>0.5</td>\n      <td>0.5</td>\n      <td>0.5</td>\n      <td>0.5</td>\n      <td>0.5</td>\n    </tr>\n    <tr>\n      <th>2</th>\n      <td>19221</td>\n      <td>0.5</td>\n      <td>0.5</td>\n      <td>0.5</td>\n      <td>0.5</td>\n      <td>0.5</td>\n      <td>0.5</td>\n      <td>0.5</td>\n    </tr>\n    <tr>\n      <th>3</th>\n      <td>19222</td>\n      <td>0.5</td>\n      <td>0.5</td>\n      <td>0.5</td>\n      <td>0.5</td>\n      <td>0.5</td>\n      <td>0.5</td>\n      <td>0.5</td>\n    </tr>\n    <tr>\n      <th>4</th>\n      <td>19223</td>\n      <td>0.5</td>\n      <td>0.5</td>\n      <td>0.5</td>\n      <td>0.5</td>\n      <td>0.5</td>\n      <td>0.5</td>\n      <td>0.5</td>\n    </tr>\n  </tbody>\n</table>\n</div>"
          },
          "metadata": {}
        }
      ]
    },
    {
      "cell_type": "code",
      "source": [
        "test_df.shape,train_df.shape"
      ],
      "metadata": {
        "execution": {
          "iopub.status.busy": "2024-03-27T19:00:03.127723Z",
          "iopub.execute_input": "2024-03-27T19:00:03.128381Z",
          "iopub.status.idle": "2024-03-27T19:00:03.141662Z",
          "shell.execute_reply.started": "2024-03-27T19:00:03.128347Z",
          "shell.execute_reply": "2024-03-27T19:00:03.140739Z"
        },
        "trusted": true,
        "id": "gXnmue0xSbOc",
        "outputId": "d909dc55-6795-4b19-9678-aaf3245ca785"
      },
      "execution_count": null,
      "outputs": [
        {
          "execution_count": 10,
          "output_type": "execute_result",
          "data": {
            "text/plain": "((12814, 28), (19219, 35))"
          },
          "metadata": {}
        }
      ]
    },
    {
      "cell_type": "code",
      "source": [
        "test_df.columns"
      ],
      "metadata": {
        "execution": {
          "iopub.status.busy": "2024-03-27T19:00:03.143351Z",
          "iopub.execute_input": "2024-03-27T19:00:03.143695Z",
          "iopub.status.idle": "2024-03-27T19:00:03.157425Z",
          "shell.execute_reply.started": "2024-03-27T19:00:03.143665Z",
          "shell.execute_reply": "2024-03-27T19:00:03.156389Z"
        },
        "trusted": true,
        "id": "avV_CNJoSbOd",
        "outputId": "31519fc8-7f71-424e-f0fb-064611f75d7d"
      },
      "execution_count": null,
      "outputs": [
        {
          "execution_count": 11,
          "output_type": "execute_result",
          "data": {
            "text/plain": "Index(['id', 'X_Minimum', 'X_Maximum', 'Y_Minimum', 'Y_Maximum',\n       'Pixels_Areas', 'X_Perimeter', 'Y_Perimeter', 'Sum_of_Luminosity',\n       'Minimum_of_Luminosity', 'Maximum_of_Luminosity', 'Length_of_Conveyer',\n       'TypeOfSteel_A300', 'TypeOfSteel_A400', 'Steel_Plate_Thickness',\n       'Edges_Index', 'Empty_Index', 'Square_Index', 'Outside_X_Index',\n       'Edges_X_Index', 'Edges_Y_Index', 'Outside_Global_Index', 'LogOfAreas',\n       'Log_X_Index', 'Log_Y_Index', 'Orientation_Index', 'Luminosity_Index',\n       'SigmoidOfAreas'],\n      dtype='object')"
          },
          "metadata": {}
        }
      ]
    },
    {
      "cell_type": "code",
      "source": [
        "train_df.columns"
      ],
      "metadata": {
        "execution": {
          "iopub.status.busy": "2024-03-27T19:00:03.158618Z",
          "iopub.execute_input": "2024-03-27T19:00:03.158902Z",
          "iopub.status.idle": "2024-03-27T19:00:03.172229Z",
          "shell.execute_reply.started": "2024-03-27T19:00:03.158879Z",
          "shell.execute_reply": "2024-03-27T19:00:03.1713Z"
        },
        "trusted": true,
        "id": "sfEZPED0SbOe",
        "outputId": "5bbac142-50a6-42ac-f80a-3e579084bf21"
      },
      "execution_count": null,
      "outputs": [
        {
          "execution_count": 12,
          "output_type": "execute_result",
          "data": {
            "text/plain": "Index(['id', 'X_Minimum', 'X_Maximum', 'Y_Minimum', 'Y_Maximum',\n       'Pixels_Areas', 'X_Perimeter', 'Y_Perimeter', 'Sum_of_Luminosity',\n       'Minimum_of_Luminosity', 'Maximum_of_Luminosity', 'Length_of_Conveyer',\n       'TypeOfSteel_A300', 'TypeOfSteel_A400', 'Steel_Plate_Thickness',\n       'Edges_Index', 'Empty_Index', 'Square_Index', 'Outside_X_Index',\n       'Edges_X_Index', 'Edges_Y_Index', 'Outside_Global_Index', 'LogOfAreas',\n       'Log_X_Index', 'Log_Y_Index', 'Orientation_Index', 'Luminosity_Index',\n       'SigmoidOfAreas', 'Pastry', 'Z_Scratch', 'K_Scatch', 'Stains',\n       'Dirtiness', 'Bumps', 'Other_Faults'],\n      dtype='object')"
          },
          "metadata": {}
        }
      ]
    },
    {
      "cell_type": "code",
      "source": [
        "y_names = ['Pastry', 'Z_Scratch', 'K_Scatch', 'Stains', 'Dirtiness', 'Bumps', 'Other_Faults']"
      ],
      "metadata": {
        "id": "gmHUkX9ddGUJ",
        "execution": {
          "iopub.status.busy": "2024-03-27T19:00:03.173365Z",
          "iopub.execute_input": "2024-03-27T19:00:03.173674Z",
          "iopub.status.idle": "2024-03-27T19:00:03.190511Z",
          "shell.execute_reply.started": "2024-03-27T19:00:03.173645Z",
          "shell.execute_reply": "2024-03-27T19:00:03.189593Z"
        },
        "trusted": true
      },
      "execution_count": null,
      "outputs": []
    },
    {
      "cell_type": "code",
      "source": [
        "cont_names, cat_names = cont_cat_split(train_df,dep_var=['Pastry', 'Z_Scratch', 'K_Scatch', 'Stains', 'Dirtiness', 'Bumps', 'Other_Faults'])"
      ],
      "metadata": {
        "id": "pPvV47yfeoqL",
        "execution": {
          "iopub.status.busy": "2024-03-27T19:00:03.191603Z",
          "iopub.execute_input": "2024-03-27T19:00:03.192013Z",
          "iopub.status.idle": "2024-03-27T19:00:03.211277Z",
          "shell.execute_reply.started": "2024-03-27T19:00:03.191989Z",
          "shell.execute_reply": "2024-03-27T19:00:03.210328Z"
        },
        "trusted": true
      },
      "execution_count": null,
      "outputs": []
    },
    {
      "cell_type": "code",
      "source": [
        "splits = RandomSplitter(valid_pct=0.2)(range_of(train_df))"
      ],
      "metadata": {
        "id": "h8YwkIl9gJu_",
        "execution": {
          "iopub.status.busy": "2024-03-27T18:58:54.320529Z",
          "iopub.execute_input": "2024-03-27T18:58:54.320914Z",
          "iopub.status.idle": "2024-03-27T18:58:54.353396Z",
          "shell.execute_reply.started": "2024-03-27T18:58:54.320886Z",
          "shell.execute_reply": "2024-03-27T18:58:54.352466Z"
        },
        "trusted": true
      },
      "execution_count": null,
      "outputs": []
    },
    {
      "cell_type": "code",
      "source": [
        "to = TabularPandas(train_df, procs=[Categorify, FillMissing,Normalize],\n",
        "                   cat_names = cat_names,\n",
        "                   cont_names = cont_names,\n",
        "                   y_names= y_names,\n",
        "                  # y_block = CategoryBlock,\n",
        "                   splits=splits)"
      ],
      "metadata": {
        "id": "UgDbuCuBdGRM",
        "execution": {
          "iopub.status.busy": "2024-03-27T18:58:54.797492Z",
          "iopub.execute_input": "2024-03-27T18:58:54.798215Z",
          "iopub.status.idle": "2024-03-27T18:58:54.874067Z",
          "shell.execute_reply.started": "2024-03-27T18:58:54.798183Z",
          "shell.execute_reply": "2024-03-27T18:58:54.873044Z"
        },
        "trusted": true
      },
      "execution_count": null,
      "outputs": []
    },
    {
      "cell_type": "code",
      "source": [
        "to.xs.iloc[:2]"
      ],
      "metadata": {
        "id": "ZiCcYfSydGOy",
        "outputId": "6ad4e817-8c09-4340-dd3f-d8cd5e6b88de",
        "execution": {
          "iopub.status.busy": "2024-03-27T18:58:55.093392Z",
          "iopub.execute_input": "2024-03-27T18:58:55.094322Z",
          "iopub.status.idle": "2024-03-27T18:58:55.12882Z",
          "shell.execute_reply.started": "2024-03-27T18:58:55.094281Z",
          "shell.execute_reply": "2024-03-27T18:58:55.127818Z"
        },
        "trusted": true
      },
      "execution_count": null,
      "outputs": [
        {
          "execution_count": 17,
          "output_type": "execute_result",
          "data": {
            "text/plain": "       TypeOfSteel_A300  TypeOfSteel_A400        id  X_Minimum  X_Maximum  \\\n11340                 2                 1  0.313684  -1.340465  -1.486213   \n2094                  1                 2 -1.356317   1.151727   1.173838   \n\n       Y_Minimum  Y_Maximum  Pixels_Areas  X_Perimeter  Y_Perimeter  ...  \\\n11340  -0.721962  -0.722446     -0.424463    -0.376291    -0.406758  ...   \n2094    2.113786   2.123421     -0.270663    -0.348350    -0.276931  ...   \n\n       Outside_X_Index  Edges_X_Index  Edges_Y_Index  Outside_Global_Index  \\\n11340        -0.399167       0.144737       0.062912              0.842607   \n2094         -0.373550      -0.409438       0.761681              0.842607   \n\n       LogOfAreas  Log_X_Index  Log_Y_Index  Orientation_Index  \\\n11340   -0.567453    -0.230852    -0.068816           0.865095   \n2094     0.536130     0.064983     0.412268           0.324788   \n\n       Luminosity_Index  SigmoidOfAreas  \n11340         -1.070323       -0.595141  \n2094          -0.468295        1.215455  \n\n[2 rows x 28 columns]",
            "text/html": "<div>\n<style scoped>\n    .dataframe tbody tr th:only-of-type {\n        vertical-align: middle;\n    }\n\n    .dataframe tbody tr th {\n        vertical-align: top;\n    }\n\n    .dataframe thead th {\n        text-align: right;\n    }\n</style>\n<table border=\"1\" class=\"dataframe\">\n  <thead>\n    <tr style=\"text-align: right;\">\n      <th></th>\n      <th>TypeOfSteel_A300</th>\n      <th>TypeOfSteel_A400</th>\n      <th>id</th>\n      <th>X_Minimum</th>\n      <th>X_Maximum</th>\n      <th>Y_Minimum</th>\n      <th>Y_Maximum</th>\n      <th>Pixels_Areas</th>\n      <th>X_Perimeter</th>\n      <th>Y_Perimeter</th>\n      <th>...</th>\n      <th>Outside_X_Index</th>\n      <th>Edges_X_Index</th>\n      <th>Edges_Y_Index</th>\n      <th>Outside_Global_Index</th>\n      <th>LogOfAreas</th>\n      <th>Log_X_Index</th>\n      <th>Log_Y_Index</th>\n      <th>Orientation_Index</th>\n      <th>Luminosity_Index</th>\n      <th>SigmoidOfAreas</th>\n    </tr>\n  </thead>\n  <tbody>\n    <tr>\n      <th>11340</th>\n      <td>2</td>\n      <td>1</td>\n      <td>0.313684</td>\n      <td>-1.340465</td>\n      <td>-1.486213</td>\n      <td>-0.721962</td>\n      <td>-0.722446</td>\n      <td>-0.424463</td>\n      <td>-0.376291</td>\n      <td>-0.406758</td>\n      <td>...</td>\n      <td>-0.399167</td>\n      <td>0.144737</td>\n      <td>0.062912</td>\n      <td>0.842607</td>\n      <td>-0.567453</td>\n      <td>-0.230852</td>\n      <td>-0.068816</td>\n      <td>0.865095</td>\n      <td>-1.070323</td>\n      <td>-0.595141</td>\n    </tr>\n    <tr>\n      <th>2094</th>\n      <td>1</td>\n      <td>2</td>\n      <td>-1.356317</td>\n      <td>1.151727</td>\n      <td>1.173838</td>\n      <td>2.113786</td>\n      <td>2.123421</td>\n      <td>-0.270663</td>\n      <td>-0.348350</td>\n      <td>-0.276931</td>\n      <td>...</td>\n      <td>-0.373550</td>\n      <td>-0.409438</td>\n      <td>0.761681</td>\n      <td>0.842607</td>\n      <td>0.536130</td>\n      <td>0.064983</td>\n      <td>0.412268</td>\n      <td>0.324788</td>\n      <td>-0.468295</td>\n      <td>1.215455</td>\n    </tr>\n  </tbody>\n</table>\n<p>2 rows × 28 columns</p>\n</div>"
          },
          "metadata": {}
        }
      ]
    },
    {
      "cell_type": "code",
      "source": [
        "dls = to.dataloaders(bs=64)"
      ],
      "metadata": {
        "id": "URgqOShbdGL6",
        "execution": {
          "iopub.status.busy": "2024-03-27T18:58:55.352894Z",
          "iopub.execute_input": "2024-03-27T18:58:55.353314Z",
          "iopub.status.idle": "2024-03-27T18:58:55.444382Z",
          "shell.execute_reply.started": "2024-03-27T18:58:55.353281Z",
          "shell.execute_reply": "2024-03-27T18:58:55.443341Z"
        },
        "trusted": true
      },
      "execution_count": null,
      "outputs": []
    },
    {
      "cell_type": "code",
      "source": [
        "dls.show_batch()"
      ],
      "metadata": {
        "id": "qKSy2-hMdGJM",
        "outputId": "c41dba85-216d-437c-de8e-8afbd927348c",
        "execution": {
          "iopub.status.busy": "2024-03-27T18:58:55.640458Z",
          "iopub.execute_input": "2024-03-27T18:58:55.641615Z",
          "iopub.status.idle": "2024-03-27T18:58:55.706957Z",
          "shell.execute_reply.started": "2024-03-27T18:58:55.641568Z",
          "shell.execute_reply": "2024-03-27T18:58:55.705918Z"
        },
        "trusted": true
      },
      "execution_count": null,
      "outputs": [
        {
          "output_type": "display_data",
          "data": {
            "text/plain": "<IPython.core.display.HTML object>",
            "text/html": "<table border=\"1\" class=\"dataframe\">\n  <thead>\n    <tr style=\"text-align: right;\">\n      <th></th>\n      <th>TypeOfSteel_A300</th>\n      <th>TypeOfSteel_A400</th>\n      <th>id</th>\n      <th>X_Minimum</th>\n      <th>X_Maximum</th>\n      <th>Y_Minimum</th>\n      <th>Y_Maximum</th>\n      <th>Pixels_Areas</th>\n      <th>X_Perimeter</th>\n      <th>Y_Perimeter</th>\n      <th>Sum_of_Luminosity</th>\n      <th>Minimum_of_Luminosity</th>\n      <th>Maximum_of_Luminosity</th>\n      <th>Length_of_Conveyer</th>\n      <th>Steel_Plate_Thickness</th>\n      <th>Edges_Index</th>\n      <th>Empty_Index</th>\n      <th>Square_Index</th>\n      <th>Outside_X_Index</th>\n      <th>Edges_X_Index</th>\n      <th>Edges_Y_Index</th>\n      <th>Outside_Global_Index</th>\n      <th>LogOfAreas</th>\n      <th>Log_X_Index</th>\n      <th>Log_Y_Index</th>\n      <th>Orientation_Index</th>\n      <th>Luminosity_Index</th>\n      <th>SigmoidOfAreas</th>\n      <th>Pastry</th>\n      <th>Z_Scratch</th>\n      <th>K_Scatch</th>\n      <th>Stains</th>\n      <th>Dirtiness</th>\n      <th>Bumps</th>\n      <th>Other_Faults</th>\n    </tr>\n  </thead>\n  <tbody>\n    <tr>\n      <th>0</th>\n      <td>1</td>\n      <td>0</td>\n      <td>17982.000226</td>\n      <td>507.000007</td>\n      <td>512.999994</td>\n      <td>1.620649e+06</td>\n      <td>1.620667e+06</td>\n      <td>113.999989</td>\n      <td>17.000000</td>\n      <td>14.999999</td>\n      <td>13986.995683</td>\n      <td>105.000000</td>\n      <td>140.0</td>\n      <td>1687.999994</td>\n      <td>70.000000</td>\n      <td>0.0036</td>\n      <td>0.3667</td>\n      <td>0.6667</td>\n      <td>0.0077</td>\n      <td>0.7647</td>\n      <td>1.0000</td>\n      <td>1.000000e+00</td>\n      <td>2.0569</td>\n      <td>1.1139</td>\n      <td>1.1761</td>\n      <td>3.333000e-01</td>\n      <td>-0.0548</td>\n      <td>0.3097</td>\n      <td>1.0</td>\n      <td>0.0</td>\n      <td>0.0</td>\n      <td>0.0</td>\n      <td>0.0</td>\n      <td>0.0</td>\n      <td>0.0</td>\n    </tr>\n    <tr>\n      <th>1</th>\n      <td>1</td>\n      <td>0</td>\n      <td>6071.000139</td>\n      <td>1327.000014</td>\n      <td>1332.000010</td>\n      <td>1.060291e+06</td>\n      <td>1.060313e+06</td>\n      <td>55.000038</td>\n      <td>20.999999</td>\n      <td>13.999999</td>\n      <td>4108.000022</td>\n      <td>86.000000</td>\n      <td>111.0</td>\n      <td>1687.999994</td>\n      <td>70.000000</td>\n      <td>0.0192</td>\n      <td>0.2917</td>\n      <td>0.5714</td>\n      <td>0.0044</td>\n      <td>0.3636</td>\n      <td>1.0000</td>\n      <td>1.000000e+00</td>\n      <td>1.7404</td>\n      <td>0.7782</td>\n      <td>1.1461</td>\n      <td>4.286000e-01</td>\n      <td>-0.1880</td>\n      <td>0.2195</td>\n      <td>0.0</td>\n      <td>0.0</td>\n      <td>0.0</td>\n      <td>0.0</td>\n      <td>0.0</td>\n      <td>0.0</td>\n      <td>1.0</td>\n    </tr>\n    <tr>\n      <th>2</th>\n      <td>0</td>\n      <td>1</td>\n      <td>13944.999971</td>\n      <td>38.999985</td>\n      <td>216.000022</td>\n      <td>2.896951e+06</td>\n      <td>2.897015e+06</td>\n      <td>6421.999874</td>\n      <td>278.000005</td>\n      <td>134.000000</td>\n      <td>670952.022029</td>\n      <td>41.999998</td>\n      <td>125.0</td>\n      <td>1358.000002</td>\n      <td>40.000001</td>\n      <td>0.0574</td>\n      <td>0.4603</td>\n      <td>0.3864</td>\n      <td>0.1289</td>\n      <td>0.6295</td>\n      <td>0.4925</td>\n      <td>-1.942094e-08</td>\n      <td>3.8084</td>\n      <td>2.2430</td>\n      <td>1.8325</td>\n      <td>-6.136000e-01</td>\n      <td>-0.1851</td>\n      <td>1.0000</td>\n      <td>0.0</td>\n      <td>0.0</td>\n      <td>1.0</td>\n      <td>0.0</td>\n      <td>0.0</td>\n      <td>0.0</td>\n      <td>0.0</td>\n    </tr>\n    <tr>\n      <th>3</th>\n      <td>1</td>\n      <td>0</td>\n      <td>8832.000038</td>\n      <td>52.000006</td>\n      <td>91.999997</td>\n      <td>6.825898e+04</td>\n      <td>6.828804e+04</td>\n      <td>313.000012</td>\n      <td>52.000001</td>\n      <td>41.000000</td>\n      <td>39555.995577</td>\n      <td>92.000000</td>\n      <td>133.0</td>\n      <td>1354.000004</td>\n      <td>70.000000</td>\n      <td>0.1064</td>\n      <td>0.6098</td>\n      <td>0.8947</td>\n      <td>0.0242</td>\n      <td>0.5165</td>\n      <td>0.5366</td>\n      <td>-1.942094e-08</td>\n      <td>2.4969</td>\n      <td>1.6128</td>\n      <td>1.3424</td>\n      <td>-1.053000e-01</td>\n      <td>-0.1166</td>\n      <td>0.9681</td>\n      <td>0.0</td>\n      <td>0.0</td>\n      <td>0.0</td>\n      <td>0.0</td>\n      <td>0.0</td>\n      <td>0.0</td>\n      <td>1.0</td>\n    </tr>\n    <tr>\n      <th>4</th>\n      <td>1</td>\n      <td>0</td>\n      <td>9931.000006</td>\n      <td>1328.999997</td>\n      <td>1339.000025</td>\n      <td>3.485560e+05</td>\n      <td>3.485680e+05</td>\n      <td>139.999960</td>\n      <td>18.999999</td>\n      <td>28.999999</td>\n      <td>16070.002307</td>\n      <td>110.000000</td>\n      <td>133.0</td>\n      <td>1363.999996</td>\n      <td>199.999996</td>\n      <td>0.7699</td>\n      <td>0.5185</td>\n      <td>0.8571</td>\n      <td>0.0118</td>\n      <td>0.8947</td>\n      <td>0.5185</td>\n      <td>1.000000e+00</td>\n      <td>2.1461</td>\n      <td>1.2041</td>\n      <td>1.1461</td>\n      <td>1.429000e-01</td>\n      <td>-0.0786</td>\n      <td>0.3601</td>\n      <td>0.0</td>\n      <td>0.0</td>\n      <td>0.0</td>\n      <td>0.0</td>\n      <td>0.0</td>\n      <td>0.0</td>\n      <td>1.0</td>\n    </tr>\n    <tr>\n      <th>5</th>\n      <td>0</td>\n      <td>1</td>\n      <td>1165.000239</td>\n      <td>630.000003</td>\n      <td>649.000001</td>\n      <td>2.339660e+06</td>\n      <td>2.339663e+06</td>\n      <td>54.000005</td>\n      <td>9.000002</td>\n      <td>9.000001</td>\n      <td>6935.994947</td>\n      <td>111.000001</td>\n      <td>142.0</td>\n      <td>1387.000000</td>\n      <td>40.000001</td>\n      <td>0.6333</td>\n      <td>0.2778</td>\n      <td>0.8889</td>\n      <td>0.0058</td>\n      <td>0.8889</td>\n      <td>1.0000</td>\n      <td>1.000000e+00</td>\n      <td>1.7324</td>\n      <td>0.9031</td>\n      <td>0.9542</td>\n      <td>1.111000e-01</td>\n      <td>-0.0236</td>\n      <td>0.1773</td>\n      <td>0.0</td>\n      <td>0.0</td>\n      <td>0.0</td>\n      <td>0.0</td>\n      <td>0.0</td>\n      <td>1.0</td>\n      <td>0.0</td>\n    </tr>\n    <tr>\n      <th>6</th>\n      <td>0</td>\n      <td>1</td>\n      <td>8295.000025</td>\n      <td>1465.000030</td>\n      <td>1486.000029</td>\n      <td>2.601240e+05</td>\n      <td>2.601360e+05</td>\n      <td>54.000005</td>\n      <td>27.000002</td>\n      <td>12.000002</td>\n      <td>7483.998348</td>\n      <td>115.999999</td>\n      <td>140.0</td>\n      <td>1651.999996</td>\n      <td>40.000001</td>\n      <td>0.2668</td>\n      <td>0.5833</td>\n      <td>0.4000</td>\n      <td>0.0132</td>\n      <td>0.5556</td>\n      <td>0.5833</td>\n      <td>-1.942094e-08</td>\n      <td>1.7324</td>\n      <td>1.2553</td>\n      <td>0.8451</td>\n      <td>-6.000001e-01</td>\n      <td>-0.0041</td>\n      <td>0.2621</td>\n      <td>0.0</td>\n      <td>0.0</td>\n      <td>0.0</td>\n      <td>0.0</td>\n      <td>0.0</td>\n      <td>0.0</td>\n      <td>0.0</td>\n    </tr>\n    <tr>\n      <th>7</th>\n      <td>0</td>\n      <td>1</td>\n      <td>11864.000002</td>\n      <td>40.999969</td>\n      <td>211.999971</td>\n      <td>1.469856e+06</td>\n      <td>1.469884e+06</td>\n      <td>6881.999970</td>\n      <td>275.999995</td>\n      <td>131.000000</td>\n      <td>674367.004897</td>\n      <td>41.000001</td>\n      <td>124.0</td>\n      <td>1359.999997</td>\n      <td>40.000001</td>\n      <td>0.0604</td>\n      <td>0.4272</td>\n      <td>0.3829</td>\n      <td>0.1274</td>\n      <td>0.6604</td>\n      <td>0.4574</td>\n      <td>-1.942094e-08</td>\n      <td>3.8236</td>\n      <td>2.2380</td>\n      <td>1.8451</td>\n      <td>-6.171000e-01</td>\n      <td>-0.1851</td>\n      <td>1.0000</td>\n      <td>0.0</td>\n      <td>0.0</td>\n      <td>1.0</td>\n      <td>0.0</td>\n      <td>0.0</td>\n      <td>0.0</td>\n      <td>0.0</td>\n    </tr>\n    <tr>\n      <th>8</th>\n      <td>1</td>\n      <td>0</td>\n      <td>13140.000028</td>\n      <td>1064.999993</td>\n      <td>1078.000003</td>\n      <td>5.303273e+06</td>\n      <td>5.303295e+06</td>\n      <td>108.000013</td>\n      <td>18.999999</td>\n      <td>14.999999</td>\n      <td>12304.000938</td>\n      <td>97.000000</td>\n      <td>133.0</td>\n      <td>1363.999996</td>\n      <td>80.000000</td>\n      <td>0.7094</td>\n      <td>0.3536</td>\n      <td>1.0000</td>\n      <td>0.0089</td>\n      <td>0.6842</td>\n      <td>0.8667</td>\n      <td>5.000000e-01</td>\n      <td>2.0334</td>\n      <td>1.1139</td>\n      <td>1.1139</td>\n      <td>-2.434815e-09</td>\n      <td>-0.1094</td>\n      <td>0.2914</td>\n      <td>0.0</td>\n      <td>0.0</td>\n      <td>0.0</td>\n      <td>0.0</td>\n      <td>0.0</td>\n      <td>1.0</td>\n      <td>0.0</td>\n    </tr>\n    <tr>\n      <th>9</th>\n      <td>1</td>\n      <td>0</td>\n      <td>18436.999806</td>\n      <td>40.999969</td>\n      <td>216.000022</td>\n      <td>1.853169e+06</td>\n      <td>1.853339e+06</td>\n      <td>654.999986</td>\n      <td>76.000000</td>\n      <td>133.000000</td>\n      <td>677554.017510</td>\n      <td>38.000001</td>\n      <td>124.0</td>\n      <td>1355.999999</td>\n      <td>80.000000</td>\n      <td>0.0605</td>\n      <td>0.4331</td>\n      <td>0.3771</td>\n      <td>0.1291</td>\n      <td>0.5369</td>\n      <td>0.5149</td>\n      <td>-1.942094e-08</td>\n      <td>2.8142</td>\n      <td>2.2430</td>\n      <td>1.8129</td>\n      <td>-6.229000e-01</td>\n      <td>-0.1902</td>\n      <td>1.0000</td>\n      <td>0.0</td>\n      <td>0.0</td>\n      <td>0.0</td>\n      <td>0.0</td>\n      <td>0.0</td>\n      <td>1.0</td>\n      <td>0.0</td>\n    </tr>\n  </tbody>\n</table>"
          },
          "metadata": {}
        }
      ]
    },
    {
      "cell_type": "code",
      "source": [
        "learn = tabular_learner(dls, metrics=RocAucMulti())"
      ],
      "metadata": {
        "id": "zgoR-q0fdGGk",
        "execution": {
          "iopub.status.busy": "2024-03-27T18:58:55.870686Z",
          "iopub.execute_input": "2024-03-27T18:58:55.871335Z",
          "iopub.status.idle": "2024-03-27T18:58:55.904717Z",
          "shell.execute_reply.started": "2024-03-27T18:58:55.871305Z",
          "shell.execute_reply": "2024-03-27T18:58:55.903665Z"
        },
        "trusted": true
      },
      "execution_count": null,
      "outputs": []
    },
    {
      "cell_type": "code",
      "source": [
        "learn.lr_find(suggest_funcs=(slide,valley))"
      ],
      "metadata": {
        "id": "IPyazzCaPcNi",
        "outputId": "26eac142-bc36-4b6f-8f55-a7390ede093e",
        "execution": {
          "iopub.status.busy": "2024-03-27T18:58:56.146839Z",
          "iopub.execute_input": "2024-03-27T18:58:56.147579Z",
          "iopub.status.idle": "2024-03-27T18:58:58.934036Z",
          "shell.execute_reply.started": "2024-03-27T18:58:56.147524Z",
          "shell.execute_reply": "2024-03-27T18:58:58.933049Z"
        },
        "trusted": true
      },
      "execution_count": null,
      "outputs": [
        {
          "output_type": "display_data",
          "data": {
            "text/plain": "<IPython.core.display.HTML object>",
            "text/html": "\n<style>\n    /* Turns off some styling */\n    progress {\n        /* gets rid of default border in Firefox and Opera. */\n        border: none;\n        /* Needs to be in here for Safari polyfill so background images work as expected. */\n        background-size: auto;\n    }\n    progress:not([value]), progress:not([value])::-webkit-progress-bar {\n        background: repeating-linear-gradient(45deg, #7e7e7e, #7e7e7e 10px, #5c5c5c 10px, #5c5c5c 20px);\n    }\n    .progress-bar-interrupted, .progress-bar-interrupted::-webkit-progress-bar {\n        background: #F44336;\n    }\n</style>\n"
          },
          "metadata": {}
        },
        {
          "output_type": "display_data",
          "data": {
            "text/plain": "<IPython.core.display.HTML object>",
            "text/html": ""
          },
          "metadata": {}
        },
        {
          "execution_count": 21,
          "output_type": "execute_result",
          "data": {
            "text/plain": "SuggestedLRs(slide=0.019054606556892395, valley=0.0005754399462603033)"
          },
          "metadata": {}
        },
        {
          "output_type": "display_data",
          "data": {
            "text/plain": "<Figure size 640x480 with 1 Axes>",
            "image/png": "[encoded data removed]"
          },
          "metadata": {}
        }
      ]
    },
    {
      "cell_type": "code",
      "source": [
        "#learn.fit_one_cycle(15, slice(0.0005, 0.019))\n",
        "learn.fit_one_cycle(15, 0.014)"
      ],
      "metadata": {
        "id": "BJV69bfWTGFR",
        "execution": {
          "iopub.status.busy": "2024-03-27T18:58:58.935634Z",
          "iopub.execute_input": "2024-03-27T18:58:58.935927Z",
          "iopub.status.idle": "2024-03-27T18:59:06.014954Z",
          "shell.execute_reply.started": "2024-03-27T18:58:58.9359Z",
          "shell.execute_reply": "2024-03-27T18:59:06.012789Z"
        },
        "trusted": true,
        "outputId": "6388db4a-a2c7-4b7f-9e68-12163487e629"
      },
      "execution_count": null,
      "outputs": [
        {
          "output_type": "display_data",
          "data": {
            "text/plain": "<IPython.core.display.HTML object>",
            "text/html": "\n<style>\n    /* Turns off some styling */\n    progress {\n        /* gets rid of default border in Firefox and Opera. */\n        border: none;\n        /* Needs to be in here for Safari polyfill so background images work as expected. */\n        background-size: auto;\n    }\n    progress:not([value]), progress:not([value])::-webkit-progress-bar {\n        background: repeating-linear-gradient(45deg, #7e7e7e, #7e7e7e 10px, #5c5c5c 10px, #5c5c5c 20px);\n    }\n    .progress-bar-interrupted, .progress-bar-interrupted::-webkit-progress-bar {\n        background: #F44336;\n    }\n</style>\n"
          },
          "metadata": {}
        },
        {
          "output_type": "display_data",
          "data": {
            "text/plain": "<IPython.core.display.HTML object>",
            "text/html": "\n    <div>\n      <progress value='2' class='' max='15' style='width:300px; height:20px; vertical-align: middle;'></progress>\n      13.33% [2/15 00:05&lt;00:33]\n    </div>\n    \n<table border=\"1\" class=\"dataframe\">\n  <thead>\n    <tr style=\"text-align: left;\">\n      <th>epoch</th>\n      <th>train_loss</th>\n      <th>valid_loss</th>\n      <th>roc_auc_score</th>\n      <th>time</th>\n    </tr>\n  </thead>\n  <tbody>\n    <tr>\n      <td>0</td>\n      <td>0.086174</td>\n      <td>0.082747</td>\n      <td>0.822724</td>\n      <td>00:02</td>\n    </tr>\n    <tr>\n      <td>1</td>\n      <td>0.083556</td>\n      <td>0.082568</td>\n      <td>0.814651</td>\n      <td>00:02</td>\n    </tr>\n  </tbody>\n</table><p>\n\n    <div>\n      <progress value='142' class='' max='240' style='width:300px; height:20px; vertical-align: middle;'></progress>\n      59.17% [142/240 00:01&lt;00:00 0.0824]\n    </div>\n    "
          },
          "metadata": {}
        },
        {
          "traceback": [
            "\u001b[0;31m---------------------------------------------------------------------------\u001b[0m",
            "\u001b[0;31mKeyboardInterrupt\u001b[0m                         Traceback (most recent call last)",
            "Cell \u001b[0;32mIn[22], line 2\u001b[0m\n\u001b[1;32m      1\u001b[0m \u001b[38;5;66;03m#learn.fit_one_cycle(15, slice(0.0005, 0.019))\u001b[39;00m\n\u001b[0;32m----> 2\u001b[0m \u001b[43mlearn\u001b[49m\u001b[38;5;241;43m.\u001b[39;49m\u001b[43mfit_one_cycle\u001b[49m\u001b[43m(\u001b[49m\u001b[38;5;241;43m15\u001b[39;49m\u001b[43m,\u001b[49m\u001b[43m \u001b[49m\u001b[38;5;241;43m0.014\u001b[39;49m\u001b[43m)\u001b[49m\n",
            "File \u001b[0;32m/opt/conda/lib/python3.10/site-packages/fastai/callback/schedule.py:119\u001b[0m, in \u001b[0;36mfit_one_cycle\u001b[0;34m(self, n_epoch, lr_max, div, div_final, pct_start, wd, moms, cbs, reset_opt, start_epoch)\u001b[0m\n\u001b[1;32m    116\u001b[0m lr_max \u001b[38;5;241m=\u001b[39m np\u001b[38;5;241m.\u001b[39marray([h[\u001b[38;5;124m'\u001b[39m\u001b[38;5;124mlr\u001b[39m\u001b[38;5;124m'\u001b[39m] \u001b[38;5;28;01mfor\u001b[39;00m h \u001b[38;5;129;01min\u001b[39;00m \u001b[38;5;28mself\u001b[39m\u001b[38;5;241m.\u001b[39mopt\u001b[38;5;241m.\u001b[39mhypers])\n\u001b[1;32m    117\u001b[0m scheds \u001b[38;5;241m=\u001b[39m {\u001b[38;5;124m'\u001b[39m\u001b[38;5;124mlr\u001b[39m\u001b[38;5;124m'\u001b[39m: combined_cos(pct_start, lr_max\u001b[38;5;241m/\u001b[39mdiv, lr_max, lr_max\u001b[38;5;241m/\u001b[39mdiv_final),\n\u001b[1;32m    118\u001b[0m           \u001b[38;5;124m'\u001b[39m\u001b[38;5;124mmom\u001b[39m\u001b[38;5;124m'\u001b[39m: combined_cos(pct_start, \u001b[38;5;241m*\u001b[39m(\u001b[38;5;28mself\u001b[39m\u001b[38;5;241m.\u001b[39mmoms \u001b[38;5;28;01mif\u001b[39;00m moms \u001b[38;5;129;01mis\u001b[39;00m \u001b[38;5;28;01mNone\u001b[39;00m \u001b[38;5;28;01melse\u001b[39;00m moms))}\n\u001b[0;32m--> 119\u001b[0m \u001b[38;5;28;43mself\u001b[39;49m\u001b[38;5;241;43m.\u001b[39;49m\u001b[43mfit\u001b[49m\u001b[43m(\u001b[49m\u001b[43mn_epoch\u001b[49m\u001b[43m,\u001b[49m\u001b[43m \u001b[49m\u001b[43mcbs\u001b[49m\u001b[38;5;241;43m=\u001b[39;49m\u001b[43mParamScheduler\u001b[49m\u001b[43m(\u001b[49m\u001b[43mscheds\u001b[49m\u001b[43m)\u001b[49m\u001b[38;5;241;43m+\u001b[39;49m\u001b[43mL\u001b[49m\u001b[43m(\u001b[49m\u001b[43mcbs\u001b[49m\u001b[43m)\u001b[49m\u001b[43m,\u001b[49m\u001b[43m \u001b[49m\u001b[43mreset_opt\u001b[49m\u001b[38;5;241;43m=\u001b[39;49m\u001b[43mreset_opt\u001b[49m\u001b[43m,\u001b[49m\u001b[43m \u001b[49m\u001b[43mwd\u001b[49m\u001b[38;5;241;43m=\u001b[39;49m\u001b[43mwd\u001b[49m\u001b[43m,\u001b[49m\u001b[43m \u001b[49m\u001b[43mstart_epoch\u001b[49m\u001b[38;5;241;43m=\u001b[39;49m\u001b[43mstart_epoch\u001b[49m\u001b[43m)\u001b[49m\n",
            "File \u001b[0;32m/opt/conda/lib/python3.10/site-packages/fastai/learner.py:264\u001b[0m, in \u001b[0;36mLearner.fit\u001b[0;34m(self, n_epoch, lr, wd, cbs, reset_opt, start_epoch)\u001b[0m\n\u001b[1;32m    262\u001b[0m \u001b[38;5;28mself\u001b[39m\u001b[38;5;241m.\u001b[39mopt\u001b[38;5;241m.\u001b[39mset_hypers(lr\u001b[38;5;241m=\u001b[39m\u001b[38;5;28mself\u001b[39m\u001b[38;5;241m.\u001b[39mlr \u001b[38;5;28;01mif\u001b[39;00m lr \u001b[38;5;129;01mis\u001b[39;00m \u001b[38;5;28;01mNone\u001b[39;00m \u001b[38;5;28;01melse\u001b[39;00m lr)\n\u001b[1;32m    263\u001b[0m \u001b[38;5;28mself\u001b[39m\u001b[38;5;241m.\u001b[39mn_epoch \u001b[38;5;241m=\u001b[39m n_epoch\n\u001b[0;32m--> 264\u001b[0m \u001b[38;5;28;43mself\u001b[39;49m\u001b[38;5;241;43m.\u001b[39;49m\u001b[43m_with_events\u001b[49m\u001b[43m(\u001b[49m\u001b[38;5;28;43mself\u001b[39;49m\u001b[38;5;241;43m.\u001b[39;49m\u001b[43m_do_fit\u001b[49m\u001b[43m,\u001b[49m\u001b[43m \u001b[49m\u001b[38;5;124;43m'\u001b[39;49m\u001b[38;5;124;43mfit\u001b[39;49m\u001b[38;5;124;43m'\u001b[39;49m\u001b[43m,\u001b[49m\u001b[43m \u001b[49m\u001b[43mCancelFitException\u001b[49m\u001b[43m,\u001b[49m\u001b[43m \u001b[49m\u001b[38;5;28;43mself\u001b[39;49m\u001b[38;5;241;43m.\u001b[39;49m\u001b[43m_end_cleanup\u001b[49m\u001b[43m)\u001b[49m\n",
            "File \u001b[0;32m/opt/conda/lib/python3.10/site-packages/fastai/learner.py:199\u001b[0m, in \u001b[0;36mLearner._with_events\u001b[0;34m(self, f, event_type, ex, final)\u001b[0m\n\u001b[1;32m    198\u001b[0m \u001b[38;5;28;01mdef\u001b[39;00m \u001b[38;5;21m_with_events\u001b[39m(\u001b[38;5;28mself\u001b[39m, f, event_type, ex, final\u001b[38;5;241m=\u001b[39mnoop):\n\u001b[0;32m--> 199\u001b[0m     \u001b[38;5;28;01mtry\u001b[39;00m: \u001b[38;5;28mself\u001b[39m(\u001b[38;5;124mf\u001b[39m\u001b[38;5;124m'\u001b[39m\u001b[38;5;124mbefore_\u001b[39m\u001b[38;5;132;01m{\u001b[39;00mevent_type\u001b[38;5;132;01m}\u001b[39;00m\u001b[38;5;124m'\u001b[39m);  \u001b[43mf\u001b[49m\u001b[43m(\u001b[49m\u001b[43m)\u001b[49m\n\u001b[1;32m    200\u001b[0m     \u001b[38;5;28;01mexcept\u001b[39;00m ex: \u001b[38;5;28mself\u001b[39m(\u001b[38;5;124mf\u001b[39m\u001b[38;5;124m'\u001b[39m\u001b[38;5;124mafter_cancel_\u001b[39m\u001b[38;5;132;01m{\u001b[39;00mevent_type\u001b[38;5;132;01m}\u001b[39;00m\u001b[38;5;124m'\u001b[39m)\n\u001b[1;32m    201\u001b[0m     \u001b[38;5;28mself\u001b[39m(\u001b[38;5;124mf\u001b[39m\u001b[38;5;124m'\u001b[39m\u001b[38;5;124mafter_\u001b[39m\u001b[38;5;132;01m{\u001b[39;00mevent_type\u001b[38;5;132;01m}\u001b[39;00m\u001b[38;5;124m'\u001b[39m);  final()\n",
            "File \u001b[0;32m/opt/conda/lib/python3.10/site-packages/fastai/learner.py:253\u001b[0m, in \u001b[0;36mLearner._do_fit\u001b[0;34m(self)\u001b[0m\n\u001b[1;32m    251\u001b[0m \u001b[38;5;28;01mfor\u001b[39;00m epoch \u001b[38;5;129;01min\u001b[39;00m \u001b[38;5;28mrange\u001b[39m(\u001b[38;5;28mself\u001b[39m\u001b[38;5;241m.\u001b[39mn_epoch):\n\u001b[1;32m    252\u001b[0m     \u001b[38;5;28mself\u001b[39m\u001b[38;5;241m.\u001b[39mepoch\u001b[38;5;241m=\u001b[39mepoch\n\u001b[0;32m--> 253\u001b[0m     \u001b[38;5;28;43mself\u001b[39;49m\u001b[38;5;241;43m.\u001b[39;49m\u001b[43m_with_events\u001b[49m\u001b[43m(\u001b[49m\u001b[38;5;28;43mself\u001b[39;49m\u001b[38;5;241;43m.\u001b[39;49m\u001b[43m_do_epoch\u001b[49m\u001b[43m,\u001b[49m\u001b[43m \u001b[49m\u001b[38;5;124;43m'\u001b[39;49m\u001b[38;5;124;43mepoch\u001b[39;49m\u001b[38;5;124;43m'\u001b[39;49m\u001b[43m,\u001b[49m\u001b[43m \u001b[49m\u001b[43mCancelEpochException\u001b[49m\u001b[43m)\u001b[49m\n",
            "File \u001b[0;32m/opt/conda/lib/python3.10/site-packages/fastai/learner.py:199\u001b[0m, in \u001b[0;36mLearner._with_events\u001b[0;34m(self, f, event_type, ex, final)\u001b[0m\n\u001b[1;32m    198\u001b[0m \u001b[38;5;28;01mdef\u001b[39;00m \u001b[38;5;21m_with_events\u001b[39m(\u001b[38;5;28mself\u001b[39m, f, event_type, ex, final\u001b[38;5;241m=\u001b[39mnoop):\n\u001b[0;32m--> 199\u001b[0m     \u001b[38;5;28;01mtry\u001b[39;00m: \u001b[38;5;28mself\u001b[39m(\u001b[38;5;124mf\u001b[39m\u001b[38;5;124m'\u001b[39m\u001b[38;5;124mbefore_\u001b[39m\u001b[38;5;132;01m{\u001b[39;00mevent_type\u001b[38;5;132;01m}\u001b[39;00m\u001b[38;5;124m'\u001b[39m);  \u001b[43mf\u001b[49m\u001b[43m(\u001b[49m\u001b[43m)\u001b[49m\n\u001b[1;32m    200\u001b[0m     \u001b[38;5;28;01mexcept\u001b[39;00m ex: \u001b[38;5;28mself\u001b[39m(\u001b[38;5;124mf\u001b[39m\u001b[38;5;124m'\u001b[39m\u001b[38;5;124mafter_cancel_\u001b[39m\u001b[38;5;132;01m{\u001b[39;00mevent_type\u001b[38;5;132;01m}\u001b[39;00m\u001b[38;5;124m'\u001b[39m)\n\u001b[1;32m    201\u001b[0m     \u001b[38;5;28mself\u001b[39m(\u001b[38;5;124mf\u001b[39m\u001b[38;5;124m'\u001b[39m\u001b[38;5;124mafter_\u001b[39m\u001b[38;5;132;01m{\u001b[39;00mevent_type\u001b[38;5;132;01m}\u001b[39;00m\u001b[38;5;124m'\u001b[39m);  final()\n",
            "File \u001b[0;32m/opt/conda/lib/python3.10/site-packages/fastai/learner.py:247\u001b[0m, in \u001b[0;36mLearner._do_epoch\u001b[0;34m(self)\u001b[0m\n\u001b[1;32m    246\u001b[0m \u001b[38;5;28;01mdef\u001b[39;00m \u001b[38;5;21m_do_epoch\u001b[39m(\u001b[38;5;28mself\u001b[39m):\n\u001b[0;32m--> 247\u001b[0m     \u001b[38;5;28;43mself\u001b[39;49m\u001b[38;5;241;43m.\u001b[39;49m\u001b[43m_do_epoch_train\u001b[49m\u001b[43m(\u001b[49m\u001b[43m)\u001b[49m\n\u001b[1;32m    248\u001b[0m     \u001b[38;5;28mself\u001b[39m\u001b[38;5;241m.\u001b[39m_do_epoch_validate()\n",
            "File \u001b[0;32m/opt/conda/lib/python3.10/site-packages/fastai/learner.py:239\u001b[0m, in \u001b[0;36mLearner._do_epoch_train\u001b[0;34m(self)\u001b[0m\n\u001b[1;32m    237\u001b[0m \u001b[38;5;28;01mdef\u001b[39;00m \u001b[38;5;21m_do_epoch_train\u001b[39m(\u001b[38;5;28mself\u001b[39m):\n\u001b[1;32m    238\u001b[0m     \u001b[38;5;28mself\u001b[39m\u001b[38;5;241m.\u001b[39mdl \u001b[38;5;241m=\u001b[39m \u001b[38;5;28mself\u001b[39m\u001b[38;5;241m.\u001b[39mdls\u001b[38;5;241m.\u001b[39mtrain\n\u001b[0;32m--> 239\u001b[0m     \u001b[38;5;28;43mself\u001b[39;49m\u001b[38;5;241;43m.\u001b[39;49m\u001b[43m_with_events\u001b[49m\u001b[43m(\u001b[49m\u001b[38;5;28;43mself\u001b[39;49m\u001b[38;5;241;43m.\u001b[39;49m\u001b[43mall_batches\u001b[49m\u001b[43m,\u001b[49m\u001b[43m \u001b[49m\u001b[38;5;124;43m'\u001b[39;49m\u001b[38;5;124;43mtrain\u001b[39;49m\u001b[38;5;124;43m'\u001b[39;49m\u001b[43m,\u001b[49m\u001b[43m \u001b[49m\u001b[43mCancelTrainException\u001b[49m\u001b[43m)\u001b[49m\n",
            "File \u001b[0;32m/opt/conda/lib/python3.10/site-packages/fastai/learner.py:199\u001b[0m, in \u001b[0;36mLearner._with_events\u001b[0;34m(self, f, event_type, ex, final)\u001b[0m\n\u001b[1;32m    198\u001b[0m \u001b[38;5;28;01mdef\u001b[39;00m \u001b[38;5;21m_with_events\u001b[39m(\u001b[38;5;28mself\u001b[39m, f, event_type, ex, final\u001b[38;5;241m=\u001b[39mnoop):\n\u001b[0;32m--> 199\u001b[0m     \u001b[38;5;28;01mtry\u001b[39;00m: \u001b[38;5;28mself\u001b[39m(\u001b[38;5;124mf\u001b[39m\u001b[38;5;124m'\u001b[39m\u001b[38;5;124mbefore_\u001b[39m\u001b[38;5;132;01m{\u001b[39;00mevent_type\u001b[38;5;132;01m}\u001b[39;00m\u001b[38;5;124m'\u001b[39m);  \u001b[43mf\u001b[49m\u001b[43m(\u001b[49m\u001b[43m)\u001b[49m\n\u001b[1;32m    200\u001b[0m     \u001b[38;5;28;01mexcept\u001b[39;00m ex: \u001b[38;5;28mself\u001b[39m(\u001b[38;5;124mf\u001b[39m\u001b[38;5;124m'\u001b[39m\u001b[38;5;124mafter_cancel_\u001b[39m\u001b[38;5;132;01m{\u001b[39;00mevent_type\u001b[38;5;132;01m}\u001b[39;00m\u001b[38;5;124m'\u001b[39m)\n\u001b[1;32m    201\u001b[0m     \u001b[38;5;28mself\u001b[39m(\u001b[38;5;124mf\u001b[39m\u001b[38;5;124m'\u001b[39m\u001b[38;5;124mafter_\u001b[39m\u001b[38;5;132;01m{\u001b[39;00mevent_type\u001b[38;5;132;01m}\u001b[39;00m\u001b[38;5;124m'\u001b[39m);  final()\n",
            "File \u001b[0;32m/opt/conda/lib/python3.10/site-packages/fastai/learner.py:205\u001b[0m, in \u001b[0;36mLearner.all_batches\u001b[0;34m(self)\u001b[0m\n\u001b[1;32m    203\u001b[0m \u001b[38;5;28;01mdef\u001b[39;00m \u001b[38;5;21mall_batches\u001b[39m(\u001b[38;5;28mself\u001b[39m):\n\u001b[1;32m    204\u001b[0m     \u001b[38;5;28mself\u001b[39m\u001b[38;5;241m.\u001b[39mn_iter \u001b[38;5;241m=\u001b[39m \u001b[38;5;28mlen\u001b[39m(\u001b[38;5;28mself\u001b[39m\u001b[38;5;241m.\u001b[39mdl)\n\u001b[0;32m--> 205\u001b[0m     \u001b[38;5;28;01mfor\u001b[39;00m o \u001b[38;5;129;01min\u001b[39;00m \u001b[38;5;28menumerate\u001b[39m(\u001b[38;5;28mself\u001b[39m\u001b[38;5;241m.\u001b[39mdl): \u001b[38;5;28;43mself\u001b[39;49m\u001b[38;5;241;43m.\u001b[39;49m\u001b[43mone_batch\u001b[49m\u001b[43m(\u001b[49m\u001b[38;5;241;43m*\u001b[39;49m\u001b[43mo\u001b[49m\u001b[43m)\u001b[49m\n",
            "File \u001b[0;32m/opt/conda/lib/python3.10/site-packages/fastai/learner.py:234\u001b[0m, in \u001b[0;36mLearner.one_batch\u001b[0;34m(self, i, b)\u001b[0m\n\u001b[1;32m    232\u001b[0m \u001b[38;5;28mself\u001b[39m\u001b[38;5;241m.\u001b[39miter \u001b[38;5;241m=\u001b[39m i\n\u001b[1;32m    233\u001b[0m b \u001b[38;5;241m=\u001b[39m \u001b[38;5;28mself\u001b[39m\u001b[38;5;241m.\u001b[39m_set_device(b)\n\u001b[0;32m--> 234\u001b[0m \u001b[38;5;28;43mself\u001b[39;49m\u001b[38;5;241;43m.\u001b[39;49m\u001b[43m_split\u001b[49m\u001b[43m(\u001b[49m\u001b[43mb\u001b[49m\u001b[43m)\u001b[49m\n\u001b[1;32m    235\u001b[0m \u001b[38;5;28mself\u001b[39m\u001b[38;5;241m.\u001b[39m_with_events(\u001b[38;5;28mself\u001b[39m\u001b[38;5;241m.\u001b[39m_do_one_batch, \u001b[38;5;124m'\u001b[39m\u001b[38;5;124mbatch\u001b[39m\u001b[38;5;124m'\u001b[39m, CancelBatchException)\n",
            "File \u001b[0;32m/opt/conda/lib/python3.10/site-packages/fastai/learner.py:195\u001b[0m, in \u001b[0;36mLearner._split\u001b[0;34m(self, b)\u001b[0m\n\u001b[1;32m    194\u001b[0m \u001b[38;5;28;01mdef\u001b[39;00m \u001b[38;5;21m_split\u001b[39m(\u001b[38;5;28mself\u001b[39m, b):\n\u001b[0;32m--> 195\u001b[0m     i \u001b[38;5;241m=\u001b[39m \u001b[38;5;28;43mgetattr\u001b[39;49m\u001b[43m(\u001b[49m\u001b[38;5;28;43mself\u001b[39;49m\u001b[38;5;241;43m.\u001b[39;49m\u001b[43mdls\u001b[49m\u001b[43m,\u001b[49m\u001b[43m \u001b[49m\u001b[38;5;124;43m'\u001b[39;49m\u001b[38;5;124;43mn_inp\u001b[39;49m\u001b[38;5;124;43m'\u001b[39;49m\u001b[43m,\u001b[49m\u001b[43m \u001b[49m\u001b[38;5;241;43m1\u001b[39;49m\u001b[43m \u001b[49m\u001b[38;5;28;43;01mif\u001b[39;49;00m\u001b[43m \u001b[49m\u001b[38;5;28;43mlen\u001b[39;49m\u001b[43m(\u001b[49m\u001b[43mb\u001b[49m\u001b[43m)\u001b[49m\u001b[38;5;241;43m==\u001b[39;49m\u001b[38;5;241;43m1\u001b[39;49m\u001b[43m \u001b[49m\u001b[38;5;28;43;01melse\u001b[39;49;00m\u001b[43m \u001b[49m\u001b[38;5;28;43mlen\u001b[39;49m\u001b[43m(\u001b[49m\u001b[43mb\u001b[49m\u001b[43m)\u001b[49m\u001b[38;5;241;43m-\u001b[39;49m\u001b[38;5;241;43m1\u001b[39;49m\u001b[43m)\u001b[49m\n\u001b[1;32m    196\u001b[0m     \u001b[38;5;28mself\u001b[39m\u001b[38;5;241m.\u001b[39mxb,\u001b[38;5;28mself\u001b[39m\u001b[38;5;241m.\u001b[39myb \u001b[38;5;241m=\u001b[39m b[:i],b[i:]\n",
            "File \u001b[0;32m/opt/conda/lib/python3.10/site-packages/fastcore/basics.py:496\u001b[0m, in \u001b[0;36mGetAttr.__getattr__\u001b[0;34m(self, k)\u001b[0m\n\u001b[1;32m    494\u001b[0m \u001b[38;5;28;01mif\u001b[39;00m \u001b[38;5;28mself\u001b[39m\u001b[38;5;241m.\u001b[39m_component_attr_filter(k):\n\u001b[1;32m    495\u001b[0m     attr \u001b[38;5;241m=\u001b[39m \u001b[38;5;28mgetattr\u001b[39m(\u001b[38;5;28mself\u001b[39m,\u001b[38;5;28mself\u001b[39m\u001b[38;5;241m.\u001b[39m_default,\u001b[38;5;28;01mNone\u001b[39;00m)\n\u001b[0;32m--> 496\u001b[0m     \u001b[38;5;28;01mif\u001b[39;00m attr \u001b[38;5;129;01mis\u001b[39;00m \u001b[38;5;129;01mnot\u001b[39;00m \u001b[38;5;28;01mNone\u001b[39;00m: \u001b[38;5;28;01mreturn\u001b[39;00m \u001b[38;5;28;43mgetattr\u001b[39;49m\u001b[43m(\u001b[49m\u001b[43mattr\u001b[49m\u001b[43m,\u001b[49m\u001b[43mk\u001b[49m\u001b[43m)\u001b[49m\n\u001b[1;32m    497\u001b[0m \u001b[38;5;28;01mraise\u001b[39;00m \u001b[38;5;167;01mAttributeError\u001b[39;00m(k)\n",
            "File \u001b[0;32m/opt/conda/lib/python3.10/site-packages/fastai/data/core.py:173\u001b[0m, in \u001b[0;36mTfmdDL.n_inp\u001b[0;34m(self)\u001b[0m\n\u001b[1;32m    170\u001b[0m \u001b[38;5;129m@property\u001b[39m\n\u001b[1;32m    171\u001b[0m \u001b[38;5;28;01mdef\u001b[39;00m \u001b[38;5;21mn_inp\u001b[39m(\u001b[38;5;28mself\u001b[39m) \u001b[38;5;241m-\u001b[39m\u001b[38;5;241m>\u001b[39m \u001b[38;5;28mint\u001b[39m:\n\u001b[1;32m    172\u001b[0m     \u001b[38;5;124m\"\u001b[39m\u001b[38;5;124mNumber of elements in `Datasets` or `TfmdDL` tuple to be considered part of input.\u001b[39m\u001b[38;5;124m\"\u001b[39m\n\u001b[0;32m--> 173\u001b[0m     \u001b[38;5;28;01mif\u001b[39;00m \u001b[38;5;28;43mhasattr\u001b[39;49m\u001b[43m(\u001b[49m\u001b[38;5;28;43mself\u001b[39;49m\u001b[38;5;241;43m.\u001b[39;49m\u001b[43mdataset\u001b[49m\u001b[43m,\u001b[49m\u001b[43m \u001b[49m\u001b[38;5;124;43m'\u001b[39;49m\u001b[38;5;124;43mn_inp\u001b[39;49m\u001b[38;5;124;43m'\u001b[39;49m\u001b[43m)\u001b[49m: \u001b[38;5;28;01mreturn\u001b[39;00m \u001b[38;5;28mself\u001b[39m\u001b[38;5;241m.\u001b[39mdataset\u001b[38;5;241m.\u001b[39mn_inp\n\u001b[1;32m    174\u001b[0m     \u001b[38;5;28;01mif\u001b[39;00m \u001b[38;5;129;01mnot\u001b[39;00m \u001b[38;5;28mhasattr\u001b[39m(\u001b[38;5;28mself\u001b[39m, \u001b[38;5;124m'\u001b[39m\u001b[38;5;124m_n_inp\u001b[39m\u001b[38;5;124m'\u001b[39m): \u001b[38;5;28mself\u001b[39m\u001b[38;5;241m.\u001b[39m_one_pass()\n\u001b[1;32m    175\u001b[0m     \u001b[38;5;28;01mreturn\u001b[39;00m \u001b[38;5;28mself\u001b[39m\u001b[38;5;241m.\u001b[39m_n_inp\n",
            "File \u001b[0;32m/opt/conda/lib/python3.10/site-packages/fastcore/basics.py:496\u001b[0m, in \u001b[0;36mGetAttr.__getattr__\u001b[0;34m(self, k)\u001b[0m\n\u001b[1;32m    494\u001b[0m \u001b[38;5;28;01mif\u001b[39;00m \u001b[38;5;28mself\u001b[39m\u001b[38;5;241m.\u001b[39m_component_attr_filter(k):\n\u001b[1;32m    495\u001b[0m     attr \u001b[38;5;241m=\u001b[39m \u001b[38;5;28mgetattr\u001b[39m(\u001b[38;5;28mself\u001b[39m,\u001b[38;5;28mself\u001b[39m\u001b[38;5;241m.\u001b[39m_default,\u001b[38;5;28;01mNone\u001b[39;00m)\n\u001b[0;32m--> 496\u001b[0m     \u001b[38;5;28;01mif\u001b[39;00m attr \u001b[38;5;129;01mis\u001b[39;00m \u001b[38;5;129;01mnot\u001b[39;00m \u001b[38;5;28;01mNone\u001b[39;00m: \u001b[38;5;28;01mreturn\u001b[39;00m \u001b[38;5;28;43mgetattr\u001b[39;49m\u001b[43m(\u001b[49m\u001b[43mattr\u001b[49m\u001b[43m,\u001b[49m\u001b[43mk\u001b[49m\u001b[43m)\u001b[49m\n\u001b[1;32m    497\u001b[0m \u001b[38;5;28;01mraise\u001b[39;00m \u001b[38;5;167;01mAttributeError\u001b[39;00m(k)\n",
            "File \u001b[0;32m/opt/conda/lib/python3.10/site-packages/fastcore/transform.py:212\u001b[0m, in \u001b[0;36mPipeline.__getattr__\u001b[0;34m(self, k)\u001b[0m\n\u001b[0;32m--> 212\u001b[0m \u001b[38;5;28;01mdef\u001b[39;00m \u001b[38;5;21m__getattr__\u001b[39m(\u001b[38;5;28mself\u001b[39m,k): \u001b[38;5;28;01mreturn\u001b[39;00m \u001b[43mgather_attrs\u001b[49m\u001b[43m(\u001b[49m\u001b[38;5;28;43mself\u001b[39;49m\u001b[43m,\u001b[49m\u001b[43m \u001b[49m\u001b[43mk\u001b[49m\u001b[43m,\u001b[49m\u001b[43m \u001b[49m\u001b[38;5;124;43m'\u001b[39;49m\u001b[38;5;124;43mfs\u001b[39;49m\u001b[38;5;124;43m'\u001b[39;49m\u001b[43m)\u001b[49m\n",
            "File \u001b[0;32m/opt/conda/lib/python3.10/site-packages/fastcore/transform.py:172\u001b[0m, in \u001b[0;36mgather_attrs\u001b[0;34m(o, k, nm)\u001b[0m\n\u001b[1;32m    170\u001b[0m \u001b[38;5;28;01mif\u001b[39;00m k\u001b[38;5;241m.\u001b[39mstartswith(\u001b[38;5;124m'\u001b[39m\u001b[38;5;124m_\u001b[39m\u001b[38;5;124m'\u001b[39m) \u001b[38;5;129;01mor\u001b[39;00m k\u001b[38;5;241m==\u001b[39mnm: \u001b[38;5;28;01mraise\u001b[39;00m \u001b[38;5;167;01mAttributeError\u001b[39;00m(k)\n\u001b[1;32m    171\u001b[0m att \u001b[38;5;241m=\u001b[39m \u001b[38;5;28mgetattr\u001b[39m(o,nm)\n\u001b[0;32m--> 172\u001b[0m res \u001b[38;5;241m=\u001b[39m [t \u001b[38;5;28;01mfor\u001b[39;00m t \u001b[38;5;129;01min\u001b[39;00m att\u001b[38;5;241m.\u001b[39mattrgot(k) \u001b[38;5;28;01mif\u001b[39;00m t \u001b[38;5;129;01mis\u001b[39;00m \u001b[38;5;129;01mnot\u001b[39;00m \u001b[38;5;28;01mNone\u001b[39;00m]\n\u001b[1;32m    173\u001b[0m \u001b[38;5;28;01mif\u001b[39;00m \u001b[38;5;129;01mnot\u001b[39;00m res: \u001b[38;5;28;01mraise\u001b[39;00m \u001b[38;5;167;01mAttributeError\u001b[39;00m(k)\n\u001b[1;32m    174\u001b[0m \u001b[38;5;28;01mreturn\u001b[39;00m res[\u001b[38;5;241m0\u001b[39m] \u001b[38;5;28;01mif\u001b[39;00m \u001b[38;5;28mlen\u001b[39m(res)\u001b[38;5;241m==\u001b[39m\u001b[38;5;241m1\u001b[39m \u001b[38;5;28;01melse\u001b[39;00m L(res)\n",
            "File \u001b[0;32m/opt/conda/lib/python3.10/site-packages/fastcore/transform.py:172\u001b[0m, in \u001b[0;36m<listcomp>\u001b[0;34m(.0)\u001b[0m\n\u001b[1;32m    170\u001b[0m \u001b[38;5;28;01mif\u001b[39;00m k\u001b[38;5;241m.\u001b[39mstartswith(\u001b[38;5;124m'\u001b[39m\u001b[38;5;124m_\u001b[39m\u001b[38;5;124m'\u001b[39m) \u001b[38;5;129;01mor\u001b[39;00m k\u001b[38;5;241m==\u001b[39mnm: \u001b[38;5;28;01mraise\u001b[39;00m \u001b[38;5;167;01mAttributeError\u001b[39;00m(k)\n\u001b[1;32m    171\u001b[0m att \u001b[38;5;241m=\u001b[39m \u001b[38;5;28mgetattr\u001b[39m(o,nm)\n\u001b[0;32m--> 172\u001b[0m res \u001b[38;5;241m=\u001b[39m [t \u001b[38;5;28;01mfor\u001b[39;00m t \u001b[38;5;129;01min\u001b[39;00m att\u001b[38;5;241m.\u001b[39mattrgot(k) \u001b[38;5;28;01mif\u001b[39;00m t \u001b[38;5;129;01mis\u001b[39;00m \u001b[38;5;129;01mnot\u001b[39;00m \u001b[38;5;28;01mNone\u001b[39;00m]\n\u001b[1;32m    173\u001b[0m \u001b[38;5;28;01mif\u001b[39;00m \u001b[38;5;129;01mnot\u001b[39;00m res: \u001b[38;5;28;01mraise\u001b[39;00m \u001b[38;5;167;01mAttributeError\u001b[39;00m(k)\n\u001b[1;32m    174\u001b[0m \u001b[38;5;28;01mreturn\u001b[39;00m res[\u001b[38;5;241m0\u001b[39m] \u001b[38;5;28;01mif\u001b[39;00m \u001b[38;5;28mlen\u001b[39m(res)\u001b[38;5;241m==\u001b[39m\u001b[38;5;241m1\u001b[39m \u001b[38;5;28;01melse\u001b[39;00m L(res)\n",
            "\u001b[0;31mKeyboardInterrupt\u001b[0m: "
          ],
          "ename": "KeyboardInterrupt",
          "evalue": "",
          "output_type": "error"
        }
      ]
    },
    {
      "cell_type": "code",
      "source": [
        "learn.show_results()"
      ],
      "metadata": {
        "execution": {
          "iopub.status.busy": "2024-03-27T18:59:06.015645Z",
          "iopub.status.idle": "2024-03-27T18:59:06.015979Z",
          "shell.execute_reply.started": "2024-03-27T18:59:06.015805Z",
          "shell.execute_reply": "2024-03-27T18:59:06.015818Z"
        },
        "trusted": true,
        "id": "YAgukFuLSbOl"
      },
      "execution_count": null,
      "outputs": []
    },
    {
      "cell_type": "code",
      "source": [
        "learn.lr_find(suggest_funcs=(slide,valley))"
      ],
      "metadata": {
        "execution": {
          "iopub.status.busy": "2024-03-27T18:59:06.017364Z",
          "iopub.status.idle": "2024-03-27T18:59:06.017746Z",
          "shell.execute_reply.started": "2024-03-27T18:59:06.017565Z",
          "shell.execute_reply": "2024-03-27T18:59:06.01758Z"
        },
        "trusted": true,
        "id": "PSW7KmQlSbOm"
      },
      "execution_count": null,
      "outputs": []
    },
    {
      "cell_type": "code",
      "source": [
        "dl = learn.dls.test_dl(test_df)"
      ],
      "metadata": {
        "id": "zxoXPUfVhgB8",
        "execution": {
          "iopub.status.busy": "2024-03-27T18:59:06.019086Z",
          "iopub.status.idle": "2024-03-27T18:59:06.019413Z",
          "shell.execute_reply.started": "2024-03-27T18:59:06.019254Z",
          "shell.execute_reply": "2024-03-27T18:59:06.019268Z"
        },
        "trusted": true
      },
      "execution_count": null,
      "outputs": []
    },
    {
      "cell_type": "code",
      "source": [
        "nn_preds = learn.get_preds(dl=dl)\n",
        "nn_preds"
      ],
      "metadata": {
        "id": "0Rk3-KECy9a4",
        "execution": {
          "iopub.status.busy": "2024-03-27T18:59:06.021105Z",
          "iopub.status.idle": "2024-03-27T18:59:06.021435Z",
          "shell.execute_reply.started": "2024-03-27T18:59:06.021277Z",
          "shell.execute_reply": "2024-03-27T18:59:06.021291Z"
        },
        "trusted": true
      },
      "execution_count": null,
      "outputs": []
    },
    {
      "cell_type": "code",
      "source": [
        "nn_preds_x = learn.get_preds()[0]\n",
        "nn_preds_x"
      ],
      "metadata": {
        "execution": {
          "iopub.status.busy": "2024-03-27T18:59:06.022496Z",
          "iopub.status.idle": "2024-03-27T18:59:06.022839Z",
          "shell.execute_reply.started": "2024-03-27T18:59:06.022683Z",
          "shell.execute_reply": "2024-03-27T18:59:06.022697Z"
        },
        "trusted": true,
        "id": "w7xLT6C_SbOo"
      },
      "execution_count": null,
      "outputs": []
    },
    {
      "cell_type": "code",
      "source": [
        "nn_preds_x.shape"
      ],
      "metadata": {
        "execution": {
          "iopub.status.busy": "2024-03-27T18:59:06.024033Z",
          "iopub.status.idle": "2024-03-27T18:59:06.024354Z",
          "shell.execute_reply.started": "2024-03-27T18:59:06.024199Z",
          "shell.execute_reply": "2024-03-27T18:59:06.024212Z"
        },
        "trusted": true,
        "id": "xV2eJvSrSbOp"
      },
      "execution_count": null,
      "outputs": []
    },
    {
      "cell_type": "code",
      "source": [
        "target_preds = preds[0]"
      ],
      "metadata": {
        "id": "C6GACFBw2Xbi",
        "execution": {
          "iopub.status.busy": "2024-03-27T18:59:06.025461Z",
          "iopub.status.idle": "2024-03-27T18:59:06.025811Z",
          "shell.execute_reply.started": "2024-03-27T18:59:06.025647Z",
          "shell.execute_reply": "2024-03-27T18:59:06.025661Z"
        },
        "trusted": true
      },
      "execution_count": null,
      "outputs": []
    },
    {
      "cell_type": "code",
      "source": [
        "target_preds.shape"
      ],
      "metadata": {
        "id": "IKzskCN72XYG",
        "execution": {
          "iopub.status.busy": "2024-03-27T18:59:06.027162Z",
          "iopub.status.idle": "2024-03-27T18:59:06.027479Z",
          "shell.execute_reply.started": "2024-03-27T18:59:06.027325Z",
          "shell.execute_reply": "2024-03-27T18:59:06.027339Z"
        },
        "trusted": true
      },
      "execution_count": null,
      "outputs": []
    },
    {
      "cell_type": "code",
      "source": [
        "#targets =['Pastry', 'Z_Scratch', 'K_Scatch', 'Stains', 'Dirtiness', 'Bumps', 'Other_Faults']"
      ],
      "metadata": {
        "id": "rcVe7qJR8vAm",
        "execution": {
          "iopub.status.busy": "2024-03-27T18:59:06.028786Z",
          "iopub.status.idle": "2024-03-27T18:59:06.029103Z",
          "shell.execute_reply.started": "2024-03-27T18:59:06.028948Z",
          "shell.execute_reply": "2024-03-27T18:59:06.028962Z"
        },
        "trusted": true
      },
      "execution_count": null,
      "outputs": []
    },
    {
      "cell_type": "code",
      "source": [
        "#test_df[targets] = target_preds\n",
        "\n",
        "#test_df.to_csv('submission.csv', columns=['id','Pastry', 'Z_Scratch', 'K_Scatch', 'Stains', 'Dirtiness', 'Bumps', 'Other_Faults'], index=False)\n",
        "\n",
        "#sub = pd.read_csv('submission.csv')\n",
        "#sub.head()"
      ],
      "metadata": {
        "id": "xc3wGzi_2XVD",
        "execution": {
          "iopub.status.busy": "2024-03-27T18:59:06.030287Z",
          "iopub.status.idle": "2024-03-27T18:59:06.030604Z",
          "shell.execute_reply.started": "2024-03-27T18:59:06.030428Z",
          "shell.execute_reply": "2024-03-27T18:59:06.03044Z"
        },
        "trusted": true
      },
      "execution_count": null,
      "outputs": []
    },
    {
      "cell_type": "code",
      "source": [
        "#test_df.to_csv('submission.csv', columns=targets, index=False)"
      ],
      "metadata": {
        "id": "G0vXkk589Fpm",
        "execution": {
          "iopub.status.busy": "2024-03-27T18:59:06.032262Z",
          "iopub.status.idle": "2024-03-27T18:59:06.032584Z",
          "shell.execute_reply.started": "2024-03-27T18:59:06.032411Z",
          "shell.execute_reply": "2024-03-27T18:59:06.032424Z"
        },
        "trusted": true
      },
      "execution_count": null,
      "outputs": []
    },
    {
      "cell_type": "code",
      "source": [
        "#sub = pd.read_csv('submission.csv')\n",
        "#sub.head()"
      ],
      "metadata": {
        "id": "ERohN5e09IG2"
      },
      "execution_count": null,
      "outputs": []
    },
    {
      "cell_type": "code",
      "source": [
        "#!kaggle competitions submit -c playground-series-s4e3 -f submission.csv -m \"fastai baseline, adding lr fron lr finder\""
      ],
      "metadata": {
        "id": "FxzgsBQ69dQs"
      },
      "execution_count": null,
      "outputs": []
    },
    {
      "cell_type": "markdown",
      "source": [
        "Ensembling\n",
        "\n",
        "Neural Network Ensemble"
      ],
      "metadata": {
        "id": "nsQFB_tsRJkG"
      }
    },
    {
      "cell_type": "code",
      "source": [
        "learn.lr_find(suggest_funcs=(slide,valley))"
      ],
      "metadata": {
        "id": "il-F9qwWJ1ob"
      },
      "execution_count": null,
      "outputs": []
    },
    {
      "cell_type": "code",
      "source": [
        "dl = learn.dls.test_dl(test_df)"
      ],
      "metadata": {
        "id": "mSBeoFkWKRc2",
        "execution": {
          "iopub.status.busy": "2024-03-15T10:12:57.513694Z",
          "iopub.execute_input": "2024-03-15T10:12:57.514087Z",
          "iopub.status.idle": "2024-03-15T10:12:57.537604Z",
          "shell.execute_reply.started": "2024-03-15T10:12:57.514057Z",
          "shell.execute_reply": "2024-03-15T10:12:57.536584Z"
        },
        "trusted": true
      },
      "execution_count": null,
      "outputs": []
    },
    {
      "cell_type": "code",
      "source": [
        "def ensemble():\n",
        "    learn = tabular_learner(dls, metrics=RocAucMulti())\n",
        "    with learn.no_bar(),learn.no_logging(): learn.fit(12, 0.014)\n",
        "    return learn.get_preds(dl=dl)[0]"
      ],
      "metadata": {
        "id": "q0yVYx1j9dNC",
        "execution": {
          "iopub.status.busy": "2024-03-15T10:12:58.028726Z",
          "iopub.execute_input": "2024-03-15T10:12:58.029621Z",
          "iopub.status.idle": "2024-03-15T10:12:58.034465Z",
          "shell.execute_reply.started": "2024-03-15T10:12:58.02959Z",
          "shell.execute_reply": "2024-03-15T10:12:58.033368Z"
        },
        "trusted": true
      },
      "execution_count": null,
      "outputs": []
    },
    {
      "cell_type": "code",
      "source": [
        "learns = [ensemble() for _ in range(5)]"
      ],
      "metadata": {
        "id": "nNuFSIBj9dKN",
        "execution": {
          "iopub.status.busy": "2024-03-15T10:12:59.104608Z",
          "iopub.execute_input": "2024-03-15T10:12:59.105021Z",
          "iopub.status.idle": "2024-03-15T10:15:25.510262Z",
          "shell.execute_reply.started": "2024-03-15T10:12:59.104989Z",
          "shell.execute_reply": "2024-03-15T10:15:25.50929Z"
        },
        "trusted": true
      },
      "execution_count": null,
      "outputs": []
    },
    {
      "cell_type": "code",
      "source": [
        "ens_preds = torch.stack(learns).mean(0)"
      ],
      "metadata": {
        "id": "PRnGbn9lRUo3",
        "execution": {
          "iopub.status.busy": "2024-03-15T10:15:25.51234Z",
          "iopub.execute_input": "2024-03-15T10:15:25.512698Z",
          "iopub.status.idle": "2024-03-15T10:15:25.521695Z",
          "shell.execute_reply.started": "2024-03-15T10:15:25.512656Z",
          "shell.execute_reply": "2024-03-15T10:15:25.520783Z"
        },
        "trusted": true
      },
      "execution_count": null,
      "outputs": []
    },
    {
      "cell_type": "code",
      "source": [
        "#targets =['Pastry', 'Z_Scratch', 'K_Scatch', 'Stains', 'Dirtiness', 'Bumps', 'Other_Faults']\n",
        "#test_df[targets] = ens_preds\n",
        "\n",
        "#test_df.to_csv('submission.csv', columns=['id','Pastry', 'Z_Scratch', 'K_Scatch', 'Stains', 'Dirtiness', 'Bumps', 'Other_Faults'], index=False)\n",
        "\n",
        "ens_sub = pd.read_csv('submission.csv')\n",
        "ens_sub.head()"
      ],
      "metadata": {
        "id": "38PaodywTPL-",
        "execution": {
          "iopub.status.busy": "2024-03-15T10:15:25.523333Z",
          "iopub.execute_input": "2024-03-15T10:15:25.523685Z",
          "iopub.status.idle": "2024-03-15T10:15:25.705335Z",
          "shell.execute_reply.started": "2024-03-15T10:15:25.523654Z",
          "shell.execute_reply": "2024-03-15T10:15:25.704158Z"
        },
        "trusted": true
      },
      "execution_count": null,
      "outputs": []
    },
    {
      "cell_type": "code",
      "source": [
        "!ls"
      ],
      "metadata": {
        "execution": {
          "iopub.status.busy": "2024-03-15T10:15:25.707309Z",
          "iopub.execute_input": "2024-03-15T10:15:25.707696Z",
          "iopub.status.idle": "2024-03-15T10:15:26.708282Z",
          "shell.execute_reply.started": "2024-03-15T10:15:25.707665Z",
          "shell.execute_reply": "2024-03-15T10:15:26.707055Z"
        },
        "trusted": true,
        "id": "YeW5qn5mSbPC"
      },
      "execution_count": null,
      "outputs": []
    },
    {
      "cell_type": "code",
      "source": [
        "!kaggle competitions submit -c playground-series-s4e3 -f submission.csv -m \"fastai baseline, adding neural network ensemble\""
      ],
      "metadata": {
        "id": "FOmvX0RpTs7K"
      },
      "execution_count": null,
      "outputs": []
    },
    {
      "cell_type": "code",
      "source": [
        "sub_df = pd.read_csv(path/'sample_submission.csv')"
      ],
      "metadata": {
        "id": "-phXR12Wy9Xa"
      },
      "execution_count": null,
      "outputs": []
    },
    {
      "cell_type": "markdown",
      "source": [
        "Random Forests"
      ],
      "metadata": {
        "id": "heGBBIbhSbPE"
      }
    },
    {
      "cell_type": "code",
      "source": [
        "from fastai.tabular.all import *\n",
        "import pandas as pd\n",
        "import matplotlib.pyplot as plt\n",
        "import seaborn as sns\n",
        "import numpy as np\n",
        "\n",
        "#hide\n",
        "#! [ -e /content ]\n",
        "\n",
        "#hide\n",
        "#This imports and sets up everything you will need for this notebook\n",
        "#\n",
        "#!pip install -Uqq fastbook\n",
        "#import fastbook\n",
        "#fastbook.setup_book()\n",
        "\n",
        "#from fastbook import *\n",
        "from fastai.tabular.all import *\n",
        "\n",
        "from fastai.imports import *\n",
        "np.set_printoptions(linewidth=130)\n",
        "\n",
        "# for working with paths in Python, I recommend using `pathlib.Path`\n",
        "from pathlib import Path\n",
        "import os\n",
        "import seaborn as sns\n",
        "import numpy as np\n",
        "from numpy import random\n",
        "\n",
        "from sklearn.model_selection import train_test_split\n",
        "from sklearn.metrics import mean_absolute_error\n",
        "\n",
        "from ipywidgets import interact\n",
        "\n",
        "\n",
        "\n",
        "matplotlib.rc('image', cmap='Greys')\n",
        "\n",
        "random.seed(42)\n",
        "\n",
        "# This Python 3 environment comes with many helpful analytics libraries installed\n",
        "# It is defined by the kaggle/python Docker image: https://github.com/kaggle/docker-python\n",
        "# For example, here's several helpful packages to load\n",
        "\n",
        "import numpy as np # linear algebra\n",
        "import pandas as pd # data processing, CSV file I/O (e.g. pd.read_csv)\n",
        "\n",
        "# Input data files are available in the read-only \"../input/\" directory\n",
        "# For example, running this (by clicking run or pressing Shift+Enter) will list all files under the input directory\n",
        "\n",
        "import os\n",
        "for dirname, _, filenames in os.walk('/kaggle/input'):\n",
        "    for filename in filenames:\n",
        "        print(os.path.join(dirname, filename))\n",
        "\n",
        "# You can write up to 20GB to the current directory (/kaggle/working/) that gets preserved as output when you create a version using \"Save & Run All\"\n",
        "# You can also write temporary files to /kaggle/temp/, but they won't be saved outside of the current session\n",
        "\n",
        "path = Path('/kaggle/input/playground-series-s4e3')\n",
        "path\n",
        "\n",
        "train_df = pd.read_csv(path/'train.csv')\n",
        "test_df = pd.read_csv(path/'test.csv')\n",
        "sub_df = pd.read_csv(path/'sample_submission.csv')\n",
        "\n",
        "y_names = ['Pastry', 'Z_Scratch', 'K_Scatch', 'Stains', 'Dirtiness', 'Bumps', 'Other_Faults']\n",
        "\n",
        "cont_names, cat_names = cont_cat_split(train_df,dep_var=['Pastry', 'Z_Scratch', 'K_Scatch', 'Stains', 'Dirtiness', 'Bumps', 'Other_Faults'])\n",
        "\n",
        "splits = RandomSplitter(valid_pct=0.2)(range_of(train_df))\n",
        "\n",
        "to = TabularPandas(train_df, procs=[Categorify, FillMissing,Normalize],\n",
        "                   cat_names = cat_names,\n",
        "                   cont_names = cont_names,\n",
        "                   y_names= y_names,\n",
        "                  # y_block = CategoryBlock,\n",
        "                   splits=splits)\n",
        "\n",
        "#X_train, y_train = to.train.xs, to.train.ys.values.ravel()\n",
        "#X_test, y_test = to.valid.xs, to.valid.ys.values.ravel()\n",
        "\n",
        "X_train, y_train = to.train.xs, to.train.ys.values\n",
        "X_test, y_test = to.valid.xs, to.valid.ys.values\n",
        "\n",
        "from sklearn.ensemble import RandomForestClassifier\n",
        "from sklearn.metrics import roc_auc_score\n",
        "\n",
        "rf = RandomForestClassifier(100, min_samples_leaf=5)\n",
        "rf.fit(X_train, y_train);\n",
        "#mean_absolute_error(y_test, rf.predict(X_test))\n",
        "\n",
        "roc_auc_score(y_test, rf.predict(X_test))"
      ],
      "metadata": {
        "execution": {
          "iopub.status.busy": "2024-03-27T10:15:44.866273Z",
          "iopub.execute_input": "2024-03-27T10:15:44.867452Z",
          "iopub.status.idle": "2024-03-27T10:16:06.494514Z",
          "shell.execute_reply.started": "2024-03-27T10:15:44.867399Z",
          "shell.execute_reply": "2024-03-27T10:16:06.492856Z"
        },
        "trusted": true,
        "id": "gQAcOuGhSbPF"
      },
      "execution_count": null,
      "outputs": []
    },
    {
      "cell_type": "code",
      "source": [
        "X_train, y_train = to.train.xs, to.train.ys.values\n",
        "X_test, y_test = to.valid.xs, to.valid.ys.values\n",
        "\n",
        "from sklearn.ensemble import RandomForestClassifier\n",
        "from sklearn.metrics import roc_auc_score\n",
        "\n",
        "rf = RandomForestClassifier(100, min_samples_leaf=5)\n",
        "rf.fit(X_train, y_train);\n",
        "#mean_absolute_error(y_test, rf.predict(X_test))\n",
        "\n",
        "roc_auc_score(y_test, rf.predict(X_test))"
      ],
      "metadata": {
        "trusted": true,
        "id": "KSoUSsfpSbPH"
      },
      "execution_count": null,
      "outputs": []
    },
    {
      "cell_type": "code",
      "source": [
        "rf_preds = rf.predict(X_test)"
      ],
      "metadata": {
        "trusted": true,
        "id": "sBvMnRjsSbPH"
      },
      "execution_count": null,
      "outputs": []
    },
    {
      "cell_type": "code",
      "source": [
        "rf_preds.shape"
      ],
      "metadata": {
        "trusted": true,
        "id": "UYTRHISySbPI"
      },
      "execution_count": null,
      "outputs": []
    },
    {
      "cell_type": "code",
      "source": [
        "y_train"
      ],
      "metadata": {
        "execution": {
          "iopub.status.busy": "2024-03-27T09:14:31.626948Z",
          "iopub.execute_input": "2024-03-27T09:14:31.627467Z",
          "iopub.status.idle": "2024-03-27T09:14:31.640082Z",
          "shell.execute_reply.started": "2024-03-27T09:14:31.627434Z",
          "shell.execute_reply": "2024-03-27T09:14:31.638784Z"
        },
        "trusted": true,
        "id": "XGD9I13WSbPJ"
      },
      "execution_count": null,
      "outputs": []
    },
    {
      "cell_type": "markdown",
      "source": [
        "Kaggle Submission"
      ],
      "metadata": {
        "id": "k3hzcGRASbPK"
      }
    },
    {
      "cell_type": "code",
      "source": [
        "import pandas as pd\n",
        "\n",
        "# Assuming `rf` is your trained model and `X_test` is your test data\n",
        "# Make predictions\n",
        "preds = rf.predict(X_test)\n",
        "\n",
        "# Assuming `test_df` is your test DataFrame and it has an 'id' column\n",
        "# Create a DataFrame for the submission\n",
        "#sub_df = pd.DataFrame(preds, columns=['Pastry', 'Z_Scratch', 'K_Scatch', 'Stains', 'Dirtiness', 'Bumps', 'Other_Faults'])\n",
        "#sub_df['id'] = test_df['id'] # Add the 'id' column from the test data\n",
        "\n",
        "# Reorder the columns to match the submission format\n",
        "#sub_df = sub_df[['id', 'Pastry', 'Z_Scratch', 'K_Scatch', 'Stains', 'Dirtiness', 'Bumps', 'Other_Faults']]\n",
        "\n",
        "# Save the submission DataFrame as a CSV file\n",
        "#sub_df.to_csv('rf_submission.csv', index=False)\n"
      ],
      "metadata": {
        "execution": {
          "iopub.status.busy": "2024-03-27T13:13:49.963853Z",
          "iopub.execute_input": "2024-03-27T13:13:49.964408Z",
          "iopub.status.idle": "2024-03-27T13:13:50.246261Z",
          "shell.execute_reply.started": "2024-03-27T13:13:49.964342Z",
          "shell.execute_reply": "2024-03-27T13:13:50.245522Z"
        },
        "trusted": true,
        "id": "4-msYPlOSbPK"
      },
      "execution_count": null,
      "outputs": []
    },
    {
      "cell_type": "code",
      "source": [
        "preds.shape"
      ],
      "metadata": {
        "execution": {
          "iopub.status.busy": "2024-03-27T13:13:40.133998Z",
          "iopub.execute_input": "2024-03-27T13:13:40.134375Z",
          "iopub.status.idle": "2024-03-27T13:13:40.143243Z",
          "shell.execute_reply.started": "2024-03-27T13:13:40.134343Z",
          "shell.execute_reply": "2024-03-27T13:13:40.141933Z"
        },
        "trusted": true,
        "id": "fq5UhqawSbPM",
        "outputId": "95163578-86a6-4143-f7e6-928137172b7b"
      },
      "execution_count": null,
      "outputs": [
        {
          "execution_count": 33,
          "output_type": "execute_result",
          "data": {
            "text/plain": "(3843, 7)"
          },
          "metadata": {}
        }
      ]
    },
    {
      "cell_type": "code",
      "source": [
        "!ls"
      ],
      "metadata": {
        "trusted": true,
        "id": "VqpKpDLBSbPN"
      },
      "execution_count": null,
      "outputs": []
    },
    {
      "cell_type": "markdown",
      "source": [
        "Neural Network + Random Forest"
      ],
      "metadata": {
        "id": "cGmtjHxASbPO"
      }
    },
    {
      "cell_type": "code",
      "source": [
        "avgs = (nn_preds_x + rf_preds) / 2\n",
        "avgs"
      ],
      "metadata": {
        "trusted": true,
        "id": "whTvZ7t_SbPO"
      },
      "execution_count": null,
      "outputs": []
    },
    {
      "cell_type": "code",
      "source": [
        "!ls"
      ],
      "metadata": {
        "trusted": true,
        "id": "ERChhAMmSbPP"
      },
      "execution_count": null,
      "outputs": []
    },
    {
      "cell_type": "code",
      "source": [
        "import pandas as pd\n",
        "\n",
        "# Assuming `rf` is your trained model and `X_test` is your test data\n",
        "# Make predictions\n",
        "#preds = rf.predict(X_test)\n",
        "\n",
        "# Assuming `test_df` is your test DataFrame and it has an 'id' column\n",
        "# Create a DataFrame for the submission\n",
        "sub_df = pd.DataFrame(avgs, columns=['Pastry', 'Z_Scratch', 'K_Scatch', 'Stains', 'Dirtiness', 'Bumps', 'Other_Faults'])\n",
        "sub_df['id'] = test_df['id'] # Add the 'id' column from the test data\n",
        "\n",
        "# Reorder the columns to match the submission format\n",
        "sub_df = sub_df[['id', 'Pastry', 'Z_Scratch', 'K_Scatch', 'Stains', 'Dirtiness', 'Bumps', 'Other_Faults']]\n",
        "\n",
        "# Save the submission DataFrame as a CSV file\n",
        "sub_df.to_csv('submission.csv', index=False)\n"
      ],
      "metadata": {
        "execution": {
          "iopub.status.busy": "2024-03-27T13:08:08.922326Z",
          "iopub.execute_input": "2024-03-27T13:08:08.922788Z",
          "iopub.status.idle": "2024-03-27T13:08:08.994797Z",
          "shell.execute_reply.started": "2024-03-27T13:08:08.922753Z",
          "shell.execute_reply": "2024-03-27T13:08:08.993511Z"
        },
        "trusted": true,
        "id": "sGHkq-AiSbPP"
      },
      "execution_count": null,
      "outputs": []
    },
    {
      "cell_type": "code",
      "source": [],
      "metadata": {
        "id": "Tt3-rW3qSbPQ"
      },
      "execution_count": null,
      "outputs": []
    },
    {
      "cell_type": "code",
      "source": [
        "# Assuming `sub_df` is your DataFrame that needs the 'id' column converted\n",
        "# Convert 'id' column to Int32 by rounding the floating-point numbers\n",
        "#submission_df['id'] = submission_df['id'].round().astype('Int32')\n",
        "\n",
        "# Now, 'id' column is of type Int32\n",
        "#print(submission_df['id'].dtype)\n"
      ],
      "metadata": {
        "execution": {
          "iopub.status.busy": "2024-03-27T08:44:42.626711Z",
          "iopub.execute_input": "2024-03-27T08:44:42.627198Z",
          "iopub.status.idle": "2024-03-27T08:44:42.635315Z",
          "shell.execute_reply.started": "2024-03-27T08:44:42.627165Z",
          "shell.execute_reply": "2024-03-27T08:44:42.633913Z"
        },
        "trusted": true,
        "id": "ZUdteoeZSbPR"
      },
      "execution_count": null,
      "outputs": []
    },
    {
      "cell_type": "code",
      "source": [
        "!ls"
      ],
      "metadata": {
        "execution": {
          "iopub.status.busy": "2024-03-27T10:20:57.229111Z",
          "iopub.execute_input": "2024-03-27T10:20:57.229694Z",
          "iopub.status.idle": "2024-03-27T10:20:58.379804Z",
          "shell.execute_reply.started": "2024-03-27T10:20:57.229652Z",
          "shell.execute_reply": "2024-03-27T10:20:58.377236Z"
        },
        "trusted": true,
        "id": "YGDP4xz5SbPS"
      },
      "execution_count": null,
      "outputs": []
    },
    {
      "cell_type": "code",
      "source": [
        "#sub_df = pd.read_csv(path/'sample_submission.csv')\n",
        "sub_tree = pd.read_csv('submission.csv')"
      ],
      "metadata": {
        "execution": {
          "iopub.status.busy": "2024-03-27T10:14:46.493677Z",
          "iopub.execute_input": "2024-03-27T10:14:46.494117Z",
          "iopub.status.idle": "2024-03-27T10:14:46.505273Z",
          "shell.execute_reply.started": "2024-03-27T10:14:46.494085Z",
          "shell.execute_reply": "2024-03-27T10:14:46.504191Z"
        },
        "trusted": true,
        "id": "pphPVek-SbPT"
      },
      "execution_count": null,
      "outputs": []
    },
    {
      "cell_type": "code",
      "source": [
        "sub_tree.shape"
      ],
      "metadata": {
        "execution": {
          "iopub.status.busy": "2024-03-27T10:14:40.084021Z",
          "iopub.execute_input": "2024-03-27T10:14:40.084501Z",
          "iopub.status.idle": "2024-03-27T10:14:40.093043Z",
          "shell.execute_reply.started": "2024-03-27T10:14:40.08446Z",
          "shell.execute_reply": "2024-03-27T10:14:40.091864Z"
        },
        "trusted": true,
        "id": "1DrMNIkGSbPT"
      },
      "execution_count": null,
      "outputs": []
    },
    {
      "cell_type": "code",
      "source": [
        "sub_tree.shape"
      ],
      "metadata": {
        "execution": {
          "iopub.status.busy": "2024-03-27T10:14:54.30884Z",
          "iopub.execute_input": "2024-03-27T10:14:54.309368Z",
          "iopub.status.idle": "2024-03-27T10:14:54.317765Z",
          "shell.execute_reply.started": "2024-03-27T10:14:54.309325Z",
          "shell.execute_reply": "2024-03-27T10:14:54.31657Z"
        },
        "trusted": true,
        "id": "iM6148ZtSbPU"
      },
      "execution_count": null,
      "outputs": []
    },
    {
      "cell_type": "code",
      "source": [
        "sub_tree.info()"
      ],
      "metadata": {
        "execution": {
          "iopub.status.busy": "2024-03-27T10:14:58.389596Z",
          "iopub.execute_input": "2024-03-27T10:14:58.390314Z",
          "iopub.status.idle": "2024-03-27T10:14:58.402463Z",
          "shell.execute_reply.started": "2024-03-27T10:14:58.390255Z",
          "shell.execute_reply": "2024-03-27T10:14:58.40145Z"
        },
        "trusted": true,
        "id": "tjf0nKebSbPU"
      },
      "execution_count": null,
      "outputs": []
    },
    {
      "cell_type": "code",
      "source": [
        "sub_df"
      ],
      "metadata": {
        "execution": {
          "iopub.status.busy": "2024-03-27T08:48:21.776168Z",
          "iopub.execute_input": "2024-03-27T08:48:21.776761Z",
          "iopub.status.idle": "2024-03-27T08:48:21.807128Z",
          "shell.execute_reply.started": "2024-03-27T08:48:21.776717Z",
          "shell.execute_reply": "2024-03-27T08:48:21.805923Z"
        },
        "trusted": true,
        "id": "JwrDwajbSbPV"
      },
      "execution_count": null,
      "outputs": []
    },
    {
      "cell_type": "code",
      "source": [
        "print(sub_df['id'].dtype)"
      ],
      "metadata": {
        "execution": {
          "iopub.status.busy": "2024-03-27T08:45:38.750891Z",
          "iopub.execute_input": "2024-03-27T08:45:38.75129Z",
          "iopub.status.idle": "2024-03-27T08:45:38.757759Z",
          "shell.execute_reply.started": "2024-03-27T08:45:38.75126Z",
          "shell.execute_reply": "2024-03-27T08:45:38.756382Z"
        },
        "trusted": true,
        "id": "gxVl99uWSbPW"
      },
      "execution_count": null,
      "outputs": []
    },
    {
      "cell_type": "code",
      "source": [
        "#target_preds = preds[0]\n",
        "#target_preds"
      ],
      "metadata": {
        "execution": {
          "iopub.status.busy": "2024-03-27T06:40:05.79589Z",
          "iopub.execute_input": "2024-03-27T06:40:05.79635Z",
          "iopub.status.idle": "2024-03-27T06:40:05.802196Z",
          "shell.execute_reply.started": "2024-03-27T06:40:05.796317Z",
          "shell.execute_reply": "2024-03-27T06:40:05.800749Z"
        },
        "trusted": true,
        "id": "CJTprOuLSbPW"
      },
      "execution_count": null,
      "outputs": []
    },
    {
      "cell_type": "code",
      "source": [
        "!ls"
      ],
      "metadata": {
        "execution": {
          "iopub.status.busy": "2024-03-27T06:38:42.213875Z",
          "iopub.execute_input": "2024-03-27T06:38:42.214344Z",
          "iopub.status.idle": "2024-03-27T06:38:43.330295Z",
          "shell.execute_reply.started": "2024-03-27T06:38:42.214309Z",
          "shell.execute_reply": "2024-03-27T06:38:43.32869Z"
        },
        "trusted": true,
        "id": "A-pveBrnSbPX"
      },
      "execution_count": null,
      "outputs": []
    }
  ]
}