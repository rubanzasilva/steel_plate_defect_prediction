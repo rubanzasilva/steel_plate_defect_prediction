{
  "metadata": {
    "colab": {
      "provenance": [],
      "gpuType": "T4",
      "include_colab_link": true
    },
    "kernelspec": {
      "name": "python3",
      "display_name": "Python 3",
      "language": "python"
    },
    "language_info": {
      "name": "python",
      "version": "3.10.13",
      "mimetype": "text/x-python",
      "codemirror_mode": {
        "name": "ipython",
        "version": 3
      },
      "pygments_lexer": "ipython3",
      "nbconvert_exporter": "python",
      "file_extension": ".py"
    },
    "accelerator": "GPU",
    "kaggle": {
      "accelerator": "gpu",
      "dataSources": [
        {
          "sourceId": 68699,
          "databundleVersionId": 7659021,
          "sourceType": "competition"
        }
      ],
      "dockerImageVersionId": 30664,
      "isInternetEnabled": true,
      "language": "python",
      "sourceType": "notebook",
      "isGpuEnabled": true
    }
  },
  "nbformat_minor": 0,
  "nbformat": 4,
  "cells": [
    {
      "cell_type": "markdown",
      "metadata": {
        "id": "view-in-github",
        "colab_type": "text"
      },
      "source": [
        "<a href=\"https://colab.research.google.com/github/rubanzasilva/steel_plate_defect_prediction/blob/test/ps_s04_e03_fastai_working_version.ipynb\" target=\"_parent\"><img src=\"https://colab.research.google.com/assets/colab-badge.svg\" alt=\"Open In Colab\"/></a>"
      ]
    },
    {
      "source": [
        "\n",
        "# IMPORTANT: RUN THIS CELL IN ORDER TO IMPORT YOUR KAGGLE DATA SOURCES\n",
        "# TO THE CORRECT LOCATION (/kaggle/input) IN YOUR NOTEBOOK,\n",
        "# THEN FEEL FREE TO DELETE THIS CELL.\n",
        "# NOTE: THIS NOTEBOOK ENVIRONMENT DIFFERS FROM KAGGLE'S PYTHON\n",
        "# ENVIRONMENT SO THERE MAY BE MISSING LIBRARIES USED BY YOUR\n",
        "# NOTEBOOK.\n",
        "\n",
        "import os\n",
        "import sys\n",
        "from tempfile import NamedTemporaryFile\n",
        "from urllib.request import urlopen\n",
        "from urllib.parse import unquote, urlparse\n",
        "from urllib.error import HTTPError\n",
        "from zipfile import ZipFile\n",
        "import tarfile\n",
        "import shutil\n",
        "\n",
        "CHUNK_SIZE = 40960\n",
        "DATA_SOURCE_MAPPING = 'playground-series-s4e3:https%3A%2F%2Fstorage.googleapis.com%2Fkaggle-competitions-data%2Fkaggle-v2%2F68699%2F7659021%2Fbundle%2Farchive.zip%3FX-Goog-Algorithm%3DGOOG4-RSA-SHA256%26X-Goog-Credential%3Dgcp-kaggle-com%2540kaggle-161607.iam.gserviceaccount.com%252F20240329%252Fauto%252Fstorage%252Fgoog4_request%26X-Goog-Date%3D20240329T062222Z%26X-Goog-Expires%3D259200%26X-Goog-SignedHeaders%3Dhost%26X-Goog-Signature%3D001f1b8f273df3a27713ce50944f6aeddf92f382be6b8abf986c11f9d3bfe3a0554fbd12672b0c23d4d54af81fb350ef118216757d250aaebb2e3eee30179f218f15534d65f5d350d67689d388e04c56d42a05deec341283e815f384fdbcac8f88b2b7313d9a5005b16662a1b3e7a1e45b5d2339263cf8bf14c44739ae48fbeeb4678070d8a369de9d78288e7fcb8764b65e097557f2ca58890c25f57139f99ed279474352b0d9ac0544f0a3a33f86a44a21467386878f9fecec9662bfff2a5d1ef8d1a44fa794a3e42b2ed093d27035d6cd6af2e986671f85878b09cf5c6867c38eecdc3379b15ccc8cd553f42e9fa73837f62b90fe6c1d9cc469bdc5184c52'\n",
        "\n",
        "KAGGLE_INPUT_PATH='/kaggle/input'\n",
        "KAGGLE_WORKING_PATH='/kaggle/working'\n",
        "KAGGLE_SYMLINK='kaggle'\n",
        "\n",
        "!umount /kaggle/input/ 2> /dev/null\n",
        "shutil.rmtree('/kaggle/input', ignore_errors=True)\n",
        "os.makedirs(KAGGLE_INPUT_PATH, 0o777, exist_ok=True)\n",
        "os.makedirs(KAGGLE_WORKING_PATH, 0o777, exist_ok=True)\n",
        "\n",
        "try:\n",
        "  os.symlink(KAGGLE_INPUT_PATH, os.path.join(\"..\", 'input'), target_is_directory=True)\n",
        "except FileExistsError:\n",
        "  pass\n",
        "try:\n",
        "  os.symlink(KAGGLE_WORKING_PATH, os.path.join(\"..\", 'working'), target_is_directory=True)\n",
        "except FileExistsError:\n",
        "  pass\n",
        "\n",
        "for data_source_mapping in DATA_SOURCE_MAPPING.split(','):\n",
        "    directory, download_url_encoded = data_source_mapping.split(':')\n",
        "    download_url = unquote(download_url_encoded)\n",
        "    filename = urlparse(download_url).path\n",
        "    destination_path = os.path.join(KAGGLE_INPUT_PATH, directory)\n",
        "    try:\n",
        "        with urlopen(download_url) as fileres, NamedTemporaryFile() as tfile:\n",
        "            total_length = fileres.headers['content-length']\n",
        "            print(f'Downloading {directory}, {total_length} bytes compressed')\n",
        "            dl = 0\n",
        "            data = fileres.read(CHUNK_SIZE)\n",
        "            while len(data) > 0:\n",
        "                dl += len(data)\n",
        "                tfile.write(data)\n",
        "                done = int(50 * dl / int(total_length))\n",
        "                sys.stdout.write(f\"\\r[{'=' * done}{' ' * (50-done)}] {dl} bytes downloaded\")\n",
        "                sys.stdout.flush()\n",
        "                data = fileres.read(CHUNK_SIZE)\n",
        "            if filename.endswith('.zip'):\n",
        "              with ZipFile(tfile) as zfile:\n",
        "                zfile.extractall(destination_path)\n",
        "            else:\n",
        "              with tarfile.open(tfile.name) as tarfile:\n",
        "                tarfile.extractall(destination_path)\n",
        "            print(f'\\nDownloaded and uncompressed: {directory}')\n",
        "    except HTTPError as e:\n",
        "        print(f'Failed to load (likely expired) {download_url} to path {destination_path}')\n",
        "        continue\n",
        "    except OSError as e:\n",
        "        print(f'Failed to load {download_url} to path {destination_path}')\n",
        "        continue\n",
        "\n",
        "print('Data source import complete.')\n"
      ],
      "metadata": {
        "id": "cq7R3NKz36-A"
      },
      "cell_type": "code",
      "outputs": [],
      "execution_count": null
    },
    {
      "cell_type": "code",
      "source": [
        "#hide\n",
        "! [ -e /content ]\n",
        "!pip install -Uqq fastbook\n",
        "import fastbook\n",
        "fastbook.setup_book()"
      ],
      "metadata": {
        "id": "KwtIJqbQPrc1",
        "execution": {
          "iopub.status.busy": "2024-03-23T18:00:34.586511Z",
          "iopub.execute_input": "2024-03-23T18:00:34.587154Z",
          "iopub.status.idle": "2024-03-23T18:01:01.780912Z",
          "shell.execute_reply.started": "2024-03-23T18:00:34.587125Z",
          "shell.execute_reply": "2024-03-23T18:01:01.780106Z"
        },
        "trusted": true
      },
      "execution_count": null,
      "outputs": []
    },
    {
      "cell_type": "code",
      "source": [
        "!ls"
      ],
      "metadata": {
        "execution": {
          "iopub.status.busy": "2024-03-28T10:51:21.833221Z",
          "iopub.execute_input": "2024-03-28T10:51:21.833904Z",
          "iopub.status.idle": "2024-03-28T10:51:22.774053Z",
          "shell.execute_reply.started": "2024-03-28T10:51:21.833871Z",
          "shell.execute_reply": "2024-03-28T10:51:22.772901Z"
        },
        "trusted": true,
        "id": "5Jas0JvF36-G"
      },
      "execution_count": null,
      "outputs": []
    },
    {
      "cell_type": "code",
      "source": [
        "from fastai.tabular.all import *\n",
        "import pandas as pd\n",
        "import matplotlib.pyplot as plt\n",
        "import seaborn as sns\n",
        "import numpy as np"
      ],
      "metadata": {
        "execution": {
          "iopub.status.busy": "2024-03-27T08:02:32.752658Z",
          "iopub.status.idle": "2024-03-27T08:02:32.753093Z",
          "shell.execute_reply.started": "2024-03-27T08:02:32.752882Z",
          "shell.execute_reply": "2024-03-27T08:02:32.752898Z"
        },
        "trusted": true,
        "id": "oB4vf7n236-H"
      },
      "execution_count": null,
      "outputs": []
    },
    {
      "cell_type": "code",
      "source": [
        "\n",
        "from fastai.tabular.all import *\n",
        "import pandas as pd\n",
        "import matplotlib.pyplot as plt\n",
        "import seaborn as sns\n",
        "import numpy as np\n",
        "from numpy import random\n",
        "\n",
        "from fastai.imports import *\n",
        "np.set_printoptions(linewidth=130)\n",
        "\n",
        "# for working with paths in Python, I recommend using `pathlib.Path`\n",
        "from pathlib import Path\n",
        "import os\n",
        "import seaborn as sns\n",
        "\n",
        "from sklearn.model_selection import train_test_split\n",
        "from sklearn.metrics import roc_auc_score\n",
        "from sklearn.ensemble import RandomForestClassifier\n",
        "\n",
        "from ipywidgets import interact\n",
        "\n",
        "\n",
        "matplotlib.rc('image', cmap='Greys')"
      ],
      "metadata": {
        "id": "RCMDyNwgY7G7",
        "execution": {
          "iopub.status.busy": "2024-03-28T10:57:16.199214Z",
          "iopub.execute_input": "2024-03-28T10:57:16.199609Z",
          "iopub.status.idle": "2024-03-28T10:57:22.809636Z",
          "shell.execute_reply.started": "2024-03-28T10:57:16.199577Z",
          "shell.execute_reply": "2024-03-28T10:57:22.808331Z"
        },
        "trusted": true
      },
      "execution_count": null,
      "outputs": []
    },
    {
      "cell_type": "markdown",
      "source": [
        "Set random seed for reproducibility."
      ],
      "metadata": {
        "id": "Agl1BKpacH6v"
      }
    },
    {
      "cell_type": "code",
      "source": [
        "#random.seed(42)\n",
        "set_seed(42)"
      ],
      "metadata": {
        "id": "jd7Hze9-cGtp",
        "execution": {
          "iopub.status.busy": "2024-03-28T10:57:22.811541Z",
          "iopub.execute_input": "2024-03-28T10:57:22.81204Z",
          "iopub.status.idle": "2024-03-28T10:57:22.820886Z",
          "shell.execute_reply.started": "2024-03-28T10:57:22.811999Z",
          "shell.execute_reply": "2024-03-28T10:57:22.819715Z"
        },
        "trusted": true
      },
      "execution_count": null,
      "outputs": []
    },
    {
      "cell_type": "code",
      "source": [
        "# This Python 3 environment comes with many helpful analytics libraries installed\n",
        "# It is defined by the kaggle/python Docker image: https://github.com/kaggle/docker-python\n",
        "# For example, here's several helpful packages to load\n",
        "\n",
        "import numpy as np # linear algebra\n",
        "import pandas as pd # data processing, CSV file I/O (e.g. pd.read_csv)\n",
        "\n",
        "# Input data files are available in the read-only \"../input/\" directory\n",
        "# For example, running this (by clicking run or pressing Shift+Enter) will list all files under the input directory\n",
        "\n",
        "import os\n",
        "for dirname, _, filenames in os.walk('/kaggle/input'):\n",
        "    for filename in filenames:\n",
        "        print(os.path.join(dirname, filename))\n",
        "\n",
        "# You can write up to 20GB to the current directory (/kaggle/working/) that gets preserved as output when you create a version using \"Save & Run All\"\n",
        "# You can also write temporary files to /kaggle/temp/, but they won't be saved outside of the current session"
      ],
      "metadata": {
        "id": "ecCaoXLjbLdZ",
        "execution": {
          "iopub.status.busy": "2024-03-28T10:57:22.822284Z",
          "iopub.execute_input": "2024-03-28T10:57:22.822701Z",
          "iopub.status.idle": "2024-03-28T10:57:22.831483Z",
          "shell.execute_reply.started": "2024-03-28T10:57:22.822667Z",
          "shell.execute_reply": "2024-03-28T10:57:22.830362Z"
        },
        "trusted": true
      },
      "execution_count": null,
      "outputs": []
    },
    {
      "cell_type": "code",
      "source": [
        "!ls /kaggle/input/playground-series-s4e3"
      ],
      "metadata": {
        "execution": {
          "iopub.status.busy": "2024-03-28T09:38:55.180704Z",
          "iopub.execute_input": "2024-03-28T09:38:55.181015Z",
          "iopub.status.idle": "2024-03-28T09:38:56.134787Z",
          "shell.execute_reply.started": "2024-03-28T09:38:55.180992Z",
          "shell.execute_reply": "2024-03-28T09:38:56.133603Z"
        },
        "trusted": true,
        "id": "q4l7_fwB36-M"
      },
      "execution_count": null,
      "outputs": []
    },
    {
      "cell_type": "code",
      "source": [
        "path = Path('/kaggle/input/playground-series-s4e3')\n",
        "path"
      ],
      "metadata": {
        "id": "i4VhYuv3cztD",
        "execution": {
          "iopub.status.busy": "2024-03-28T10:57:26.976809Z",
          "iopub.execute_input": "2024-03-28T10:57:26.977192Z",
          "iopub.status.idle": "2024-03-28T10:57:26.984761Z",
          "shell.execute_reply.started": "2024-03-28T10:57:26.977163Z",
          "shell.execute_reply": "2024-03-28T10:57:26.983522Z"
        },
        "trusted": true
      },
      "execution_count": null,
      "outputs": []
    },
    {
      "cell_type": "markdown",
      "source": [
        "Problem approach\n",
        "\n",
        "Create an effective validation set\n",
        "\n",
        "Iterate rapidly to find changes which improve the validation set"
      ],
      "metadata": {
        "id": "K1hn53PnA3h4"
      }
    },
    {
      "cell_type": "code",
      "source": [
        "train_df = pd.read_csv(path/'train.csv')\n",
        "test_df = pd.read_csv(path/'test.csv')\n",
        "sub_df = pd.read_csv(path/'sample_submission.csv')"
      ],
      "metadata": {
        "id": "vsMF74KpczqS",
        "execution": {
          "iopub.status.busy": "2024-03-28T10:57:30.708615Z",
          "iopub.execute_input": "2024-03-28T10:57:30.70947Z",
          "iopub.status.idle": "2024-03-28T10:57:30.974104Z",
          "shell.execute_reply.started": "2024-03-28T10:57:30.709436Z",
          "shell.execute_reply": "2024-03-28T10:57:30.972889Z"
        },
        "trusted": true
      },
      "execution_count": null,
      "outputs": []
    },
    {
      "cell_type": "code",
      "source": [
        "train_df.head()"
      ],
      "metadata": {
        "execution": {
          "iopub.status.busy": "2024-03-28T10:57:31.044782Z",
          "iopub.execute_input": "2024-03-28T10:57:31.045871Z",
          "iopub.status.idle": "2024-03-28T10:57:31.078659Z",
          "shell.execute_reply.started": "2024-03-28T10:57:31.045835Z",
          "shell.execute_reply": "2024-03-28T10:57:31.077586Z"
        },
        "trusted": true,
        "id": "YiLTMbdE36-O"
      },
      "execution_count": null,
      "outputs": []
    },
    {
      "cell_type": "code",
      "source": [
        "sub_df.head()"
      ],
      "metadata": {
        "execution": {
          "iopub.status.busy": "2024-03-28T08:11:09.13574Z",
          "iopub.execute_input": "2024-03-28T08:11:09.136141Z",
          "iopub.status.idle": "2024-03-28T08:11:09.153271Z",
          "shell.execute_reply.started": "2024-03-28T08:11:09.136109Z",
          "shell.execute_reply": "2024-03-28T08:11:09.152366Z"
        },
        "trusted": true,
        "id": "Mm-ZKK-a36-P"
      },
      "execution_count": null,
      "outputs": []
    },
    {
      "cell_type": "code",
      "source": [
        "test_df.shape,train_df.shape"
      ],
      "metadata": {
        "execution": {
          "iopub.status.busy": "2024-03-28T10:19:24.892696Z",
          "iopub.execute_input": "2024-03-28T10:19:24.893453Z",
          "iopub.status.idle": "2024-03-28T10:19:24.904231Z",
          "shell.execute_reply.started": "2024-03-28T10:19:24.893413Z",
          "shell.execute_reply": "2024-03-28T10:19:24.903151Z"
        },
        "trusted": true,
        "id": "_bT82t3c36-P"
      },
      "execution_count": null,
      "outputs": []
    },
    {
      "cell_type": "code",
      "source": [
        "test_df.columns"
      ],
      "metadata": {
        "execution": {
          "iopub.status.busy": "2024-03-28T08:11:10.308259Z",
          "iopub.execute_input": "2024-03-28T08:11:10.308608Z",
          "iopub.status.idle": "2024-03-28T08:11:10.315295Z",
          "shell.execute_reply.started": "2024-03-28T08:11:10.30858Z",
          "shell.execute_reply": "2024-03-28T08:11:10.314375Z"
        },
        "trusted": true,
        "id": "mdkl9xlJ36-Q"
      },
      "execution_count": null,
      "outputs": []
    },
    {
      "cell_type": "code",
      "source": [
        "train_df.columns"
      ],
      "metadata": {
        "execution": {
          "iopub.status.busy": "2024-03-28T08:11:10.69426Z",
          "iopub.execute_input": "2024-03-28T08:11:10.694629Z",
          "iopub.status.idle": "2024-03-28T08:11:10.700921Z",
          "shell.execute_reply.started": "2024-03-28T08:11:10.694599Z",
          "shell.execute_reply": "2024-03-28T08:11:10.700086Z"
        },
        "trusted": true,
        "id": "0h1j11fu36-Q"
      },
      "execution_count": null,
      "outputs": []
    },
    {
      "cell_type": "code",
      "source": [
        "y_names = ['Pastry', 'Z_Scratch', 'K_Scatch', 'Stains', 'Dirtiness', 'Bumps', 'Other_Faults']"
      ],
      "metadata": {
        "id": "gmHUkX9ddGUJ",
        "execution": {
          "iopub.status.busy": "2024-03-28T10:57:36.195456Z",
          "iopub.execute_input": "2024-03-28T10:57:36.19586Z",
          "iopub.status.idle": "2024-03-28T10:57:36.200444Z",
          "shell.execute_reply.started": "2024-03-28T10:57:36.195831Z",
          "shell.execute_reply": "2024-03-28T10:57:36.199381Z"
        },
        "trusted": true
      },
      "execution_count": null,
      "outputs": []
    },
    {
      "cell_type": "code",
      "source": [
        "cont_names, cat_names = cont_cat_split(train_df,dep_var=['Pastry', 'Z_Scratch', 'K_Scatch', 'Stains', 'Dirtiness', 'Bumps', 'Other_Faults'])"
      ],
      "metadata": {
        "id": "pPvV47yfeoqL",
        "execution": {
          "iopub.status.busy": "2024-03-28T10:57:36.463672Z",
          "iopub.execute_input": "2024-03-28T10:57:36.46404Z",
          "iopub.status.idle": "2024-03-28T10:57:36.478153Z",
          "shell.execute_reply.started": "2024-03-28T10:57:36.464013Z",
          "shell.execute_reply": "2024-03-28T10:57:36.47713Z"
        },
        "trusted": true
      },
      "execution_count": null,
      "outputs": []
    },
    {
      "cell_type": "code",
      "source": [
        "splits = RandomSplitter(valid_pct=0.2)(range_of(train_df))"
      ],
      "metadata": {
        "id": "h8YwkIl9gJu_",
        "execution": {
          "iopub.status.busy": "2024-03-28T10:57:36.811497Z",
          "iopub.execute_input": "2024-03-28T10:57:36.811882Z",
          "iopub.status.idle": "2024-03-28T10:57:36.846006Z",
          "shell.execute_reply.started": "2024-03-28T10:57:36.811853Z",
          "shell.execute_reply": "2024-03-28T10:57:36.844867Z"
        },
        "trusted": true
      },
      "execution_count": null,
      "outputs": []
    },
    {
      "cell_type": "code",
      "source": [
        "to = TabularPandas(train_df, procs=[Categorify, FillMissing,Normalize],\n",
        "                   cat_names = cat_names,\n",
        "                   cont_names = cont_names,\n",
        "                   y_names= y_names,\n",
        "                  # y_block = CategoryBlock,\n",
        "                   splits=splits)"
      ],
      "metadata": {
        "id": "UgDbuCuBdGRM",
        "execution": {
          "iopub.status.busy": "2024-03-28T10:57:37.470313Z",
          "iopub.execute_input": "2024-03-28T10:57:37.4707Z",
          "iopub.status.idle": "2024-03-28T10:57:37.545334Z",
          "shell.execute_reply.started": "2024-03-28T10:57:37.47067Z",
          "shell.execute_reply": "2024-03-28T10:57:37.544473Z"
        },
        "trusted": true
      },
      "execution_count": null,
      "outputs": []
    },
    {
      "cell_type": "code",
      "source": [
        "to.xs.iloc[:2]"
      ],
      "metadata": {
        "id": "ZiCcYfSydGOy",
        "execution": {
          "iopub.status.busy": "2024-03-28T10:57:39.851685Z",
          "iopub.execute_input": "2024-03-28T10:57:39.85205Z",
          "iopub.status.idle": "2024-03-28T10:57:39.892602Z",
          "shell.execute_reply.started": "2024-03-28T10:57:39.852024Z",
          "shell.execute_reply": "2024-03-28T10:57:39.89157Z"
        },
        "trusted": true
      },
      "execution_count": null,
      "outputs": []
    },
    {
      "cell_type": "code",
      "source": [
        "!ls"
      ],
      "metadata": {
        "execution": {
          "iopub.status.busy": "2024-03-28T10:19:44.605504Z",
          "iopub.execute_input": "2024-03-28T10:19:44.606332Z",
          "iopub.status.idle": "2024-03-28T10:19:45.566888Z",
          "shell.execute_reply.started": "2024-03-28T10:19:44.606301Z",
          "shell.execute_reply": "2024-03-28T10:19:45.56575Z"
        },
        "trusted": true,
        "id": "qYhbd7mJ36-T"
      },
      "execution_count": null,
      "outputs": []
    },
    {
      "cell_type": "code",
      "source": [
        "dls = to.dataloaders(bs=64)"
      ],
      "metadata": {
        "id": "URgqOShbdGL6",
        "execution": {
          "iopub.status.busy": "2024-03-27T19:54:43.575712Z",
          "iopub.execute_input": "2024-03-27T19:54:43.576566Z",
          "iopub.status.idle": "2024-03-27T19:54:43.595759Z",
          "shell.execute_reply.started": "2024-03-27T19:54:43.576536Z",
          "shell.execute_reply": "2024-03-27T19:54:43.595007Z"
        },
        "trusted": true
      },
      "execution_count": null,
      "outputs": []
    },
    {
      "cell_type": "code",
      "source": [
        "dls.show_batch()"
      ],
      "metadata": {
        "id": "qKSy2-hMdGJM",
        "execution": {
          "iopub.status.busy": "2024-03-27T19:54:43.978126Z",
          "iopub.execute_input": "2024-03-27T19:54:43.97888Z",
          "iopub.status.idle": "2024-03-27T19:54:44.036731Z",
          "shell.execute_reply.started": "2024-03-27T19:54:43.978851Z",
          "shell.execute_reply": "2024-03-27T19:54:44.035751Z"
        },
        "trusted": true
      },
      "execution_count": null,
      "outputs": []
    },
    {
      "cell_type": "code",
      "source": [
        "learn = tabular_learner(dls, metrics=RocAucMulti())"
      ],
      "metadata": {
        "id": "zgoR-q0fdGGk",
        "execution": {
          "iopub.status.busy": "2024-03-27T19:54:44.90292Z",
          "iopub.execute_input": "2024-03-27T19:54:44.903304Z",
          "iopub.status.idle": "2024-03-27T19:54:44.912148Z",
          "shell.execute_reply.started": "2024-03-27T19:54:44.903277Z",
          "shell.execute_reply": "2024-03-27T19:54:44.911237Z"
        },
        "trusted": true
      },
      "execution_count": null,
      "outputs": []
    },
    {
      "cell_type": "code",
      "source": [
        "learn.lr_find(suggest_funcs=(slide,valley))"
      ],
      "metadata": {
        "id": "IPyazzCaPcNi",
        "execution": {
          "iopub.status.busy": "2024-03-27T19:54:45.318946Z",
          "iopub.execute_input": "2024-03-27T19:54:45.319299Z",
          "iopub.status.idle": "2024-03-27T19:54:46.863303Z",
          "shell.execute_reply.started": "2024-03-27T19:54:45.319274Z",
          "shell.execute_reply": "2024-03-27T19:54:46.862459Z"
        },
        "trusted": true
      },
      "execution_count": null,
      "outputs": []
    },
    {
      "cell_type": "code",
      "source": [
        "#learn.fit_one_cycle(15, slice(0.0005, 0.019))\n",
        "learn.fit_one_cycle(15, 0.014)"
      ],
      "metadata": {
        "id": "BJV69bfWTGFR",
        "execution": {
          "iopub.status.busy": "2024-03-27T19:54:46.864991Z",
          "iopub.execute_input": "2024-03-27T19:54:46.865596Z",
          "iopub.status.idle": "2024-03-27T19:55:23.970048Z",
          "shell.execute_reply.started": "2024-03-27T19:54:46.86557Z",
          "shell.execute_reply": "2024-03-27T19:55:23.969089Z"
        },
        "trusted": true
      },
      "execution_count": null,
      "outputs": []
    },
    {
      "cell_type": "code",
      "source": [
        "learn.show_results()"
      ],
      "metadata": {
        "execution": {
          "iopub.status.busy": "2024-03-27T19:55:23.971835Z",
          "iopub.execute_input": "2024-03-27T19:55:23.972216Z",
          "iopub.status.idle": "2024-03-27T19:55:24.042709Z",
          "shell.execute_reply.started": "2024-03-27T19:55:23.972184Z",
          "shell.execute_reply": "2024-03-27T19:55:24.041873Z"
        },
        "trusted": true,
        "id": "A_mSvNbi36-V"
      },
      "execution_count": null,
      "outputs": []
    },
    {
      "cell_type": "code",
      "source": [
        "learn.lr_find(suggest_funcs=(slide,valley))"
      ],
      "metadata": {
        "execution": {
          "iopub.status.busy": "2024-03-27T19:55:24.044739Z",
          "iopub.execute_input": "2024-03-27T19:55:24.045027Z",
          "iopub.status.idle": "2024-03-27T19:55:25.558988Z",
          "shell.execute_reply.started": "2024-03-27T19:55:24.044991Z",
          "shell.execute_reply": "2024-03-27T19:55:25.558081Z"
        },
        "trusted": true,
        "id": "BkabwHcN36-W"
      },
      "execution_count": null,
      "outputs": []
    },
    {
      "cell_type": "code",
      "source": [
        "dl = learn.dls.test_dl(test_df)"
      ],
      "metadata": {
        "id": "zxoXPUfVhgB8",
        "execution": {
          "iopub.status.busy": "2024-03-27T19:55:25.560122Z",
          "iopub.execute_input": "2024-03-27T19:55:25.560403Z",
          "iopub.status.idle": "2024-03-27T19:55:25.582801Z",
          "shell.execute_reply.started": "2024-03-27T19:55:25.560379Z",
          "shell.execute_reply": "2024-03-27T19:55:25.581872Z"
        },
        "trusted": true
      },
      "execution_count": null,
      "outputs": []
    },
    {
      "cell_type": "code",
      "source": [
        "preds = learn.get_preds(dl=dl)\n",
        "preds"
      ],
      "metadata": {
        "id": "0Rk3-KECy9a4",
        "execution": {
          "iopub.status.busy": "2024-03-27T19:55:25.584064Z",
          "iopub.execute_input": "2024-03-27T19:55:25.585314Z",
          "iopub.status.idle": "2024-03-27T19:55:26.541366Z",
          "shell.execute_reply.started": "2024-03-27T19:55:25.585288Z",
          "shell.execute_reply": "2024-03-27T19:55:26.540425Z"
        },
        "trusted": true
      },
      "execution_count": null,
      "outputs": []
    },
    {
      "cell_type": "code",
      "source": [
        "target_preds = preds[0]"
      ],
      "metadata": {
        "id": "C6GACFBw2Xbi",
        "execution": {
          "iopub.status.busy": "2024-03-15T10:08:30.33129Z",
          "iopub.execute_input": "2024-03-15T10:08:30.332195Z",
          "iopub.status.idle": "2024-03-15T10:08:30.336326Z",
          "shell.execute_reply.started": "2024-03-15T10:08:30.332165Z",
          "shell.execute_reply": "2024-03-15T10:08:30.335452Z"
        },
        "trusted": true
      },
      "execution_count": null,
      "outputs": []
    },
    {
      "cell_type": "code",
      "source": [
        "target_preds.shape"
      ],
      "metadata": {
        "id": "IKzskCN72XYG",
        "execution": {
          "iopub.status.busy": "2024-03-15T10:08:30.337417Z",
          "iopub.execute_input": "2024-03-15T10:08:30.337731Z",
          "iopub.status.idle": "2024-03-15T10:08:30.347031Z",
          "shell.execute_reply.started": "2024-03-15T10:08:30.337696Z",
          "shell.execute_reply": "2024-03-15T10:08:30.346154Z"
        },
        "trusted": true
      },
      "execution_count": null,
      "outputs": []
    },
    {
      "cell_type": "code",
      "source": [
        "targets =['Pastry', 'Z_Scratch', 'K_Scatch', 'Stains', 'Dirtiness', 'Bumps', 'Other_Faults']"
      ],
      "metadata": {
        "id": "rcVe7qJR8vAm",
        "execution": {
          "iopub.status.busy": "2024-03-15T10:12:48.169496Z",
          "iopub.execute_input": "2024-03-15T10:12:48.169887Z",
          "iopub.status.idle": "2024-03-15T10:12:48.175619Z",
          "shell.execute_reply.started": "2024-03-15T10:12:48.169857Z",
          "shell.execute_reply": "2024-03-15T10:12:48.17419Z"
        },
        "trusted": true
      },
      "execution_count": null,
      "outputs": []
    },
    {
      "cell_type": "code",
      "source": [
        "test_df[targets] = target_preds\n",
        "\n",
        "test_df.to_csv('submission.csv', columns=['id','Pastry', 'Z_Scratch', 'K_Scatch', 'Stains', 'Dirtiness', 'Bumps', 'Other_Faults'], index=False)\n",
        "\n",
        "#sub = pd.read_csv('submission.csv')\n",
        "#sub.head()"
      ],
      "metadata": {
        "id": "xc3wGzi_2XVD",
        "execution": {
          "iopub.status.busy": "2024-03-15T10:08:30.358247Z",
          "iopub.execute_input": "2024-03-15T10:08:30.358611Z",
          "iopub.status.idle": "2024-03-15T10:08:30.508908Z",
          "shell.execute_reply.started": "2024-03-15T10:08:30.358582Z",
          "shell.execute_reply": "2024-03-15T10:08:30.507889Z"
        },
        "trusted": true
      },
      "execution_count": null,
      "outputs": []
    },
    {
      "cell_type": "code",
      "source": [
        "#test_df.to_csv('submission.csv', columns=targets, index=False)"
      ],
      "metadata": {
        "id": "G0vXkk589Fpm",
        "execution": {
          "iopub.status.busy": "2024-03-15T10:08:30.512601Z",
          "iopub.execute_input": "2024-03-15T10:08:30.51294Z",
          "iopub.status.idle": "2024-03-15T10:08:30.517479Z",
          "shell.execute_reply.started": "2024-03-15T10:08:30.512911Z",
          "shell.execute_reply": "2024-03-15T10:08:30.516317Z"
        },
        "trusted": true
      },
      "execution_count": null,
      "outputs": []
    },
    {
      "cell_type": "code",
      "source": [
        "sub = pd.read_csv('submission.csv')\n",
        "sub.head()"
      ],
      "metadata": {
        "id": "ERohN5e09IG2"
      },
      "execution_count": null,
      "outputs": []
    },
    {
      "cell_type": "code",
      "source": [
        "!kaggle competitions submit -c playground-series-s4e3 -f submission.csv -m \"fastai baseline, adding lr fron lr finder\""
      ],
      "metadata": {
        "id": "FxzgsBQ69dQs"
      },
      "execution_count": null,
      "outputs": []
    },
    {
      "cell_type": "markdown",
      "source": [
        "Ensembling\n",
        "\n",
        "Neural Network Ensemble"
      ],
      "metadata": {
        "id": "nsQFB_tsRJkG"
      }
    },
    {
      "cell_type": "code",
      "source": [
        "learn.lr_find(suggest_funcs=(slide,valley))"
      ],
      "metadata": {
        "id": "il-F9qwWJ1ob"
      },
      "execution_count": null,
      "outputs": []
    },
    {
      "cell_type": "code",
      "source": [
        "dl = learn.dls.test_dl(test_df)"
      ],
      "metadata": {
        "id": "mSBeoFkWKRc2",
        "execution": {
          "iopub.status.busy": "2024-03-15T10:12:57.513694Z",
          "iopub.execute_input": "2024-03-15T10:12:57.514087Z",
          "iopub.status.idle": "2024-03-15T10:12:57.537604Z",
          "shell.execute_reply.started": "2024-03-15T10:12:57.514057Z",
          "shell.execute_reply": "2024-03-15T10:12:57.536584Z"
        },
        "trusted": true
      },
      "execution_count": null,
      "outputs": []
    },
    {
      "cell_type": "code",
      "source": [
        "def ensemble():\n",
        "    learn = tabular_learner(dls, metrics=RocAucMulti())\n",
        "    with learn.no_bar(),learn.no_logging(): learn.fit(12, 0.014)\n",
        "    return learn.get_preds(dl=dl)[0]"
      ],
      "metadata": {
        "id": "q0yVYx1j9dNC",
        "execution": {
          "iopub.status.busy": "2024-03-15T10:12:58.028726Z",
          "iopub.execute_input": "2024-03-15T10:12:58.029621Z",
          "iopub.status.idle": "2024-03-15T10:12:58.034465Z",
          "shell.execute_reply.started": "2024-03-15T10:12:58.02959Z",
          "shell.execute_reply": "2024-03-15T10:12:58.033368Z"
        },
        "trusted": true
      },
      "execution_count": null,
      "outputs": []
    },
    {
      "cell_type": "code",
      "source": [
        "learns = [ensemble() for _ in range(5)]"
      ],
      "metadata": {
        "id": "nNuFSIBj9dKN",
        "execution": {
          "iopub.status.busy": "2024-03-15T10:12:59.104608Z",
          "iopub.execute_input": "2024-03-15T10:12:59.105021Z",
          "iopub.status.idle": "2024-03-15T10:15:25.510262Z",
          "shell.execute_reply.started": "2024-03-15T10:12:59.104989Z",
          "shell.execute_reply": "2024-03-15T10:15:25.50929Z"
        },
        "trusted": true
      },
      "execution_count": null,
      "outputs": []
    },
    {
      "cell_type": "code",
      "source": [
        "ens_preds = torch.stack(learns).mean(0)"
      ],
      "metadata": {
        "id": "PRnGbn9lRUo3",
        "execution": {
          "iopub.status.busy": "2024-03-15T10:15:25.51234Z",
          "iopub.execute_input": "2024-03-15T10:15:25.512698Z",
          "iopub.status.idle": "2024-03-15T10:15:25.521695Z",
          "shell.execute_reply.started": "2024-03-15T10:15:25.512656Z",
          "shell.execute_reply": "2024-03-15T10:15:25.520783Z"
        },
        "trusted": true
      },
      "execution_count": null,
      "outputs": []
    },
    {
      "cell_type": "code",
      "source": [
        "targets =['Pastry', 'Z_Scratch', 'K_Scatch', 'Stains', 'Dirtiness', 'Bumps', 'Other_Faults']\n",
        "test_df[targets] = ens_preds\n",
        "\n",
        "test_df.to_csv('submission.csv', columns=['id','Pastry', 'Z_Scratch', 'K_Scatch', 'Stains', 'Dirtiness', 'Bumps', 'Other_Faults'], index=False)\n",
        "\n",
        "ens_sub = pd.read_csv('submission.csv')\n",
        "ens_sub.head()"
      ],
      "metadata": {
        "id": "38PaodywTPL-",
        "execution": {
          "iopub.status.busy": "2024-03-15T10:15:25.523333Z",
          "iopub.execute_input": "2024-03-15T10:15:25.523685Z",
          "iopub.status.idle": "2024-03-15T10:15:25.705335Z",
          "shell.execute_reply.started": "2024-03-15T10:15:25.523654Z",
          "shell.execute_reply": "2024-03-15T10:15:25.704158Z"
        },
        "trusted": true
      },
      "execution_count": null,
      "outputs": []
    },
    {
      "cell_type": "code",
      "source": [
        "!ls"
      ],
      "metadata": {
        "execution": {
          "iopub.status.busy": "2024-03-15T10:15:25.707309Z",
          "iopub.execute_input": "2024-03-15T10:15:25.707696Z",
          "iopub.status.idle": "2024-03-15T10:15:26.708282Z",
          "shell.execute_reply.started": "2024-03-15T10:15:25.707665Z",
          "shell.execute_reply": "2024-03-15T10:15:26.707055Z"
        },
        "trusted": true,
        "id": "2r8YR8P236-d"
      },
      "execution_count": null,
      "outputs": []
    },
    {
      "cell_type": "code",
      "source": [
        "!kaggle competitions submit -c playground-series-s4e3 -f submission.csv -m \"fastai baseline, adding neural network ensemble\""
      ],
      "metadata": {
        "id": "FOmvX0RpTs7K"
      },
      "execution_count": null,
      "outputs": []
    },
    {
      "cell_type": "code",
      "source": [
        "sub_df = pd.read_csv(path/'sample_submission.csv')"
      ],
      "metadata": {
        "id": "-phXR12Wy9Xa"
      },
      "execution_count": null,
      "outputs": []
    },
    {
      "cell_type": "markdown",
      "source": [
        "Random Forests"
      ],
      "metadata": {
        "id": "r6WAQfXF36-e"
      }
    },
    {
      "cell_type": "code",
      "source": [
        "from fastai.tabular.all import *\n",
        "import pandas as pd\n",
        "import matplotlib.pyplot as plt\n",
        "import seaborn as sns\n",
        "import numpy as np\n",
        "\n",
        "#hide\n",
        "#! [ -e /content ]\n",
        "\n",
        "#hide\n",
        "#This imports and sets up everything you will need for this notebook\n",
        "#\n",
        "#!pip install -Uqq fastbook\n",
        "#import fastbook\n",
        "#fastbook.setup_book()\n",
        "\n",
        "#from fastbook import *\n",
        "from fastai.tabular.all import *\n",
        "\n",
        "from fastai.imports import *\n",
        "np.set_printoptions(linewidth=130)\n",
        "\n",
        "# for working with paths in Python, I recommend using `pathlib.Path`\n",
        "from pathlib import Path\n",
        "import os\n",
        "import seaborn as sns\n",
        "import numpy as np\n",
        "from numpy import random\n",
        "\n",
        "from sklearn.model_selection import train_test_split\n",
        "from sklearn.metrics import mean_absolute_error\n",
        "\n",
        "from ipywidgets import interact\n",
        "\n",
        "\n",
        "\n",
        "matplotlib.rc('image', cmap='Greys')\n",
        "\n",
        "random.seed(42)\n",
        "\n",
        "# This Python 3 environment comes with many helpful analytics libraries installed\n",
        "# It is defined by the kaggle/python Docker image: https://github.com/kaggle/docker-python\n",
        "# For example, here's several helpful packages to load\n",
        "\n",
        "import numpy as np # linear algebra\n",
        "import pandas as pd # data processing, CSV file I/O (e.g. pd.read_csv)\n",
        "\n",
        "# Input data files are available in the read-only \"../input/\" directory\n",
        "# For example, running this (by clicking run or pressing Shift+Enter) will list all files under the input directory\n",
        "\n",
        "import os\n",
        "for dirname, _, filenames in os.walk('/kaggle/input'):\n",
        "    for filename in filenames:\n",
        "        print(os.path.join(dirname, filename))\n",
        "\n",
        "# You can write up to 20GB to the current directory (/kaggle/working/) that gets preserved as output when you create a version using \"Save & Run All\"\n",
        "# You can also write temporary files to /kaggle/temp/, but they won't be saved outside of the current session\n",
        "\n",
        "path = Path('/kaggle/input/playground-series-s4e3')\n",
        "path\n",
        "\n",
        "train_df = pd.read_csv(path/'train.csv')\n",
        "test_df = pd.read_csv(path/'test.csv')\n",
        "sub_df = pd.read_csv(path/'sample_submission.csv')\n",
        "\n",
        "y_names = ['Pastry', 'Z_Scratch', 'K_Scatch', 'Stains', 'Dirtiness', 'Bumps', 'Other_Faults']\n",
        "\n",
        "cont_names, cat_names = cont_cat_split(train_df,dep_var=['Pastry', 'Z_Scratch', 'K_Scatch', 'Stains', 'Dirtiness', 'Bumps', 'Other_Faults'])\n",
        "\n",
        "splits = RandomSplitter(valid_pct=0.2)(range_of(train_df))\n",
        "\n",
        "to = TabularPandas(train_df, procs=[Categorify, FillMissing,Normalize],\n",
        "                   cat_names = cat_names,\n",
        "                   cont_names = cont_names,\n",
        "                   y_names= y_names,\n",
        "                  # y_block = CategoryBlock,\n",
        "                   splits=splits)\n",
        "\n",
        "#X_train, y_train = to.train.xs, to.train.ys.values.ravel()\n",
        "#X_test, y_test = to.valid.xs, to.valid.ys.values.ravel()\n",
        "\n",
        "X_train, y_train = to.train.xs, to.train.ys.values\n",
        "X_test, y_test = to.valid.xs, to.valid.ys.values\n",
        "\n",
        "from sklearn.ensemble import RandomForestClassifier\n",
        "from sklearn.metrics import roc_auc_score\n",
        "\n",
        "rf = RandomForestClassifier(100, min_samples_leaf=5)\n",
        "rf.fit(X_train, y_train);\n",
        "#mean_absolute_error(y_test, rf.predict(X_test))\n",
        "\n",
        "roc_auc_score(y_test, rf.predict(X_test))"
      ],
      "metadata": {
        "execution": {
          "iopub.status.busy": "2024-03-27T09:05:30.892209Z",
          "iopub.execute_input": "2024-03-27T09:05:30.892749Z",
          "iopub.status.idle": "2024-03-27T09:05:50.732984Z",
          "shell.execute_reply.started": "2024-03-27T09:05:30.892714Z",
          "shell.execute_reply": "2024-03-27T09:05:50.731676Z"
        },
        "trusted": true,
        "id": "cb7ZvG6036-e"
      },
      "execution_count": null,
      "outputs": []
    },
    {
      "cell_type": "code",
      "source": [
        "X_train, y_train = to.train.xs, to.train.ys.values\n",
        "X_test, y_test = to.valid.xs, to.valid.ys.values\n",
        "\n",
        "from sklearn.ensemble import RandomForestClassifier\n",
        "from sklearn.metrics import roc_auc_score\n",
        "\n",
        "rf = RandomForestClassifier(100, min_samples_leaf=5)\n",
        "rf.fit(X_train, y_train);\n",
        "#mean_absolute_error(y_test, rf.predict(X_test))\n",
        "\n",
        "roc_auc_score(y_test, rf.predict(X_test))"
      ],
      "metadata": {
        "execution": {
          "iopub.status.busy": "2024-03-28T10:58:03.357323Z",
          "iopub.execute_input": "2024-03-28T10:58:03.357704Z",
          "iopub.status.idle": "2024-03-28T10:58:14.445104Z",
          "shell.execute_reply.started": "2024-03-28T10:58:03.357678Z",
          "shell.execute_reply": "2024-03-28T10:58:14.444083Z"
        },
        "trusted": true,
        "id": "eQNWltSj36-f"
      },
      "execution_count": null,
      "outputs": []
    },
    {
      "cell_type": "code",
      "source": [
        "y_train"
      ],
      "metadata": {
        "execution": {
          "iopub.status.busy": "2024-03-28T09:40:02.993196Z",
          "iopub.execute_input": "2024-03-28T09:40:02.993915Z",
          "iopub.status.idle": "2024-03-28T09:40:03.000601Z",
          "shell.execute_reply.started": "2024-03-28T09:40:02.993881Z",
          "shell.execute_reply": "2024-03-28T09:40:02.999659Z"
        },
        "trusted": true,
        "id": "aRVg_OyU36-g"
      },
      "execution_count": null,
      "outputs": []
    },
    {
      "cell_type": "markdown",
      "source": [
        "Kaggle Submission"
      ],
      "metadata": {
        "id": "E_lUvv9a36-g"
      }
    },
    {
      "cell_type": "code",
      "source": [
        "import pandas as pd\n",
        "\n",
        "# Assuming `rf` is your trained model and `X_test` is your test data\n",
        "# Make predictions\n",
        "preds = rf.predict(X_test)\n",
        "\n",
        "# Assuming `test_df` is your test DataFrame and it has an 'id' column\n",
        "# Create a DataFrame for the submission\n",
        "sub_df = pd.DataFrame(preds, columns=['Pastry', 'Z_Scratch', 'K_Scatch', 'Stains', 'Dirtiness', 'Bumps', 'Other_Faults'])\n",
        "sub_df['id'] = test_df['id'] # Add the 'id' column from the test data\n",
        "\n",
        "# Reorder the columns to match the submission format\n",
        "sub_df = sub_df[['id', 'Pastry', 'Z_Scratch', 'K_Scatch', 'Stains', 'Dirtiness', 'Bumps', 'Other_Faults']]\n",
        "\n",
        "# Save the submission DataFrame as a CSV file\n",
        "sub_df.to_csv('submission.csv', index=False)\n"
      ],
      "metadata": {
        "execution": {
          "iopub.status.busy": "2024-03-28T10:58:37.363865Z",
          "iopub.execute_input": "2024-03-28T10:58:37.364266Z",
          "iopub.status.idle": "2024-03-28T10:58:37.692222Z",
          "shell.execute_reply.started": "2024-03-28T10:58:37.364235Z",
          "shell.execute_reply": "2024-03-28T10:58:37.691187Z"
        },
        "trusted": true,
        "id": "8Vi4H35u36-h"
      },
      "execution_count": null,
      "outputs": []
    },
    {
      "cell_type": "code",
      "source": [
        "!ls"
      ],
      "metadata": {
        "execution": {
          "iopub.status.busy": "2024-03-28T10:58:33.622617Z",
          "iopub.execute_input": "2024-03-28T10:58:33.623007Z",
          "iopub.status.idle": "2024-03-28T10:58:34.637503Z",
          "shell.execute_reply.started": "2024-03-28T10:58:33.622978Z",
          "shell.execute_reply": "2024-03-28T10:58:34.636231Z"
        },
        "trusted": true,
        "id": "aJ-I9OGC36-h"
      },
      "execution_count": null,
      "outputs": []
    },
    {
      "cell_type": "code",
      "source": [],
      "metadata": {
        "id": "xVEw5nWU36-i"
      },
      "execution_count": null,
      "outputs": []
    },
    {
      "cell_type": "code",
      "source": [
        "# Assuming `sub_df` is your DataFrame that needs the 'id' column converted\n",
        "# Convert 'id' column to Int32 by rounding the floating-point numbers\n",
        "#submission_df['id'] = submission_df['id'].round().astype('Int32')\n",
        "\n",
        "# Now, 'id' column is of type Int32\n",
        "#print(submission_df['id'].dtype)\n"
      ],
      "metadata": {
        "execution": {
          "iopub.status.busy": "2024-03-27T08:44:42.626711Z",
          "iopub.execute_input": "2024-03-27T08:44:42.627198Z",
          "iopub.status.idle": "2024-03-27T08:44:42.635315Z",
          "shell.execute_reply.started": "2024-03-27T08:44:42.627165Z",
          "shell.execute_reply": "2024-03-27T08:44:42.633913Z"
        },
        "trusted": true,
        "id": "YuFmDSBm36-i"
      },
      "execution_count": null,
      "outputs": []
    },
    {
      "cell_type": "code",
      "source": [
        "# Save the submission DataFrame to a CSV file\n",
        "submission_df.to_csv('submission1.csv', index=False)"
      ],
      "metadata": {
        "execution": {
          "iopub.status.busy": "2024-03-27T08:45:13.399454Z",
          "iopub.execute_input": "2024-03-27T08:45:13.400825Z",
          "iopub.status.idle": "2024-03-27T08:45:13.423519Z",
          "shell.execute_reply.started": "2024-03-27T08:45:13.400772Z",
          "shell.execute_reply": "2024-03-27T08:45:13.421972Z"
        },
        "trusted": true,
        "id": "tYFhgHAZ36-j"
      },
      "execution_count": null,
      "outputs": []
    },
    {
      "cell_type": "code",
      "source": [
        "!ls"
      ],
      "metadata": {
        "execution": {
          "iopub.status.busy": "2024-03-27T08:45:15.611904Z",
          "iopub.execute_input": "2024-03-27T08:45:15.613185Z",
          "iopub.status.idle": "2024-03-27T08:45:16.717825Z",
          "shell.execute_reply.started": "2024-03-27T08:45:15.613131Z",
          "shell.execute_reply": "2024-03-27T08:45:16.716353Z"
        },
        "trusted": true,
        "id": "h5xinfeN36-j"
      },
      "execution_count": null,
      "outputs": []
    },
    {
      "cell_type": "code",
      "source": [
        "#sub_df = pd.read_csv(path/'sample_submission.csv')\n",
        "sub_tree = pd.read_csv('submission2.csv')"
      ],
      "metadata": {
        "execution": {
          "iopub.status.busy": "2024-03-27T08:47:02.484305Z",
          "iopub.execute_input": "2024-03-27T08:47:02.484928Z",
          "iopub.status.idle": "2024-03-27T08:47:02.50193Z",
          "shell.execute_reply.started": "2024-03-27T08:47:02.484872Z",
          "shell.execute_reply": "2024-03-27T08:47:02.500568Z"
        },
        "trusted": true,
        "id": "3EjxMYJs36-k"
      },
      "execution_count": null,
      "outputs": []
    },
    {
      "cell_type": "code",
      "source": [
        "sub_tree.info()"
      ],
      "metadata": {
        "execution": {
          "iopub.status.busy": "2024-03-27T08:47:39.797112Z",
          "iopub.execute_input": "2024-03-27T08:47:39.797519Z",
          "iopub.status.idle": "2024-03-27T08:47:39.813868Z",
          "shell.execute_reply.started": "2024-03-27T08:47:39.797489Z",
          "shell.execute_reply": "2024-03-27T08:47:39.812603Z"
        },
        "trusted": true,
        "id": "puaxhGAs36-k"
      },
      "execution_count": null,
      "outputs": []
    },
    {
      "cell_type": "code",
      "source": [
        "sub_df"
      ],
      "metadata": {
        "execution": {
          "iopub.status.busy": "2024-03-27T08:48:21.776168Z",
          "iopub.execute_input": "2024-03-27T08:48:21.776761Z",
          "iopub.status.idle": "2024-03-27T08:48:21.807128Z",
          "shell.execute_reply.started": "2024-03-27T08:48:21.776717Z",
          "shell.execute_reply": "2024-03-27T08:48:21.805923Z"
        },
        "trusted": true,
        "id": "DkLLDFPv36-k"
      },
      "execution_count": null,
      "outputs": []
    },
    {
      "cell_type": "code",
      "source": [
        "print(sub_df['id'].dtype)"
      ],
      "metadata": {
        "execution": {
          "iopub.status.busy": "2024-03-27T08:45:38.750891Z",
          "iopub.execute_input": "2024-03-27T08:45:38.75129Z",
          "iopub.status.idle": "2024-03-27T08:45:38.757759Z",
          "shell.execute_reply.started": "2024-03-27T08:45:38.75126Z",
          "shell.execute_reply": "2024-03-27T08:45:38.756382Z"
        },
        "trusted": true,
        "id": "EfrMsslA36-l"
      },
      "execution_count": null,
      "outputs": []
    },
    {
      "cell_type": "code",
      "source": [
        "#target_preds = preds[0]\n",
        "#target_preds"
      ],
      "metadata": {
        "execution": {
          "iopub.status.busy": "2024-03-27T06:40:05.79589Z",
          "iopub.execute_input": "2024-03-27T06:40:05.79635Z",
          "iopub.status.idle": "2024-03-27T06:40:05.802196Z",
          "shell.execute_reply.started": "2024-03-27T06:40:05.796317Z",
          "shell.execute_reply": "2024-03-27T06:40:05.800749Z"
        },
        "trusted": true,
        "id": "0XwAuY5E36-l"
      },
      "execution_count": null,
      "outputs": []
    },
    {
      "cell_type": "code",
      "source": [
        "!ls"
      ],
      "metadata": {
        "execution": {
          "iopub.status.busy": "2024-03-27T06:38:42.213875Z",
          "iopub.execute_input": "2024-03-27T06:38:42.214344Z",
          "iopub.status.idle": "2024-03-27T06:38:43.330295Z",
          "shell.execute_reply.started": "2024-03-27T06:38:42.214309Z",
          "shell.execute_reply": "2024-03-27T06:38:43.32869Z"
        },
        "trusted": true,
        "id": "NK71UWTm36-m"
      },
      "execution_count": null,
      "outputs": []
    }
  ]
}